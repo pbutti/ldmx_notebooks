{
 "cells": [
  {
   "cell_type": "code",
   "execution_count": 1,
   "id": "39d9e471-3b02-416e-ac55-9d6acbc33ace",
   "metadata": {},
   "outputs": [],
   "source": [
    "#Analysis notebook for a fast analysis of the propagation steps\n",
    "\n",
    "import warnings\n",
    "warnings.filterwarnings(\"ignore\")\n",
    "\n",
    "import uproot\n",
    "import awkward as ak\n",
    "import numpy as np\n",
    "import pandas as pd\n",
    "import plotly.express as px\n",
    "\n",
    "\n",
    "def get_flattened_array(events, coll, var):\n",
    "    array = events[coll]['%s.%s_' % (coll, var)].array(library='np')\n",
    "    array = np.array([i for j in array for i in j])\n",
    "    return array\n",
    "\n",
    "def get_flattened_array(events, branch):\n",
    "    array = events[branch].array(library='np')\n",
    "    array = np.array([i for j in array for i in j])\n",
    "    return array\n",
    "\n",
    "#using plotly as backend\n",
    "pd.options.plotting.backend = \"plotly\"\n",
    "\n",
    "#use pandas instead of awkward array (doesn't work?)\n",
    "uproot.default_libary=\"pd\""
   ]
  },
  {
   "cell_type": "code",
   "execution_count": 2,
   "id": "7da2546e-7707-4f67-994d-2799dd35eca3",
   "metadata": {},
   "outputs": [],
   "source": [
    "#The input file containing the propagation steps output and the hits\n",
    "\n",
    "inputFile=\"/Users/pbutti/sw/ldmx-sw/evtDisplay/recoil_evt_display.root\"\n"
   ]
  },
  {
   "cell_type": "code",
   "execution_count": 5,
   "id": "119eeb2c-f690-4b04-8b1f-05c8b0cec4ab",
   "metadata": {},
   "outputs": [
    {
     "name": "stdout",
     "output_type": "stream",
     "text": [
      "     entry  subentry         g_x       g_y        g_z  sensitive_id  \\\n",
      "0        0         7    6.830000  9.540158 -26.914301             0   \n",
      "1        0         8    7.000000  9.540348 -26.914370             1   \n",
      "2        0        11    9.999998  9.543124 -26.915564             0   \n",
      "3        0        14   12.999998  9.544810 -26.916758             2   \n",
      "4        0        15   13.170000  9.544874 -26.916826             0   \n",
      "..     ...       ...         ...       ...        ...           ...   \n",
      "191      6       103   93.370003  2.266081 -25.663023             0   \n",
      "192      6       191  181.029999  1.524546 -25.501158             0   \n",
      "193      6       193  182.199997  1.512178 -25.498993             0   \n",
      "194      6       194  183.000000  1.503691 -25.497513             8   \n",
      "195      6       195  183.369995  1.499758 -25.496828             0   \n",
      "\n",
      "     approach_id  layer_id  color_id  \n",
      "0              2         2         2  \n",
      "1              0         2       102  \n",
      "2              0         2         2  \n",
      "3              0         2       202  \n",
      "4              1         2         2  \n",
      "..           ...       ...       ...  \n",
      "191            1        10        10  \n",
      "192            2        12        12  \n",
      "193            0        12        12  \n",
      "194            0        12       812  \n",
      "195            1        12        12  \n",
      "\n",
      "[196 rows x 9 columns]\n"
     ]
    },
    {
     "data": {
      "application/vnd.plotly.v1+json": {
       "config": {
        "plotlyServerURL": "https://plot.ly"
       },
       "data": [
        {
         "hovertemplate": "g_x=%{x}<br>g_y=%{y}<extra></extra>",
         "legendgroup": "",
         "marker": {
          "color": "#636efa",
          "size": 4,
          "symbol": "circle"
         },
         "mode": "markers",
         "name": "",
         "orientation": "v",
         "showlegend": false,
         "type": "scatter",
         "x": [
          0.005713460501283407,
          1.0057039260864258,
          2.005694627761841,
          3.005685329437256,
          4.005676746368408,
          5.005667686462402,
          6.005659103393555,
          6.829999923706055,
          7,
          7.9999918937683105,
          8.999983787536621,
          9.99997615814209,
          10.999968528747559,
          11.999960899353027,
          12.999953269958496,
          13.170000076293945,
          14.169992446899414,
          15.1699857711792,
          16.16997718811035,
          17.169971466064453,
          18.169963836669922,
          19.16995620727539,
          20.169950485229492,
          21.16994285583496,
          21.829999923706055,
          22,
          22.99999237060547,
          23.99998664855957,
          24.99997901916504,
          25.99997329711914,
          26.99996566772461,
          27.999958038330078,
          28.170000076293945,
          29.169992446899414,
          30.169986724853516,
          31.169979095458984,
          32.16997146606445,
          33.16996383666992,
          34.16995620727539,
          35.16994857788086,
          36.16994094848633,
          36.83000183105469,
          37,
          37.99999237060547,
          38.99998474121094,
          39.999977111816406,
          40.999969482421875,
          41.999961853027344,
          42.99995040893555,
          43.16999816894531,
          44.16999053955078,
          45.16998291015625,
          46.16997528076172,
          47.16996383666992,
          48.16995620727539,
          49.169944763183594,
          50.16993713378906,
          51.169925689697266,
          51.83000183105469,
          52,
          52.9999885559082,
          53.99998092651367,
          54.999969482421875,
          55.99995803833008,
          56.99994659423828,
          57.999935150146484,
          58.16999816894531,
          59.169986724853516,
          60.16997528076172,
          61.16996383666992,
          62.169952392578125,
          63.16993713378906,
          64.169921875,
          65.16991424560547,
          66.1698989868164,
          67.16988372802734,
          68.16986846923828,
          69.16985321044922,
          70.16983795166016,
          71.1698226928711,
          72.16980743408203,
          73.16979217529297,
          74.1697769165039,
          75.16976165771484,
          76.16974639892578,
          77.16972351074219,
          78.16970825195312,
          79.16969299316406,
          80.16967010498047,
          81.1696548461914,
          82.16963195800781,
          83.16961669921875,
          84.16959381103516,
          85.1695785522461,
          86.1695556640625,
          87.1695327758789,
          88.16950988769531,
          89.16949462890625,
          90.16947174072266,
          91.02999877929688,
          92.02997589111328,
          92.19999694824219,
          93,
          93.37000274658203,
          94.36997985839844,
          95.36994934082031,
          96.36992645263672,
          97.36990356445312,
          98.36988067626953,
          99.3698501586914,
          100.36982727050781,
          101.36979675292969,
          102.3697738647461,
          103.36974334716797,
          104.36971282958984,
          105.36968994140625,
          106.36965942382812,
          107.36962890625,
          108.36959838867188,
          109.36956787109375,
          110.36953735351562,
          111.3695068359375,
          112.36947631835938,
          113.36944580078125,
          114.36941528320312,
          115.369384765625,
          116.36934661865234,
          117.36931610107422,
          118.3692855834961,
          119.36924743652344,
          120.36920928955078,
          121.36917877197266,
          122.369140625,
          123.36910247802734,
          124.36907196044922,
          125.36903381347656,
          126.3689956665039,
          127.36895751953125,
          128.36892700195312,
          129.36888122558594,
          130.36883544921875,
          131.36880493164062,
          132.36875915527344,
          133.3687286376953,
          134.36868286132812,
          135.36863708496094,
          136.3686065673828,
          137.36856079101562,
          138.36851501464844,
          139.36846923828125,
          140.36842346191406,
          141.36837768554688,
          142.36834716796875,
          143.36830139160156,
          144.36825561523438,
          145.3682098388672,
          146.3681640625,
          147.3681182861328,
          148.36807250976562,
          149.36802673339844,
          150.36798095703125,
          151.367919921875,
          152.3678741455078,
          153.36782836914062,
          154.36778259277344,
          155.36773681640625,
          156.36767578125,
          157.3676300048828,
          158.36758422851562,
          159.36752319335938,
          160.3674774169922,
          161.367431640625,
          162.36737060546875,
          163.36732482910156,
          164.3672637939453,
          165.36721801757812,
          166.36715698242188,
          167.3671112060547,
          168.36705017089844,
          169.36700439453125,
          170.366943359375,
          171.36688232421875,
          172.36683654785156,
          173.3667755126953,
          174.36671447753906,
          175.36666870117188,
          176.36660766601562,
          177.36654663085938,
          178.36648559570312,
          179.36642456054688,
          180.36636352539062,
          181.02999877929688,
          182.02993774414062,
          182.1999969482422,
          183,
          183.3699951171875,
          184.36993408203125,
          185.369873046875,
          186.36981201171875,
          187.3697509765625,
          188.36968994140625,
          189.36962890625,
          190.36956787109375,
          191.3695068359375,
          192.36944580078125,
          193.369384765625,
          194.3693084716797,
          195.36924743652344,
          196.3691864013672,
          197.36912536621094,
          198.36904907226562,
          199.36898803710938,
          200.36892700195312,
          201.3688507080078,
          202.36878967285156,
          203.3687286376953,
          204.1772003173828
         ],
         "xaxis": "x",
         "y": [
          -2.4068098068237305,
          -2.4044861793518066,
          -2.4022626876831055,
          -2.400139331817627,
          -2.398115634918213,
          -2.3961918354034424,
          -2.3943674564361572,
          -2.3929381370544434,
          -2.3926517963409424,
          -2.3910253047943115,
          -2.389497756958008,
          -2.3880691528320312,
          -2.3867390155792236,
          -2.385507106781006,
          -2.384373664855957,
          -2.384190559387207,
          -2.383171558380127,
          -2.3822505474090576,
          -2.3814268112182617,
          -2.3807003498077393,
          -2.3800711631774902,
          -2.3795387744903564,
          -2.379102945327759,
          -2.3787636756896973,
          -2.3785922527313232,
          -2.3785548210144043,
          -2.3783912658691406,
          -2.378323554992676,
          -2.3783509731292725,
          -2.3784737586975098,
          -2.3786916732788086,
          -2.3790040016174316,
          -2.3790664672851562,
          -2.3794894218444824,
          -2.3800063133239746,
          -2.380617141723633,
          -2.381321430206299,
          -2.3821191787719727,
          -2.383009672164917,
          -2.383992910385132,
          -2.385068416595459,
          -2.385828971862793,
          -2.38603138923645,
          -2.387275218963623,
          -2.388610601425171,
          -2.3900370597839355,
          -2.391554594039917,
          -2.393162488937378,
          -2.3948607444763184,
          -2.395158529281616,
          -2.3969619274139404,
          -2.3988547325134277,
          -2.400836706161499,
          -2.402907609939575,
          -2.405066967010498,
          -2.4073145389556885,
          -2.4096498489379883,
          -2.4120726585388184,
          -2.413719654083252,
          -2.414149761199951,
          -2.416731834411621,
          -2.4193999767303467,
          -2.422154426574707,
          -2.424994707107544,
          -2.42792010307312,
          -2.4309306144714355,
          -2.4314510822296143,
          -2.4345602989196777,
          -2.437753677368164,
          -2.441030740737915,
          -2.4443910121917725,
          -2.447834014892578,
          -2.451359510421753,
          -2.4549672603607178,
          -2.4586563110351562,
          -2.4624266624450684,
          -2.466277599334717,
          -2.4702091217041016,
          -2.4742202758789062,
          -2.4783108234405518,
          -2.482480525970459,
          -2.4867286682128906,
          -2.4910550117492676,
          -2.4954590797424316,
          -2.4999403953552246,
          -2.5044984817504883,
          -2.5091328620910645,
          -2.513843059539795,
          -2.5186290740966797,
          -2.5234897136688232,
          -2.5284252166748047,
          -2.5334348678588867,
          -2.538518190383911,
          -2.5436747074127197,
          -2.5489039421081543,
          -2.5542056560516357,
          -2.5595791339874268,
          -2.5650241374969482,
          -2.570540428161621,
          -2.575343608856201,
          -2.580990791320801,
          -2.5819578170776367,
          -2.5865352153778076,
          -2.588667154312134,
          -2.5944766998291016,
          -2.6003549098968506,
          -2.6063015460968018,
          -2.6123156547546387,
          -2.6183974742889404,
          -2.6245460510253906,
          -2.63076114654541,
          -2.637042284011841,
          -2.6433889865875244,
          -2.649801015853882,
          -2.656277656555176,
          -2.662818670272827,
          -2.6694235801696777,
          -2.6760916709899902,
          -2.6828231811523438,
          -2.6896169185638428,
          -2.6964731216430664,
          -2.7033908367156982,
          -2.7103700637817383,
          -2.717410087585449,
          -2.724510431289673,
          -2.731671094894409,
          -2.738891124725342,
          -2.7461705207824707,
          -2.7535088062286377,
          -2.7609052658081055,
          -2.768359899520874,
          -2.775871992111206,
          -2.7834413051605225,
          -2.791067600250244,
          -2.7987499237060547,
          -2.806488513946533,
          -2.8142824172973633,
          -2.822131633758545,
          -2.83003568649292,
          -2.83799409866333,
          -2.846006393432617,
          -2.8540725708007812,
          -2.862191915512085,
          -2.87036395072937,
          -2.8785886764526367,
          -2.8868653774261475,
          -2.8951938152313232,
          -2.9035730361938477,
          -2.9120025634765625,
          -2.9204814434051514,
          -2.929009199142456,
          -2.9375853538513184,
          -2.94620943069458,
          -2.954880714416504,
          -2.963599443435669,
          -2.972364902496338,
          -2.9811768531799316,
          -2.990035057067871,
          -2.998938798904419,
          -3.007888078689575,
          -3.0168826580047607,
          -3.0259218215942383,
          -3.0350053310394287,
          -3.044133186340332,
          -3.053304672241211,
          -3.0625195503234863,
          -3.071777582168579,
          -3.08107852935791,
          -3.0904219150543213,
          -3.0998075008392334,
          -3.1092350482940674,
          -3.118704080581665,
          -3.1282143592834473,
          -3.137765645980835,
          -3.147357702255249,
          -3.156989812850952,
          -3.1666622161865234,
          -3.1763744354248047,
          -3.1861259937286377,
          -3.1959166526794434,
          -3.2057464122772217,
          -3.2156145572662354,
          -3.2255213260650635,
          -3.2354660034179688,
          -3.245448350906372,
          -3.2554683685302734,
          -3.2655255794525146,
          -3.2756197452545166,
          -3.2857506275177,
          -3.2959179878234863,
          -3.306121349334717,
          -3.312912940979004,
          -3.323176145553589,
          -3.324925184249878,
          -3.3331663608551025,
          -3.3369858264923096,
          -3.3473315238952637,
          -3.3577120304107666,
          -3.3681273460388184,
          -3.3785769939422607,
          -3.3890607357025146,
          -3.399578332901001,
          -3.4101297855377197,
          -3.4207143783569336,
          -3.4313321113586426,
          -3.4419827461242676,
          -3.4526662826538086,
          -3.4633820056915283,
          -3.4741299152374268,
          -3.484909772872925,
          -3.4957213401794434,
          -3.5065643787384033,
          -3.5174386501312256,
          -3.528343915939331,
          -3.5392799377441406,
          -3.5502467155456543,
          -3.559135675430298
         ],
         "yaxis": "y"
        },
        {
         "error_y": {
          "array": [
           0.02,
           0.02,
           0.02,
           0.02,
           0.02,
           0.02,
           0.02,
           0.02,
           0.02,
           0.02
          ],
          "type": "data",
          "visible": true
         },
         "marker": {
          "line": {
           "width": 0
          },
          "size": 5
         },
         "mode": "markers",
         "name": "hits",
         "type": "scatter",
         "x": [
          6.900000095367432,
          12.899999618530273,
          21.899999618530273,
          27.899999618530273,
          36.900001525878906,
          42.900001525878906,
          51.900001525878906,
          57.900001525878906,
          92.9000015258789,
          182.89999389648438
         ],
         "y": [
          -2.378948211669922,
          -2.374272584915161,
          -2.376556158065796,
          -2.3821465969085693,
          -2.397494316101074,
          -2.412040948867798,
          -2.440347671508789,
          -2.461609363555908,
          -2.6385598182678223,
          -3.4410717487335205
         ]
        }
       ],
       "layout": {
        "autosize": true,
        "legend": {
         "tracegroupgap": 0
        },
        "margin": {
         "t": 60
        },
        "template": {
         "data": {
          "bar": [
           {
            "error_x": {
             "color": "#2a3f5f"
            },
            "error_y": {
             "color": "#2a3f5f"
            },
            "marker": {
             "line": {
              "color": "#E5ECF6",
              "width": 0.5
             },
             "pattern": {
              "fillmode": "overlay",
              "size": 10,
              "solidity": 0.2
             }
            },
            "type": "bar"
           }
          ],
          "barpolar": [
           {
            "marker": {
             "line": {
              "color": "#E5ECF6",
              "width": 0.5
             },
             "pattern": {
              "fillmode": "overlay",
              "size": 10,
              "solidity": 0.2
             }
            },
            "type": "barpolar"
           }
          ],
          "carpet": [
           {
            "aaxis": {
             "endlinecolor": "#2a3f5f",
             "gridcolor": "white",
             "linecolor": "white",
             "minorgridcolor": "white",
             "startlinecolor": "#2a3f5f"
            },
            "baxis": {
             "endlinecolor": "#2a3f5f",
             "gridcolor": "white",
             "linecolor": "white",
             "minorgridcolor": "white",
             "startlinecolor": "#2a3f5f"
            },
            "type": "carpet"
           }
          ],
          "choropleth": [
           {
            "colorbar": {
             "outlinewidth": 0,
             "ticks": ""
            },
            "type": "choropleth"
           }
          ],
          "contour": [
           {
            "colorbar": {
             "outlinewidth": 0,
             "ticks": ""
            },
            "colorscale": [
             [
              0,
              "#0d0887"
             ],
             [
              0.1111111111111111,
              "#46039f"
             ],
             [
              0.2222222222222222,
              "#7201a8"
             ],
             [
              0.3333333333333333,
              "#9c179e"
             ],
             [
              0.4444444444444444,
              "#bd3786"
             ],
             [
              0.5555555555555556,
              "#d8576b"
             ],
             [
              0.6666666666666666,
              "#ed7953"
             ],
             [
              0.7777777777777778,
              "#fb9f3a"
             ],
             [
              0.8888888888888888,
              "#fdca26"
             ],
             [
              1,
              "#f0f921"
             ]
            ],
            "type": "contour"
           }
          ],
          "contourcarpet": [
           {
            "colorbar": {
             "outlinewidth": 0,
             "ticks": ""
            },
            "type": "contourcarpet"
           }
          ],
          "heatmap": [
           {
            "colorbar": {
             "outlinewidth": 0,
             "ticks": ""
            },
            "colorscale": [
             [
              0,
              "#0d0887"
             ],
             [
              0.1111111111111111,
              "#46039f"
             ],
             [
              0.2222222222222222,
              "#7201a8"
             ],
             [
              0.3333333333333333,
              "#9c179e"
             ],
             [
              0.4444444444444444,
              "#bd3786"
             ],
             [
              0.5555555555555556,
              "#d8576b"
             ],
             [
              0.6666666666666666,
              "#ed7953"
             ],
             [
              0.7777777777777778,
              "#fb9f3a"
             ],
             [
              0.8888888888888888,
              "#fdca26"
             ],
             [
              1,
              "#f0f921"
             ]
            ],
            "type": "heatmap"
           }
          ],
          "heatmapgl": [
           {
            "colorbar": {
             "outlinewidth": 0,
             "ticks": ""
            },
            "colorscale": [
             [
              0,
              "#0d0887"
             ],
             [
              0.1111111111111111,
              "#46039f"
             ],
             [
              0.2222222222222222,
              "#7201a8"
             ],
             [
              0.3333333333333333,
              "#9c179e"
             ],
             [
              0.4444444444444444,
              "#bd3786"
             ],
             [
              0.5555555555555556,
              "#d8576b"
             ],
             [
              0.6666666666666666,
              "#ed7953"
             ],
             [
              0.7777777777777778,
              "#fb9f3a"
             ],
             [
              0.8888888888888888,
              "#fdca26"
             ],
             [
              1,
              "#f0f921"
             ]
            ],
            "type": "heatmapgl"
           }
          ],
          "histogram": [
           {
            "marker": {
             "pattern": {
              "fillmode": "overlay",
              "size": 10,
              "solidity": 0.2
             }
            },
            "type": "histogram"
           }
          ],
          "histogram2d": [
           {
            "colorbar": {
             "outlinewidth": 0,
             "ticks": ""
            },
            "colorscale": [
             [
              0,
              "#0d0887"
             ],
             [
              0.1111111111111111,
              "#46039f"
             ],
             [
              0.2222222222222222,
              "#7201a8"
             ],
             [
              0.3333333333333333,
              "#9c179e"
             ],
             [
              0.4444444444444444,
              "#bd3786"
             ],
             [
              0.5555555555555556,
              "#d8576b"
             ],
             [
              0.6666666666666666,
              "#ed7953"
             ],
             [
              0.7777777777777778,
              "#fb9f3a"
             ],
             [
              0.8888888888888888,
              "#fdca26"
             ],
             [
              1,
              "#f0f921"
             ]
            ],
            "type": "histogram2d"
           }
          ],
          "histogram2dcontour": [
           {
            "colorbar": {
             "outlinewidth": 0,
             "ticks": ""
            },
            "colorscale": [
             [
              0,
              "#0d0887"
             ],
             [
              0.1111111111111111,
              "#46039f"
             ],
             [
              0.2222222222222222,
              "#7201a8"
             ],
             [
              0.3333333333333333,
              "#9c179e"
             ],
             [
              0.4444444444444444,
              "#bd3786"
             ],
             [
              0.5555555555555556,
              "#d8576b"
             ],
             [
              0.6666666666666666,
              "#ed7953"
             ],
             [
              0.7777777777777778,
              "#fb9f3a"
             ],
             [
              0.8888888888888888,
              "#fdca26"
             ],
             [
              1,
              "#f0f921"
             ]
            ],
            "type": "histogram2dcontour"
           }
          ],
          "mesh3d": [
           {
            "colorbar": {
             "outlinewidth": 0,
             "ticks": ""
            },
            "type": "mesh3d"
           }
          ],
          "parcoords": [
           {
            "line": {
             "colorbar": {
              "outlinewidth": 0,
              "ticks": ""
             }
            },
            "type": "parcoords"
           }
          ],
          "pie": [
           {
            "automargin": true,
            "type": "pie"
           }
          ],
          "scatter": [
           {
            "marker": {
             "colorbar": {
              "outlinewidth": 0,
              "ticks": ""
             }
            },
            "type": "scatter"
           }
          ],
          "scatter3d": [
           {
            "line": {
             "colorbar": {
              "outlinewidth": 0,
              "ticks": ""
             }
            },
            "marker": {
             "colorbar": {
              "outlinewidth": 0,
              "ticks": ""
             }
            },
            "type": "scatter3d"
           }
          ],
          "scattercarpet": [
           {
            "marker": {
             "colorbar": {
              "outlinewidth": 0,
              "ticks": ""
             }
            },
            "type": "scattercarpet"
           }
          ],
          "scattergeo": [
           {
            "marker": {
             "colorbar": {
              "outlinewidth": 0,
              "ticks": ""
             }
            },
            "type": "scattergeo"
           }
          ],
          "scattergl": [
           {
            "marker": {
             "colorbar": {
              "outlinewidth": 0,
              "ticks": ""
             }
            },
            "type": "scattergl"
           }
          ],
          "scattermapbox": [
           {
            "marker": {
             "colorbar": {
              "outlinewidth": 0,
              "ticks": ""
             }
            },
            "type": "scattermapbox"
           }
          ],
          "scatterpolar": [
           {
            "marker": {
             "colorbar": {
              "outlinewidth": 0,
              "ticks": ""
             }
            },
            "type": "scatterpolar"
           }
          ],
          "scatterpolargl": [
           {
            "marker": {
             "colorbar": {
              "outlinewidth": 0,
              "ticks": ""
             }
            },
            "type": "scatterpolargl"
           }
          ],
          "scatterternary": [
           {
            "marker": {
             "colorbar": {
              "outlinewidth": 0,
              "ticks": ""
             }
            },
            "type": "scatterternary"
           }
          ],
          "surface": [
           {
            "colorbar": {
             "outlinewidth": 0,
             "ticks": ""
            },
            "colorscale": [
             [
              0,
              "#0d0887"
             ],
             [
              0.1111111111111111,
              "#46039f"
             ],
             [
              0.2222222222222222,
              "#7201a8"
             ],
             [
              0.3333333333333333,
              "#9c179e"
             ],
             [
              0.4444444444444444,
              "#bd3786"
             ],
             [
              0.5555555555555556,
              "#d8576b"
             ],
             [
              0.6666666666666666,
              "#ed7953"
             ],
             [
              0.7777777777777778,
              "#fb9f3a"
             ],
             [
              0.8888888888888888,
              "#fdca26"
             ],
             [
              1,
              "#f0f921"
             ]
            ],
            "type": "surface"
           }
          ],
          "table": [
           {
            "cells": {
             "fill": {
              "color": "#EBF0F8"
             },
             "line": {
              "color": "white"
             }
            },
            "header": {
             "fill": {
              "color": "#C8D4E3"
             },
             "line": {
              "color": "white"
             }
            },
            "type": "table"
           }
          ]
         },
         "layout": {
          "annotationdefaults": {
           "arrowcolor": "#2a3f5f",
           "arrowhead": 0,
           "arrowwidth": 1
          },
          "autotypenumbers": "strict",
          "coloraxis": {
           "colorbar": {
            "outlinewidth": 0,
            "ticks": ""
           }
          },
          "colorscale": {
           "diverging": [
            [
             0,
             "#8e0152"
            ],
            [
             0.1,
             "#c51b7d"
            ],
            [
             0.2,
             "#de77ae"
            ],
            [
             0.3,
             "#f1b6da"
            ],
            [
             0.4,
             "#fde0ef"
            ],
            [
             0.5,
             "#f7f7f7"
            ],
            [
             0.6,
             "#e6f5d0"
            ],
            [
             0.7,
             "#b8e186"
            ],
            [
             0.8,
             "#7fbc41"
            ],
            [
             0.9,
             "#4d9221"
            ],
            [
             1,
             "#276419"
            ]
           ],
           "sequential": [
            [
             0,
             "#0d0887"
            ],
            [
             0.1111111111111111,
             "#46039f"
            ],
            [
             0.2222222222222222,
             "#7201a8"
            ],
            [
             0.3333333333333333,
             "#9c179e"
            ],
            [
             0.4444444444444444,
             "#bd3786"
            ],
            [
             0.5555555555555556,
             "#d8576b"
            ],
            [
             0.6666666666666666,
             "#ed7953"
            ],
            [
             0.7777777777777778,
             "#fb9f3a"
            ],
            [
             0.8888888888888888,
             "#fdca26"
            ],
            [
             1,
             "#f0f921"
            ]
           ],
           "sequentialminus": [
            [
             0,
             "#0d0887"
            ],
            [
             0.1111111111111111,
             "#46039f"
            ],
            [
             0.2222222222222222,
             "#7201a8"
            ],
            [
             0.3333333333333333,
             "#9c179e"
            ],
            [
             0.4444444444444444,
             "#bd3786"
            ],
            [
             0.5555555555555556,
             "#d8576b"
            ],
            [
             0.6666666666666666,
             "#ed7953"
            ],
            [
             0.7777777777777778,
             "#fb9f3a"
            ],
            [
             0.8888888888888888,
             "#fdca26"
            ],
            [
             1,
             "#f0f921"
            ]
           ]
          },
          "colorway": [
           "#636efa",
           "#EF553B",
           "#00cc96",
           "#ab63fa",
           "#FFA15A",
           "#19d3f3",
           "#FF6692",
           "#B6E880",
           "#FF97FF",
           "#FECB52"
          ],
          "font": {
           "color": "#2a3f5f"
          },
          "geo": {
           "bgcolor": "white",
           "lakecolor": "white",
           "landcolor": "#E5ECF6",
           "showlakes": true,
           "showland": true,
           "subunitcolor": "white"
          },
          "hoverlabel": {
           "align": "left"
          },
          "hovermode": "closest",
          "mapbox": {
           "style": "light"
          },
          "paper_bgcolor": "white",
          "plot_bgcolor": "#E5ECF6",
          "polar": {
           "angularaxis": {
            "gridcolor": "white",
            "linecolor": "white",
            "ticks": ""
           },
           "bgcolor": "#E5ECF6",
           "radialaxis": {
            "gridcolor": "white",
            "linecolor": "white",
            "ticks": ""
           }
          },
          "scene": {
           "xaxis": {
            "backgroundcolor": "#E5ECF6",
            "gridcolor": "white",
            "gridwidth": 2,
            "linecolor": "white",
            "showbackground": true,
            "ticks": "",
            "zerolinecolor": "white"
           },
           "yaxis": {
            "backgroundcolor": "#E5ECF6",
            "gridcolor": "white",
            "gridwidth": 2,
            "linecolor": "white",
            "showbackground": true,
            "ticks": "",
            "zerolinecolor": "white"
           },
           "zaxis": {
            "backgroundcolor": "#E5ECF6",
            "gridcolor": "white",
            "gridwidth": 2,
            "linecolor": "white",
            "showbackground": true,
            "ticks": "",
            "zerolinecolor": "white"
           }
          },
          "shapedefaults": {
           "line": {
            "color": "#2a3f5f"
           }
          },
          "ternary": {
           "aaxis": {
            "gridcolor": "white",
            "linecolor": "white",
            "ticks": ""
           },
           "baxis": {
            "gridcolor": "white",
            "linecolor": "white",
            "ticks": ""
           },
           "bgcolor": "#E5ECF6",
           "caxis": {
            "gridcolor": "white",
            "linecolor": "white",
            "ticks": ""
           }
          },
          "title": {
           "x": 0.05
          },
          "xaxis": {
           "automargin": true,
           "gridcolor": "white",
           "linecolor": "white",
           "ticks": "",
           "title": {
            "standoff": 15
           },
           "zerolinecolor": "white",
           "zerolinewidth": 2
          },
          "yaxis": {
           "automargin": true,
           "gridcolor": "white",
           "linecolor": "white",
           "ticks": "",
           "title": {
            "standoff": 15
           },
           "zerolinecolor": "white",
           "zerolinewidth": 2
          }
         }
        },
        "xaxis": {
         "anchor": "y",
         "autorange": true,
         "domain": [
          0,
          1
         ],
         "range": [
          -12.111667943375322,
          216.29458172125942
         ],
         "title": {
          "text": "g_x"
         },
         "type": "linear"
        },
        "yaxis": {
         "anchor": "x",
         "autorange": true,
         "domain": [
          0,
          1
         ],
         "range": [
          -3.645638666544205,
          -2.2863059490399484
         ],
         "title": {
          "text": "g_y"
         },
         "type": "linear"
        }
       }
      },
      "image/png": "[encoded data removed]",
      "text/html": [
       "<div>                            <div id=\"968df902-94ad-414e-8699-9da17be298b3\" class=\"plotly-graph-div\" style=\"height:525px; width:100%;\"></div>            <script type=\"text/javascript\">                require([\"plotly\"], function(Plotly) {                    window.PLOTLYENV=window.PLOTLYENV || {};                                    if (document.getElementById(\"968df902-94ad-414e-8699-9da17be298b3\")) {                    Plotly.newPlot(                        \"968df902-94ad-414e-8699-9da17be298b3\",                        [{\"hovertemplate\":\"g_x=%{x}<br>g_y=%{y}<extra></extra>\",\"legendgroup\":\"\",\"marker\":{\"color\":\"#636efa\",\"symbol\":\"circle\",\"size\":4},\"mode\":\"markers\",\"name\":\"\",\"orientation\":\"v\",\"showlegend\":false,\"x\":[0.005713460501283407,1.0057039260864258,2.005694627761841,3.005685329437256,4.005676746368408,5.005667686462402,6.005659103393555,6.829999923706055,7.0,7.9999918937683105,8.999983787536621,9.99997615814209,10.999968528747559,11.999960899353027,12.999953269958496,13.170000076293945,14.169992446899414,15.1699857711792,16.16997718811035,17.169971466064453,18.169963836669922,19.16995620727539,20.169950485229492,21.16994285583496,21.829999923706055,22.0,22.99999237060547,23.99998664855957,24.99997901916504,25.99997329711914,26.99996566772461,27.999958038330078,28.170000076293945,29.169992446899414,30.169986724853516,31.169979095458984,32.16997146606445,33.16996383666992,34.16995620727539,35.16994857788086,36.16994094848633,36.83000183105469,37.0,37.99999237060547,38.99998474121094,39.999977111816406,40.999969482421875,41.999961853027344,42.99995040893555,43.16999816894531,44.16999053955078,45.16998291015625,46.16997528076172,47.16996383666992,48.16995620727539,49.169944763183594,50.16993713378906,51.169925689697266,51.83000183105469,52.0,52.9999885559082,53.99998092651367,54.999969482421875,55.99995803833008,56.99994659423828,57.999935150146484,58.16999816894531,59.169986724853516,60.16997528076172,61.16996383666992,62.169952392578125,63.16993713378906,64.169921875,65.16991424560547,66.1698989868164,67.16988372802734,68.16986846923828,69.16985321044922,70.16983795166016,71.1698226928711,72.16980743408203,73.16979217529297,74.1697769165039,75.16976165771484,76.16974639892578,77.16972351074219,78.16970825195312,79.16969299316406,80.16967010498047,81.1696548461914,82.16963195800781,83.16961669921875,84.16959381103516,85.1695785522461,86.1695556640625,87.1695327758789,88.16950988769531,89.16949462890625,90.16947174072266,91.02999877929688,92.02997589111328,92.19999694824219,93.0,93.37000274658203,94.36997985839844,95.36994934082031,96.36992645263672,97.36990356445312,98.36988067626953,99.3698501586914,100.36982727050781,101.36979675292969,102.3697738647461,103.36974334716797,104.36971282958984,105.36968994140625,106.36965942382812,107.36962890625,108.36959838867188,109.36956787109375,110.36953735351562,111.3695068359375,112.36947631835938,113.36944580078125,114.36941528320312,115.369384765625,116.36934661865234,117.36931610107422,118.3692855834961,119.36924743652344,120.36920928955078,121.36917877197266,122.369140625,123.36910247802734,124.36907196044922,125.36903381347656,126.3689956665039,127.36895751953125,128.36892700195312,129.36888122558594,130.36883544921875,131.36880493164062,132.36875915527344,133.3687286376953,134.36868286132812,135.36863708496094,136.3686065673828,137.36856079101562,138.36851501464844,139.36846923828125,140.36842346191406,141.36837768554688,142.36834716796875,143.36830139160156,144.36825561523438,145.3682098388672,146.3681640625,147.3681182861328,148.36807250976562,149.36802673339844,150.36798095703125,151.367919921875,152.3678741455078,153.36782836914062,154.36778259277344,155.36773681640625,156.36767578125,157.3676300048828,158.36758422851562,159.36752319335938,160.3674774169922,161.367431640625,162.36737060546875,163.36732482910156,164.3672637939453,165.36721801757812,166.36715698242188,167.3671112060547,168.36705017089844,169.36700439453125,170.366943359375,171.36688232421875,172.36683654785156,173.3667755126953,174.36671447753906,175.36666870117188,176.36660766601562,177.36654663085938,178.36648559570312,179.36642456054688,180.36636352539062,181.02999877929688,182.02993774414062,182.1999969482422,183.0,183.3699951171875,184.36993408203125,185.369873046875,186.36981201171875,187.3697509765625,188.36968994140625,189.36962890625,190.36956787109375,191.3695068359375,192.36944580078125,193.369384765625,194.3693084716797,195.36924743652344,196.3691864013672,197.36912536621094,198.36904907226562,199.36898803710938,200.36892700195312,201.3688507080078,202.36878967285156,203.3687286376953,204.1772003173828],\"xaxis\":\"x\",\"y\":[-2.4068098068237305,-2.4044861793518066,-2.4022626876831055,-2.400139331817627,-2.398115634918213,-2.3961918354034424,-2.3943674564361572,-2.3929381370544434,-2.3926517963409424,-2.3910253047943115,-2.389497756958008,-2.3880691528320312,-2.3867390155792236,-2.385507106781006,-2.384373664855957,-2.384190559387207,-2.383171558380127,-2.3822505474090576,-2.3814268112182617,-2.3807003498077393,-2.3800711631774902,-2.3795387744903564,-2.379102945327759,-2.3787636756896973,-2.3785922527313232,-2.3785548210144043,-2.3783912658691406,-2.378323554992676,-2.3783509731292725,-2.3784737586975098,-2.3786916732788086,-2.3790040016174316,-2.3790664672851562,-2.3794894218444824,-2.3800063133239746,-2.380617141723633,-2.381321430206299,-2.3821191787719727,-2.383009672164917,-2.383992910385132,-2.385068416595459,-2.385828971862793,-2.38603138923645,-2.387275218963623,-2.388610601425171,-2.3900370597839355,-2.391554594039917,-2.393162488937378,-2.3948607444763184,-2.395158529281616,-2.3969619274139404,-2.3988547325134277,-2.400836706161499,-2.402907609939575,-2.405066967010498,-2.4073145389556885,-2.4096498489379883,-2.4120726585388184,-2.413719654083252,-2.414149761199951,-2.416731834411621,-2.4193999767303467,-2.422154426574707,-2.424994707107544,-2.42792010307312,-2.4309306144714355,-2.4314510822296143,-2.4345602989196777,-2.437753677368164,-2.441030740737915,-2.4443910121917725,-2.447834014892578,-2.451359510421753,-2.4549672603607178,-2.4586563110351562,-2.4624266624450684,-2.466277599334717,-2.4702091217041016,-2.4742202758789062,-2.4783108234405518,-2.482480525970459,-2.4867286682128906,-2.4910550117492676,-2.4954590797424316,-2.4999403953552246,-2.5044984817504883,-2.5091328620910645,-2.513843059539795,-2.5186290740966797,-2.5234897136688232,-2.5284252166748047,-2.5334348678588867,-2.538518190383911,-2.5436747074127197,-2.5489039421081543,-2.5542056560516357,-2.5595791339874268,-2.5650241374969482,-2.570540428161621,-2.575343608856201,-2.580990791320801,-2.5819578170776367,-2.5865352153778076,-2.588667154312134,-2.5944766998291016,-2.6003549098968506,-2.6063015460968018,-2.6123156547546387,-2.6183974742889404,-2.6245460510253906,-2.63076114654541,-2.637042284011841,-2.6433889865875244,-2.649801015853882,-2.656277656555176,-2.662818670272827,-2.6694235801696777,-2.6760916709899902,-2.6828231811523438,-2.6896169185638428,-2.6964731216430664,-2.7033908367156982,-2.7103700637817383,-2.717410087585449,-2.724510431289673,-2.731671094894409,-2.738891124725342,-2.7461705207824707,-2.7535088062286377,-2.7609052658081055,-2.768359899520874,-2.775871992111206,-2.7834413051605225,-2.791067600250244,-2.7987499237060547,-2.806488513946533,-2.8142824172973633,-2.822131633758545,-2.83003568649292,-2.83799409866333,-2.846006393432617,-2.8540725708007812,-2.862191915512085,-2.87036395072937,-2.8785886764526367,-2.8868653774261475,-2.8951938152313232,-2.9035730361938477,-2.9120025634765625,-2.9204814434051514,-2.929009199142456,-2.9375853538513184,-2.94620943069458,-2.954880714416504,-2.963599443435669,-2.972364902496338,-2.9811768531799316,-2.990035057067871,-2.998938798904419,-3.007888078689575,-3.0168826580047607,-3.0259218215942383,-3.0350053310394287,-3.044133186340332,-3.053304672241211,-3.0625195503234863,-3.071777582168579,-3.08107852935791,-3.0904219150543213,-3.0998075008392334,-3.1092350482940674,-3.118704080581665,-3.1282143592834473,-3.137765645980835,-3.147357702255249,-3.156989812850952,-3.1666622161865234,-3.1763744354248047,-3.1861259937286377,-3.1959166526794434,-3.2057464122772217,-3.2156145572662354,-3.2255213260650635,-3.2354660034179688,-3.245448350906372,-3.2554683685302734,-3.2655255794525146,-3.2756197452545166,-3.2857506275177,-3.2959179878234863,-3.306121349334717,-3.312912940979004,-3.323176145553589,-3.324925184249878,-3.3331663608551025,-3.3369858264923096,-3.3473315238952637,-3.3577120304107666,-3.3681273460388184,-3.3785769939422607,-3.3890607357025146,-3.399578332901001,-3.4101297855377197,-3.4207143783569336,-3.4313321113586426,-3.4419827461242676,-3.4526662826538086,-3.4633820056915283,-3.4741299152374268,-3.484909772872925,-3.4957213401794434,-3.5065643787384033,-3.5174386501312256,-3.528343915939331,-3.5392799377441406,-3.5502467155456543,-3.559135675430298],\"yaxis\":\"y\",\"type\":\"scatter\"},{\"error_y\":{\"array\":[0.02,0.02,0.02,0.02,0.02,0.02,0.02,0.02,0.02,0.02],\"type\":\"data\",\"visible\":true},\"marker\":{\"line\":{\"width\":0},\"size\":5},\"mode\":\"markers\",\"name\":\"hits\",\"x\":[6.900000095367432,12.899999618530273,21.899999618530273,27.899999618530273,36.900001525878906,42.900001525878906,51.900001525878906,57.900001525878906,92.9000015258789,182.89999389648438],\"y\":[-2.378948211669922,-2.374272584915161,-2.376556158065796,-2.3821465969085693,-2.397494316101074,-2.412040948867798,-2.440347671508789,-2.461609363555908,-2.6385598182678223,-3.4410717487335205],\"type\":\"scatter\"}],                        {\"template\":{\"data\":{\"bar\":[{\"error_x\":{\"color\":\"#2a3f5f\"},\"error_y\":{\"color\":\"#2a3f5f\"},\"marker\":{\"line\":{\"color\":\"#E5ECF6\",\"width\":0.5},\"pattern\":{\"fillmode\":\"overlay\",\"size\":10,\"solidity\":0.2}},\"type\":\"bar\"}],\"barpolar\":[{\"marker\":{\"line\":{\"color\":\"#E5ECF6\",\"width\":0.5},\"pattern\":{\"fillmode\":\"overlay\",\"size\":10,\"solidity\":0.2}},\"type\":\"barpolar\"}],\"carpet\":[{\"aaxis\":{\"endlinecolor\":\"#2a3f5f\",\"gridcolor\":\"white\",\"linecolor\":\"white\",\"minorgridcolor\":\"white\",\"startlinecolor\":\"#2a3f5f\"},\"baxis\":{\"endlinecolor\":\"#2a3f5f\",\"gridcolor\":\"white\",\"linecolor\":\"white\",\"minorgridcolor\":\"white\",\"startlinecolor\":\"#2a3f5f\"},\"type\":\"carpet\"}],\"choropleth\":[{\"colorbar\":{\"outlinewidth\":0,\"ticks\":\"\"},\"type\":\"choropleth\"}],\"contour\":[{\"colorbar\":{\"outlinewidth\":0,\"ticks\":\"\"},\"colorscale\":[[0.0,\"#0d0887\"],[0.1111111111111111,\"#46039f\"],[0.2222222222222222,\"#7201a8\"],[0.3333333333333333,\"#9c179e\"],[0.4444444444444444,\"#bd3786\"],[0.5555555555555556,\"#d8576b\"],[0.6666666666666666,\"#ed7953\"],[0.7777777777777778,\"#fb9f3a\"],[0.8888888888888888,\"#fdca26\"],[1.0,\"#f0f921\"]],\"type\":\"contour\"}],\"contourcarpet\":[{\"colorbar\":{\"outlinewidth\":0,\"ticks\":\"\"},\"type\":\"contourcarpet\"}],\"heatmap\":[{\"colorbar\":{\"outlinewidth\":0,\"ticks\":\"\"},\"colorscale\":[[0.0,\"#0d0887\"],[0.1111111111111111,\"#46039f\"],[0.2222222222222222,\"#7201a8\"],[0.3333333333333333,\"#9c179e\"],[0.4444444444444444,\"#bd3786\"],[0.5555555555555556,\"#d8576b\"],[0.6666666666666666,\"#ed7953\"],[0.7777777777777778,\"#fb9f3a\"],[0.8888888888888888,\"#fdca26\"],[1.0,\"#f0f921\"]],\"type\":\"heatmap\"}],\"heatmapgl\":[{\"colorbar\":{\"outlinewidth\":0,\"ticks\":\"\"},\"colorscale\":[[0.0,\"#0d0887\"],[0.1111111111111111,\"#46039f\"],[0.2222222222222222,\"#7201a8\"],[0.3333333333333333,\"#9c179e\"],[0.4444444444444444,\"#bd3786\"],[0.5555555555555556,\"#d8576b\"],[0.6666666666666666,\"#ed7953\"],[0.7777777777777778,\"#fb9f3a\"],[0.8888888888888888,\"#fdca26\"],[1.0,\"#f0f921\"]],\"type\":\"heatmapgl\"}],\"histogram\":[{\"marker\":{\"pattern\":{\"fillmode\":\"overlay\",\"size\":10,\"solidity\":0.2}},\"type\":\"histogram\"}],\"histogram2d\":[{\"colorbar\":{\"outlinewidth\":0,\"ticks\":\"\"},\"colorscale\":[[0.0,\"#0d0887\"],[0.1111111111111111,\"#46039f\"],[0.2222222222222222,\"#7201a8\"],[0.3333333333333333,\"#9c179e\"],[0.4444444444444444,\"#bd3786\"],[0.5555555555555556,\"#d8576b\"],[0.6666666666666666,\"#ed7953\"],[0.7777777777777778,\"#fb9f3a\"],[0.8888888888888888,\"#fdca26\"],[1.0,\"#f0f921\"]],\"type\":\"histogram2d\"}],\"histogram2dcontour\":[{\"colorbar\":{\"outlinewidth\":0,\"ticks\":\"\"},\"colorscale\":[[0.0,\"#0d0887\"],[0.1111111111111111,\"#46039f\"],[0.2222222222222222,\"#7201a8\"],[0.3333333333333333,\"#9c179e\"],[0.4444444444444444,\"#bd3786\"],[0.5555555555555556,\"#d8576b\"],[0.6666666666666666,\"#ed7953\"],[0.7777777777777778,\"#fb9f3a\"],[0.8888888888888888,\"#fdca26\"],[1.0,\"#f0f921\"]],\"type\":\"histogram2dcontour\"}],\"mesh3d\":[{\"colorbar\":{\"outlinewidth\":0,\"ticks\":\"\"},\"type\":\"mesh3d\"}],\"parcoords\":[{\"line\":{\"colorbar\":{\"outlinewidth\":0,\"ticks\":\"\"}},\"type\":\"parcoords\"}],\"pie\":[{\"automargin\":true,\"type\":\"pie\"}],\"scatter\":[{\"marker\":{\"colorbar\":{\"outlinewidth\":0,\"ticks\":\"\"}},\"type\":\"scatter\"}],\"scatter3d\":[{\"line\":{\"colorbar\":{\"outlinewidth\":0,\"ticks\":\"\"}},\"marker\":{\"colorbar\":{\"outlinewidth\":0,\"ticks\":\"\"}},\"type\":\"scatter3d\"}],\"scattercarpet\":[{\"marker\":{\"colorbar\":{\"outlinewidth\":0,\"ticks\":\"\"}},\"type\":\"scattercarpet\"}],\"scattergeo\":[{\"marker\":{\"colorbar\":{\"outlinewidth\":0,\"ticks\":\"\"}},\"type\":\"scattergeo\"}],\"scattergl\":[{\"marker\":{\"colorbar\":{\"outlinewidth\":0,\"ticks\":\"\"}},\"type\":\"scattergl\"}],\"scattermapbox\":[{\"marker\":{\"colorbar\":{\"outlinewidth\":0,\"ticks\":\"\"}},\"type\":\"scattermapbox\"}],\"scatterpolar\":[{\"marker\":{\"colorbar\":{\"outlinewidth\":0,\"ticks\":\"\"}},\"type\":\"scatterpolar\"}],\"scatterpolargl\":[{\"marker\":{\"colorbar\":{\"outlinewidth\":0,\"ticks\":\"\"}},\"type\":\"scatterpolargl\"}],\"scatterternary\":[{\"marker\":{\"colorbar\":{\"outlinewidth\":0,\"ticks\":\"\"}},\"type\":\"scatterternary\"}],\"surface\":[{\"colorbar\":{\"outlinewidth\":0,\"ticks\":\"\"},\"colorscale\":[[0.0,\"#0d0887\"],[0.1111111111111111,\"#46039f\"],[0.2222222222222222,\"#7201a8\"],[0.3333333333333333,\"#9c179e\"],[0.4444444444444444,\"#bd3786\"],[0.5555555555555556,\"#d8576b\"],[0.6666666666666666,\"#ed7953\"],[0.7777777777777778,\"#fb9f3a\"],[0.8888888888888888,\"#fdca26\"],[1.0,\"#f0f921\"]],\"type\":\"surface\"}],\"table\":[{\"cells\":{\"fill\":{\"color\":\"#EBF0F8\"},\"line\":{\"color\":\"white\"}},\"header\":{\"fill\":{\"color\":\"#C8D4E3\"},\"line\":{\"color\":\"white\"}},\"type\":\"table\"}]},\"layout\":{\"annotationdefaults\":{\"arrowcolor\":\"#2a3f5f\",\"arrowhead\":0,\"arrowwidth\":1},\"autotypenumbers\":\"strict\",\"coloraxis\":{\"colorbar\":{\"outlinewidth\":0,\"ticks\":\"\"}},\"colorscale\":{\"diverging\":[[0,\"#8e0152\"],[0.1,\"#c51b7d\"],[0.2,\"#de77ae\"],[0.3,\"#f1b6da\"],[0.4,\"#fde0ef\"],[0.5,\"#f7f7f7\"],[0.6,\"#e6f5d0\"],[0.7,\"#b8e186\"],[0.8,\"#7fbc41\"],[0.9,\"#4d9221\"],[1,\"#276419\"]],\"sequential\":[[0.0,\"#0d0887\"],[0.1111111111111111,\"#46039f\"],[0.2222222222222222,\"#7201a8\"],[0.3333333333333333,\"#9c179e\"],[0.4444444444444444,\"#bd3786\"],[0.5555555555555556,\"#d8576b\"],[0.6666666666666666,\"#ed7953\"],[0.7777777777777778,\"#fb9f3a\"],[0.8888888888888888,\"#fdca26\"],[1.0,\"#f0f921\"]],\"sequentialminus\":[[0.0,\"#0d0887\"],[0.1111111111111111,\"#46039f\"],[0.2222222222222222,\"#7201a8\"],[0.3333333333333333,\"#9c179e\"],[0.4444444444444444,\"#bd3786\"],[0.5555555555555556,\"#d8576b\"],[0.6666666666666666,\"#ed7953\"],[0.7777777777777778,\"#fb9f3a\"],[0.8888888888888888,\"#fdca26\"],[1.0,\"#f0f921\"]]},\"colorway\":[\"#636efa\",\"#EF553B\",\"#00cc96\",\"#ab63fa\",\"#FFA15A\",\"#19d3f3\",\"#FF6692\",\"#B6E880\",\"#FF97FF\",\"#FECB52\"],\"font\":{\"color\":\"#2a3f5f\"},\"geo\":{\"bgcolor\":\"white\",\"lakecolor\":\"white\",\"landcolor\":\"#E5ECF6\",\"showlakes\":true,\"showland\":true,\"subunitcolor\":\"white\"},\"hoverlabel\":{\"align\":\"left\"},\"hovermode\":\"closest\",\"mapbox\":{\"style\":\"light\"},\"paper_bgcolor\":\"white\",\"plot_bgcolor\":\"#E5ECF6\",\"polar\":{\"angularaxis\":{\"gridcolor\":\"white\",\"linecolor\":\"white\",\"ticks\":\"\"},\"bgcolor\":\"#E5ECF6\",\"radialaxis\":{\"gridcolor\":\"white\",\"linecolor\":\"white\",\"ticks\":\"\"}},\"scene\":{\"xaxis\":{\"backgroundcolor\":\"#E5ECF6\",\"gridcolor\":\"white\",\"gridwidth\":2,\"linecolor\":\"white\",\"showbackground\":true,\"ticks\":\"\",\"zerolinecolor\":\"white\"},\"yaxis\":{\"backgroundcolor\":\"#E5ECF6\",\"gridcolor\":\"white\",\"gridwidth\":2,\"linecolor\":\"white\",\"showbackground\":true,\"ticks\":\"\",\"zerolinecolor\":\"white\"},\"zaxis\":{\"backgroundcolor\":\"#E5ECF6\",\"gridcolor\":\"white\",\"gridwidth\":2,\"linecolor\":\"white\",\"showbackground\":true,\"ticks\":\"\",\"zerolinecolor\":\"white\"}},\"shapedefaults\":{\"line\":{\"color\":\"#2a3f5f\"}},\"ternary\":{\"aaxis\":{\"gridcolor\":\"white\",\"linecolor\":\"white\",\"ticks\":\"\"},\"baxis\":{\"gridcolor\":\"white\",\"linecolor\":\"white\",\"ticks\":\"\"},\"bgcolor\":\"#E5ECF6\",\"caxis\":{\"gridcolor\":\"white\",\"linecolor\":\"white\",\"ticks\":\"\"}},\"title\":{\"x\":0.05},\"xaxis\":{\"automargin\":true,\"gridcolor\":\"white\",\"linecolor\":\"white\",\"ticks\":\"\",\"title\":{\"standoff\":15},\"zerolinecolor\":\"white\",\"zerolinewidth\":2},\"yaxis\":{\"automargin\":true,\"gridcolor\":\"white\",\"linecolor\":\"white\",\"ticks\":\"\",\"title\":{\"standoff\":15},\"zerolinecolor\":\"white\",\"zerolinewidth\":2}}},\"xaxis\":{\"anchor\":\"y\",\"domain\":[0.0,1.0],\"title\":{\"text\":\"g_x\"}},\"yaxis\":{\"anchor\":\"x\",\"domain\":[0.0,1.0],\"title\":{\"text\":\"g_y\"}},\"legend\":{\"tracegroupgap\":0},\"margin\":{\"t\":60}},                        {\"responsive\": true}                    ).then(function(){\n",
       "                            \n",
       "var gd = document.getElementById('968df902-94ad-414e-8699-9da17be298b3');\n",
       "var x = new MutationObserver(function (mutations, observer) {{\n",
       "        var display = window.getComputedStyle(gd).display;\n",
       "        if (!display || display === 'none') {{\n",
       "            console.log([gd, 'removed!']);\n",
       "            Plotly.purge(gd);\n",
       "            observer.disconnect();\n",
       "        }}\n",
       "}});\n",
       "\n",
       "// Listen for the removal of the full notebook cells\n",
       "var notebookContainer = gd.closest('#notebook-container');\n",
       "if (notebookContainer) {{\n",
       "    x.observe(notebookContainer, {childList: true});\n",
       "}}\n",
       "\n",
       "// Listen for the clearing of the current output cell\n",
       "var outputEl = gd.closest('.output');\n",
       "if (outputEl) {{\n",
       "    x.observe(outputEl, {childList: true});\n",
       "}}\n",
       "\n",
       "                        })                };                });            </script>        </div>"
      ]
     },
     "metadata": {},
     "output_type": "display_data"
    },
    {
     "data": {
      "application/vnd.plotly.v1+json": {
       "config": {
        "plotlyServerURL": "https://plot.ly"
       },
       "data": [
        {
         "hovertemplate": "g_x=%{x}<br>g_z=%{y}<extra></extra>",
         "legendgroup": "",
         "marker": {
          "color": "#636efa",
          "size": 4,
          "symbol": "circle"
         },
         "mode": "markers",
         "name": "",
         "orientation": "v",
         "showlegend": false,
         "type": "scatter",
         "x": [
          0.005713460501283407,
          1.0057039260864258,
          2.005694627761841,
          3.005685329437256,
          4.005676746368408,
          5.005667686462402,
          6.005659103393555,
          6.829999923706055,
          7,
          7.9999918937683105,
          8.999983787536621,
          9.99997615814209,
          10.999968528747559,
          11.999960899353027,
          12.999953269958496,
          13.170000076293945,
          14.169992446899414,
          15.1699857711792,
          16.16997718811035,
          17.169971466064453,
          18.169963836669922,
          19.16995620727539,
          20.169950485229492,
          21.16994285583496,
          21.829999923706055,
          22,
          22.99999237060547,
          23.99998664855957,
          24.99997901916504,
          25.99997329711914,
          26.99996566772461,
          27.999958038330078,
          28.170000076293945,
          29.169992446899414,
          30.169986724853516,
          31.169979095458984,
          32.16997146606445,
          33.16996383666992,
          34.16995620727539,
          35.16994857788086,
          36.16994094848633,
          36.83000183105469,
          37,
          37.99999237060547,
          38.99998474121094,
          39.999977111816406,
          40.999969482421875,
          41.999961853027344,
          42.99995040893555,
          43.16999816894531,
          44.16999053955078,
          45.16998291015625,
          46.16997528076172,
          47.16996383666992,
          48.16995620727539,
          49.169944763183594,
          50.16993713378906,
          51.169925689697266,
          51.83000183105469,
          52,
          52.9999885559082,
          53.99998092651367,
          54.999969482421875,
          55.99995803833008,
          56.99994659423828,
          57.999935150146484,
          58.16999816894531,
          59.169986724853516,
          60.16997528076172,
          61.16996383666992,
          62.169952392578125,
          63.16993713378906,
          64.169921875,
          65.16991424560547,
          66.1698989868164,
          67.16988372802734,
          68.16986846923828,
          69.16985321044922,
          70.16983795166016,
          71.1698226928711,
          72.16980743408203,
          73.16979217529297,
          74.1697769165039,
          75.16976165771484,
          76.16974639892578,
          77.16972351074219,
          78.16970825195312,
          79.16969299316406,
          80.16967010498047,
          81.1696548461914,
          82.16963195800781,
          83.16961669921875,
          84.16959381103516,
          85.1695785522461,
          86.1695556640625,
          87.1695327758789,
          88.16950988769531,
          89.16949462890625,
          90.16947174072266,
          91.02999877929688,
          92.02997589111328,
          92.19999694824219,
          93,
          93.37000274658203,
          94.36997985839844,
          95.36994934082031,
          96.36992645263672,
          97.36990356445312,
          98.36988067626953,
          99.3698501586914,
          100.36982727050781,
          101.36979675292969,
          102.3697738647461,
          103.36974334716797,
          104.36971282958984,
          105.36968994140625,
          106.36965942382812,
          107.36962890625,
          108.36959838867188,
          109.36956787109375,
          110.36953735351562,
          111.3695068359375,
          112.36947631835938,
          113.36944580078125,
          114.36941528320312,
          115.369384765625,
          116.36934661865234,
          117.36931610107422,
          118.3692855834961,
          119.36924743652344,
          120.36920928955078,
          121.36917877197266,
          122.369140625,
          123.36910247802734,
          124.36907196044922,
          125.36903381347656,
          126.3689956665039,
          127.36895751953125,
          128.36892700195312,
          129.36888122558594,
          130.36883544921875,
          131.36880493164062,
          132.36875915527344,
          133.3687286376953,
          134.36868286132812,
          135.36863708496094,
          136.3686065673828,
          137.36856079101562,
          138.36851501464844,
          139.36846923828125,
          140.36842346191406,
          141.36837768554688,
          142.36834716796875,
          143.36830139160156,
          144.36825561523438,
          145.3682098388672,
          146.3681640625,
          147.3681182861328,
          148.36807250976562,
          149.36802673339844,
          150.36798095703125,
          151.367919921875,
          152.3678741455078,
          153.36782836914062,
          154.36778259277344,
          155.36773681640625,
          156.36767578125,
          157.3676300048828,
          158.36758422851562,
          159.36752319335938,
          160.3674774169922,
          161.367431640625,
          162.36737060546875,
          163.36732482910156,
          164.3672637939453,
          165.36721801757812,
          166.36715698242188,
          167.3671112060547,
          168.36705017089844,
          169.36700439453125,
          170.366943359375,
          171.36688232421875,
          172.36683654785156,
          173.3667755126953,
          174.36671447753906,
          175.36666870117188,
          176.36660766601562,
          177.36654663085938,
          178.36648559570312,
          179.36642456054688,
          180.36636352539062,
          181.02999877929688,
          182.02993774414062,
          182.1999969482422,
          183,
          183.3699951171875,
          184.36993408203125,
          185.369873046875,
          186.36981201171875,
          187.3697509765625,
          188.36968994140625,
          189.36962890625,
          190.36956787109375,
          191.3695068359375,
          192.36944580078125,
          193.369384765625,
          194.3693084716797,
          195.36924743652344,
          196.3691864013672,
          197.36912536621094,
          198.36904907226562,
          199.36898803710938,
          200.36892700195312,
          201.3688507080078,
          202.36878967285156,
          203.3687286376953,
          204.1772003173828
         ],
         "xaxis": "x",
         "y": [
          -39.085540771484375,
          -39.08183670043945,
          -39.07813262939453,
          -39.074424743652344,
          -39.07072067260742,
          -39.067012786865234,
          -39.06330871582031,
          -39.06025314331055,
          -39.05962371826172,
          -39.05591583251953,
          -39.05221176147461,
          -39.04850769042969,
          -39.0447998046875,
          -39.04109573364258,
          -39.03738784790039,
          -39.03675842285156,
          -39.03305435180664,
          -39.02934646606445,
          -39.02564239501953,
          -39.021934509277344,
          -39.01823043823242,
          -39.0145263671875,
          -39.01081848144531,
          -39.00711441040039,
          -39.004669189453125,
          -39.00403594970703,
          -39.00033187866211,
          -38.99662780761719,
          -38.992919921875,
          -38.98921585083008,
          -38.98550796508789,
          -38.98180389404297,
          -38.98117446899414,
          -38.97746658325195,
          -38.97376251220703,
          -38.97005844116211,
          -38.96635055541992,
          -38.962646484375,
          -38.95893859863281,
          -38.95523452758789,
          -38.9515266418457,
          -38.94908142089844,
          -38.94845199584961,
          -38.94474792480469,
          -38.9410400390625,
          -38.93733596801758,
          -38.93362808227539,
          -38.92992401123047,
          -38.92621612548828,
          -38.92558670043945,
          -38.92188262939453,
          -38.918174743652344,
          -38.91447067260742,
          -38.910762786865234,
          -38.90705871582031,
          -38.903350830078125,
          -38.8996467590332,
          -38.895938873291016,
          -38.89349365234375,
          -38.89286422729492,
          -38.889156341552734,
          -38.88545227050781,
          -38.881744384765625,
          -38.8780403137207,
          -38.874332427978516,
          -38.87062454223633,
          -38.8699951171875,
          -38.86629104614258,
          -38.86258316040039,
          -38.8588752746582,
          -38.85517120361328,
          -38.851463317871094,
          -38.847755432128906,
          -38.844051361083984,
          -38.8403434753418,
          -38.83663558959961,
          -38.83292770385742,
          -38.8292236328125,
          -38.82551574707031,
          -38.821807861328125,
          -38.81809997558594,
          -38.81439208984375,
          -38.81068801879883,
          -38.80698013305664,
          -38.80327224731445,
          -38.799564361572266,
          -38.79585647583008,
          -38.79214859008789,
          -38.7884407043457,
          -38.784732818603516,
          -38.78102493286133,
          -38.77731704711914,
          -38.77360916137695,
          -38.769901275634766,
          -38.76619338989258,
          -38.76248550415039,
          -38.75877380371094,
          -38.75506591796875,
          -38.75135803222656,
          -38.748165130615234,
          -38.74445724487305,
          -38.74382781982422,
          -38.74085998535156,
          -38.73948669433594,
          -38.73577880859375,
          -38.73207092285156,
          -38.72835922241211,
          -38.72465133666992,
          -38.72093963623047,
          -38.71723175048828,
          -38.71352005004883,
          -38.70981216430664,
          -38.70610046386719,
          -38.702392578125,
          -38.69868087768555,
          -38.69497299194336,
          -38.691261291503906,
          -38.68754959106445,
          -38.683837890625,
          -38.68013000488281,
          -38.67641830444336,
          -38.672706604003906,
          -38.66899490356445,
          -38.665287017822266,
          -38.66157531738281,
          -38.65786361694336,
          -38.654151916503906,
          -38.65044021606445,
          -38.646728515625,
          -38.64301681518555,
          -38.639305114746094,
          -38.63559341430664,
          -38.63187789916992,
          -38.62816619873047,
          -38.624454498291016,
          -38.62074279785156,
          -38.61703109741211,
          -38.61331558227539,
          -38.60960388183594,
          -38.605892181396484,
          -38.602176666259766,
          -38.59846496582031,
          -38.59475326538086,
          -38.59103775024414,
          -38.58732604980469,
          -38.58361053466797,
          -38.579898834228516,
          -38.5761833190918,
          -38.57246780395508,
          -38.568756103515625,
          -38.565040588378906,
          -38.56132507324219,
          -38.557613372802734,
          -38.553897857666016,
          -38.5501823425293,
          -38.54646682739258,
          -38.54275131225586,
          -38.539039611816406,
          -38.53532409667969,
          -38.53160858154297,
          -38.52789306640625,
          -38.52417755126953,
          -38.52046203613281,
          -38.516746520996094,
          -38.513031005859375,
          -38.50931167602539,
          -38.50559616088867,
          -38.50188064575195,
          -38.498165130615234,
          -38.494449615478516,
          -38.49073028564453,
          -38.48701477050781,
          -38.483299255371094,
          -38.479583740234375,
          -38.47586441040039,
          -38.47214889526367,
          -38.46842956542969,
          -38.46471405029297,
          -38.460994720458984,
          -38.457279205322266,
          -38.45355987548828,
          -38.44984436035156,
          -38.44612503051758,
          -38.44240951538086,
          -38.438690185546875,
          -38.43497085571289,
          -38.43125534057617,
          -38.42753601074219,
          -38.4238166809082,
          -38.42009735107422,
          -38.4163818359375,
          -38.41391372680664,
          -38.410194396972656,
          -38.40956115722656,
          -38.406585693359375,
          -38.405208587646484,
          -38.4014892578125,
          -38.397769927978516,
          -38.39405059814453,
          -38.39033126831055,
          -38.38661193847656,
          -38.38289260864258,
          -38.379173278808594,
          -38.37545394897461,
          -38.371734619140625,
          -38.36801528930664,
          -38.364295959472656,
          -38.36057662963867,
          -38.35685729980469,
          -38.35313415527344,
          -38.34941482543945,
          -38.34569549560547,
          -38.341976165771484,
          -38.338253021240234,
          -38.33453369140625,
          -38.330814361572266,
          -38.32780456542969
         ],
         "yaxis": "y"
        },
        {
         "marker": {
          "line": {
           "width": 0
          },
          "size": 5
         },
         "mode": "markers",
         "name": "hits",
         "type": "scatter",
         "x": [
          6.900000095367432,
          12.899999618530273,
          21.899999618530273,
          27.899999618530273,
          36.900001525878906,
          42.900001525878906,
          51.900001525878906,
          57.900001525878906,
          92.9000015258789,
          182.89999389648438
         ],
         "y": [
          -38.95774841308594,
          -38.950836181640625,
          -38.93644332885742,
          -38.9257698059082,
          -38.90895462036133,
          -38.89809036254883,
          -38.88535690307617,
          -38.87715530395508,
          -38.829811096191406,
          -38.689842224121094
         ]
        }
       ],
       "layout": {
        "autosize": true,
        "legend": {
         "tracegroupgap": 0
        },
        "margin": {
         "t": 60
        },
        "template": {
         "data": {
          "bar": [
           {
            "error_x": {
             "color": "#2a3f5f"
            },
            "error_y": {
             "color": "#2a3f5f"
            },
            "marker": {
             "line": {
              "color": "#E5ECF6",
              "width": 0.5
             },
             "pattern": {
              "fillmode": "overlay",
              "size": 10,
              "solidity": 0.2
             }
            },
            "type": "bar"
           }
          ],
          "barpolar": [
           {
            "marker": {
             "line": {
              "color": "#E5ECF6",
              "width": 0.5
             },
             "pattern": {
              "fillmode": "overlay",
              "size": 10,
              "solidity": 0.2
             }
            },
            "type": "barpolar"
           }
          ],
          "carpet": [
           {
            "aaxis": {
             "endlinecolor": "#2a3f5f",
             "gridcolor": "white",
             "linecolor": "white",
             "minorgridcolor": "white",
             "startlinecolor": "#2a3f5f"
            },
            "baxis": {
             "endlinecolor": "#2a3f5f",
             "gridcolor": "white",
             "linecolor": "white",
             "minorgridcolor": "white",
             "startlinecolor": "#2a3f5f"
            },
            "type": "carpet"
           }
          ],
          "choropleth": [
           {
            "colorbar": {
             "outlinewidth": 0,
             "ticks": ""
            },
            "type": "choropleth"
           }
          ],
          "contour": [
           {
            "colorbar": {
             "outlinewidth": 0,
             "ticks": ""
            },
            "colorscale": [
             [
              0,
              "#0d0887"
             ],
             [
              0.1111111111111111,
              "#46039f"
             ],
             [
              0.2222222222222222,
              "#7201a8"
             ],
             [
              0.3333333333333333,
              "#9c179e"
             ],
             [
              0.4444444444444444,
              "#bd3786"
             ],
             [
              0.5555555555555556,
              "#d8576b"
             ],
             [
              0.6666666666666666,
              "#ed7953"
             ],
             [
              0.7777777777777778,
              "#fb9f3a"
             ],
             [
              0.8888888888888888,
              "#fdca26"
             ],
             [
              1,
              "#f0f921"
             ]
            ],
            "type": "contour"
           }
          ],
          "contourcarpet": [
           {
            "colorbar": {
             "outlinewidth": 0,
             "ticks": ""
            },
            "type": "contourcarpet"
           }
          ],
          "heatmap": [
           {
            "colorbar": {
             "outlinewidth": 0,
             "ticks": ""
            },
            "colorscale": [
             [
              0,
              "#0d0887"
             ],
             [
              0.1111111111111111,
              "#46039f"
             ],
             [
              0.2222222222222222,
              "#7201a8"
             ],
             [
              0.3333333333333333,
              "#9c179e"
             ],
             [
              0.4444444444444444,
              "#bd3786"
             ],
             [
              0.5555555555555556,
              "#d8576b"
             ],
             [
              0.6666666666666666,
              "#ed7953"
             ],
             [
              0.7777777777777778,
              "#fb9f3a"
             ],
             [
              0.8888888888888888,
              "#fdca26"
             ],
             [
              1,
              "#f0f921"
             ]
            ],
            "type": "heatmap"
           }
          ],
          "heatmapgl": [
           {
            "colorbar": {
             "outlinewidth": 0,
             "ticks": ""
            },
            "colorscale": [
             [
              0,
              "#0d0887"
             ],
             [
              0.1111111111111111,
              "#46039f"
             ],
             [
              0.2222222222222222,
              "#7201a8"
             ],
             [
              0.3333333333333333,
              "#9c179e"
             ],
             [
              0.4444444444444444,
              "#bd3786"
             ],
             [
              0.5555555555555556,
              "#d8576b"
             ],
             [
              0.6666666666666666,
              "#ed7953"
             ],
             [
              0.7777777777777778,
              "#fb9f3a"
             ],
             [
              0.8888888888888888,
              "#fdca26"
             ],
             [
              1,
              "#f0f921"
             ]
            ],
            "type": "heatmapgl"
           }
          ],
          "histogram": [
           {
            "marker": {
             "pattern": {
              "fillmode": "overlay",
              "size": 10,
              "solidity": 0.2
             }
            },
            "type": "histogram"
           }
          ],
          "histogram2d": [
           {
            "colorbar": {
             "outlinewidth": 0,
             "ticks": ""
            },
            "colorscale": [
             [
              0,
              "#0d0887"
             ],
             [
              0.1111111111111111,
              "#46039f"
             ],
             [
              0.2222222222222222,
              "#7201a8"
             ],
             [
              0.3333333333333333,
              "#9c179e"
             ],
             [
              0.4444444444444444,
              "#bd3786"
             ],
             [
              0.5555555555555556,
              "#d8576b"
             ],
             [
              0.6666666666666666,
              "#ed7953"
             ],
             [
              0.7777777777777778,
              "#fb9f3a"
             ],
             [
              0.8888888888888888,
              "#fdca26"
             ],
             [
              1,
              "#f0f921"
             ]
            ],
            "type": "histogram2d"
           }
          ],
          "histogram2dcontour": [
           {
            "colorbar": {
             "outlinewidth": 0,
             "ticks": ""
            },
            "colorscale": [
             [
              0,
              "#0d0887"
             ],
             [
              0.1111111111111111,
              "#46039f"
             ],
             [
              0.2222222222222222,
              "#7201a8"
             ],
             [
              0.3333333333333333,
              "#9c179e"
             ],
             [
              0.4444444444444444,
              "#bd3786"
             ],
             [
              0.5555555555555556,
              "#d8576b"
             ],
             [
              0.6666666666666666,
              "#ed7953"
             ],
             [
              0.7777777777777778,
              "#fb9f3a"
             ],
             [
              0.8888888888888888,
              "#fdca26"
             ],
             [
              1,
              "#f0f921"
             ]
            ],
            "type": "histogram2dcontour"
           }
          ],
          "mesh3d": [
           {
            "colorbar": {
             "outlinewidth": 0,
             "ticks": ""
            },
            "type": "mesh3d"
           }
          ],
          "parcoords": [
           {
            "line": {
             "colorbar": {
              "outlinewidth": 0,
              "ticks": ""
             }
            },
            "type": "parcoords"
           }
          ],
          "pie": [
           {
            "automargin": true,
            "type": "pie"
           }
          ],
          "scatter": [
           {
            "marker": {
             "colorbar": {
              "outlinewidth": 0,
              "ticks": ""
             }
            },
            "type": "scatter"
           }
          ],
          "scatter3d": [
           {
            "line": {
             "colorbar": {
              "outlinewidth": 0,
              "ticks": ""
             }
            },
            "marker": {
             "colorbar": {
              "outlinewidth": 0,
              "ticks": ""
             }
            },
            "type": "scatter3d"
           }
          ],
          "scattercarpet": [
           {
            "marker": {
             "colorbar": {
              "outlinewidth": 0,
              "ticks": ""
             }
            },
            "type": "scattercarpet"
           }
          ],
          "scattergeo": [
           {
            "marker": {
             "colorbar": {
              "outlinewidth": 0,
              "ticks": ""
             }
            },
            "type": "scattergeo"
           }
          ],
          "scattergl": [
           {
            "marker": {
             "colorbar": {
              "outlinewidth": 0,
              "ticks": ""
             }
            },
            "type": "scattergl"
           }
          ],
          "scattermapbox": [
           {
            "marker": {
             "colorbar": {
              "outlinewidth": 0,
              "ticks": ""
             }
            },
            "type": "scattermapbox"
           }
          ],
          "scatterpolar": [
           {
            "marker": {
             "colorbar": {
              "outlinewidth": 0,
              "ticks": ""
             }
            },
            "type": "scatterpolar"
           }
          ],
          "scatterpolargl": [
           {
            "marker": {
             "colorbar": {
              "outlinewidth": 0,
              "ticks": ""
             }
            },
            "type": "scatterpolargl"
           }
          ],
          "scatterternary": [
           {
            "marker": {
             "colorbar": {
              "outlinewidth": 0,
              "ticks": ""
             }
            },
            "type": "scatterternary"
           }
          ],
          "surface": [
           {
            "colorbar": {
             "outlinewidth": 0,
             "ticks": ""
            },
            "colorscale": [
             [
              0,
              "#0d0887"
             ],
             [
              0.1111111111111111,
              "#46039f"
             ],
             [
              0.2222222222222222,
              "#7201a8"
             ],
             [
              0.3333333333333333,
              "#9c179e"
             ],
             [
              0.4444444444444444,
              "#bd3786"
             ],
             [
              0.5555555555555556,
              "#d8576b"
             ],
             [
              0.6666666666666666,
              "#ed7953"
             ],
             [
              0.7777777777777778,
              "#fb9f3a"
             ],
             [
              0.8888888888888888,
              "#fdca26"
             ],
             [
              1,
              "#f0f921"
             ]
            ],
            "type": "surface"
           }
          ],
          "table": [
           {
            "cells": {
             "fill": {
              "color": "#EBF0F8"
             },
             "line": {
              "color": "white"
             }
            },
            "header": {
             "fill": {
              "color": "#C8D4E3"
             },
             "line": {
              "color": "white"
             }
            },
            "type": "table"
           }
          ]
         },
         "layout": {
          "annotationdefaults": {
           "arrowcolor": "#2a3f5f",
           "arrowhead": 0,
           "arrowwidth": 1
          },
          "autotypenumbers": "strict",
          "coloraxis": {
           "colorbar": {
            "outlinewidth": 0,
            "ticks": ""
           }
          },
          "colorscale": {
           "diverging": [
            [
             0,
             "#8e0152"
            ],
            [
             0.1,
             "#c51b7d"
            ],
            [
             0.2,
             "#de77ae"
            ],
            [
             0.3,
             "#f1b6da"
            ],
            [
             0.4,
             "#fde0ef"
            ],
            [
             0.5,
             "#f7f7f7"
            ],
            [
             0.6,
             "#e6f5d0"
            ],
            [
             0.7,
             "#b8e186"
            ],
            [
             0.8,
             "#7fbc41"
            ],
            [
             0.9,
             "#4d9221"
            ],
            [
             1,
             "#276419"
            ]
           ],
           "sequential": [
            [
             0,
             "#0d0887"
            ],
            [
             0.1111111111111111,
             "#46039f"
            ],
            [
             0.2222222222222222,
             "#7201a8"
            ],
            [
             0.3333333333333333,
             "#9c179e"
            ],
            [
             0.4444444444444444,
             "#bd3786"
            ],
            [
             0.5555555555555556,
             "#d8576b"
            ],
            [
             0.6666666666666666,
             "#ed7953"
            ],
            [
             0.7777777777777778,
             "#fb9f3a"
            ],
            [
             0.8888888888888888,
             "#fdca26"
            ],
            [
             1,
             "#f0f921"
            ]
           ],
           "sequentialminus": [
            [
             0,
             "#0d0887"
            ],
            [
             0.1111111111111111,
             "#46039f"
            ],
            [
             0.2222222222222222,
             "#7201a8"
            ],
            [
             0.3333333333333333,
             "#9c179e"
            ],
            [
             0.4444444444444444,
             "#bd3786"
            ],
            [
             0.5555555555555556,
             "#d8576b"
            ],
            [
             0.6666666666666666,
             "#ed7953"
            ],
            [
             0.7777777777777778,
             "#fb9f3a"
            ],
            [
             0.8888888888888888,
             "#fdca26"
            ],
            [
             1,
             "#f0f921"
            ]
           ]
          },
          "colorway": [
           "#636efa",
           "#EF553B",
           "#00cc96",
           "#ab63fa",
           "#FFA15A",
           "#19d3f3",
           "#FF6692",
           "#B6E880",
           "#FF97FF",
           "#FECB52"
          ],
          "font": {
           "color": "#2a3f5f"
          },
          "geo": {
           "bgcolor": "white",
           "lakecolor": "white",
           "landcolor": "#E5ECF6",
           "showlakes": true,
           "showland": true,
           "subunitcolor": "white"
          },
          "hoverlabel": {
           "align": "left"
          },
          "hovermode": "closest",
          "mapbox": {
           "style": "light"
          },
          "paper_bgcolor": "white",
          "plot_bgcolor": "#E5ECF6",
          "polar": {
           "angularaxis": {
            "gridcolor": "white",
            "linecolor": "white",
            "ticks": ""
           },
           "bgcolor": "#E5ECF6",
           "radialaxis": {
            "gridcolor": "white",
            "linecolor": "white",
            "ticks": ""
           }
          },
          "scene": {
           "xaxis": {
            "backgroundcolor": "#E5ECF6",
            "gridcolor": "white",
            "gridwidth": 2,
            "linecolor": "white",
            "showbackground": true,
            "ticks": "",
            "zerolinecolor": "white"
           },
           "yaxis": {
            "backgroundcolor": "#E5ECF6",
            "gridcolor": "white",
            "gridwidth": 2,
            "linecolor": "white",
            "showbackground": true,
            "ticks": "",
            "zerolinecolor": "white"
           },
           "zaxis": {
            "backgroundcolor": "#E5ECF6",
            "gridcolor": "white",
            "gridwidth": 2,
            "linecolor": "white",
            "showbackground": true,
            "ticks": "",
            "zerolinecolor": "white"
           }
          },
          "shapedefaults": {
           "line": {
            "color": "#2a3f5f"
           }
          },
          "ternary": {
           "aaxis": {
            "gridcolor": "white",
            "linecolor": "white",
            "ticks": ""
           },
           "baxis": {
            "gridcolor": "white",
            "linecolor": "white",
            "ticks": ""
           },
           "bgcolor": "#E5ECF6",
           "caxis": {
            "gridcolor": "white",
            "linecolor": "white",
            "ticks": ""
           }
          },
          "title": {
           "x": 0.05
          },
          "xaxis": {
           "automargin": true,
           "gridcolor": "white",
           "linecolor": "white",
           "ticks": "",
           "title": {
            "standoff": 15
           },
           "zerolinecolor": "white",
           "zerolinewidth": 2
          },
          "yaxis": {
           "automargin": true,
           "gridcolor": "white",
           "linecolor": "white",
           "ticks": "",
           "title": {
            "standoff": 15
           },
           "zerolinecolor": "white",
           "zerolinewidth": 2
          }
         }
        },
        "xaxis": {
         "anchor": "y",
         "autorange": true,
         "domain": [
          0,
          1
         ],
         "range": [
          -12.111667943375322,
          216.29458172125942
         ],
         "title": {
          "text": "g_x"
         },
         "type": "linear"
        },
        "yaxis": {
         "anchor": "x",
         "autorange": true,
         "domain": [
          0,
          1
         ],
         "range": [
          -39.14079236984253,
          -38.27255296707153
         ],
         "title": {
          "text": "g_z"
         },
         "type": "linear"
        }
       }
      },
      "image/png": "[encoded data removed]",
      "text/html": [
       "<div>                            <div id=\"0102b8df-f2dd-476a-8bdc-24c2b0c7f1db\" class=\"plotly-graph-div\" style=\"height:525px; width:100%;\"></div>            <script type=\"text/javascript\">                require([\"plotly\"], function(Plotly) {                    window.PLOTLYENV=window.PLOTLYENV || {};                                    if (document.getElementById(\"0102b8df-f2dd-476a-8bdc-24c2b0c7f1db\")) {                    Plotly.newPlot(                        \"0102b8df-f2dd-476a-8bdc-24c2b0c7f1db\",                        [{\"hovertemplate\":\"g_x=%{x}<br>g_z=%{y}<extra></extra>\",\"legendgroup\":\"\",\"marker\":{\"color\":\"#636efa\",\"symbol\":\"circle\",\"size\":4},\"mode\":\"markers\",\"name\":\"\",\"orientation\":\"v\",\"showlegend\":false,\"x\":[0.005713460501283407,1.0057039260864258,2.005694627761841,3.005685329437256,4.005676746368408,5.005667686462402,6.005659103393555,6.829999923706055,7.0,7.9999918937683105,8.999983787536621,9.99997615814209,10.999968528747559,11.999960899353027,12.999953269958496,13.170000076293945,14.169992446899414,15.1699857711792,16.16997718811035,17.169971466064453,18.169963836669922,19.16995620727539,20.169950485229492,21.16994285583496,21.829999923706055,22.0,22.99999237060547,23.99998664855957,24.99997901916504,25.99997329711914,26.99996566772461,27.999958038330078,28.170000076293945,29.169992446899414,30.169986724853516,31.169979095458984,32.16997146606445,33.16996383666992,34.16995620727539,35.16994857788086,36.16994094848633,36.83000183105469,37.0,37.99999237060547,38.99998474121094,39.999977111816406,40.999969482421875,41.999961853027344,42.99995040893555,43.16999816894531,44.16999053955078,45.16998291015625,46.16997528076172,47.16996383666992,48.16995620727539,49.169944763183594,50.16993713378906,51.169925689697266,51.83000183105469,52.0,52.9999885559082,53.99998092651367,54.999969482421875,55.99995803833008,56.99994659423828,57.999935150146484,58.16999816894531,59.169986724853516,60.16997528076172,61.16996383666992,62.169952392578125,63.16993713378906,64.169921875,65.16991424560547,66.1698989868164,67.16988372802734,68.16986846923828,69.16985321044922,70.16983795166016,71.1698226928711,72.16980743408203,73.16979217529297,74.1697769165039,75.16976165771484,76.16974639892578,77.16972351074219,78.16970825195312,79.16969299316406,80.16967010498047,81.1696548461914,82.16963195800781,83.16961669921875,84.16959381103516,85.1695785522461,86.1695556640625,87.1695327758789,88.16950988769531,89.16949462890625,90.16947174072266,91.02999877929688,92.02997589111328,92.19999694824219,93.0,93.37000274658203,94.36997985839844,95.36994934082031,96.36992645263672,97.36990356445312,98.36988067626953,99.3698501586914,100.36982727050781,101.36979675292969,102.3697738647461,103.36974334716797,104.36971282958984,105.36968994140625,106.36965942382812,107.36962890625,108.36959838867188,109.36956787109375,110.36953735351562,111.3695068359375,112.36947631835938,113.36944580078125,114.36941528320312,115.369384765625,116.36934661865234,117.36931610107422,118.3692855834961,119.36924743652344,120.36920928955078,121.36917877197266,122.369140625,123.36910247802734,124.36907196044922,125.36903381347656,126.3689956665039,127.36895751953125,128.36892700195312,129.36888122558594,130.36883544921875,131.36880493164062,132.36875915527344,133.3687286376953,134.36868286132812,135.36863708496094,136.3686065673828,137.36856079101562,138.36851501464844,139.36846923828125,140.36842346191406,141.36837768554688,142.36834716796875,143.36830139160156,144.36825561523438,145.3682098388672,146.3681640625,147.3681182861328,148.36807250976562,149.36802673339844,150.36798095703125,151.367919921875,152.3678741455078,153.36782836914062,154.36778259277344,155.36773681640625,156.36767578125,157.3676300048828,158.36758422851562,159.36752319335938,160.3674774169922,161.367431640625,162.36737060546875,163.36732482910156,164.3672637939453,165.36721801757812,166.36715698242188,167.3671112060547,168.36705017089844,169.36700439453125,170.366943359375,171.36688232421875,172.36683654785156,173.3667755126953,174.36671447753906,175.36666870117188,176.36660766601562,177.36654663085938,178.36648559570312,179.36642456054688,180.36636352539062,181.02999877929688,182.02993774414062,182.1999969482422,183.0,183.3699951171875,184.36993408203125,185.369873046875,186.36981201171875,187.3697509765625,188.36968994140625,189.36962890625,190.36956787109375,191.3695068359375,192.36944580078125,193.369384765625,194.3693084716797,195.36924743652344,196.3691864013672,197.36912536621094,198.36904907226562,199.36898803710938,200.36892700195312,201.3688507080078,202.36878967285156,203.3687286376953,204.1772003173828],\"xaxis\":\"x\",\"y\":[-39.085540771484375,-39.08183670043945,-39.07813262939453,-39.074424743652344,-39.07072067260742,-39.067012786865234,-39.06330871582031,-39.06025314331055,-39.05962371826172,-39.05591583251953,-39.05221176147461,-39.04850769042969,-39.0447998046875,-39.04109573364258,-39.03738784790039,-39.03675842285156,-39.03305435180664,-39.02934646606445,-39.02564239501953,-39.021934509277344,-39.01823043823242,-39.0145263671875,-39.01081848144531,-39.00711441040039,-39.004669189453125,-39.00403594970703,-39.00033187866211,-38.99662780761719,-38.992919921875,-38.98921585083008,-38.98550796508789,-38.98180389404297,-38.98117446899414,-38.97746658325195,-38.97376251220703,-38.97005844116211,-38.96635055541992,-38.962646484375,-38.95893859863281,-38.95523452758789,-38.9515266418457,-38.94908142089844,-38.94845199584961,-38.94474792480469,-38.9410400390625,-38.93733596801758,-38.93362808227539,-38.92992401123047,-38.92621612548828,-38.92558670043945,-38.92188262939453,-38.918174743652344,-38.91447067260742,-38.910762786865234,-38.90705871582031,-38.903350830078125,-38.8996467590332,-38.895938873291016,-38.89349365234375,-38.89286422729492,-38.889156341552734,-38.88545227050781,-38.881744384765625,-38.8780403137207,-38.874332427978516,-38.87062454223633,-38.8699951171875,-38.86629104614258,-38.86258316040039,-38.8588752746582,-38.85517120361328,-38.851463317871094,-38.847755432128906,-38.844051361083984,-38.8403434753418,-38.83663558959961,-38.83292770385742,-38.8292236328125,-38.82551574707031,-38.821807861328125,-38.81809997558594,-38.81439208984375,-38.81068801879883,-38.80698013305664,-38.80327224731445,-38.799564361572266,-38.79585647583008,-38.79214859008789,-38.7884407043457,-38.784732818603516,-38.78102493286133,-38.77731704711914,-38.77360916137695,-38.769901275634766,-38.76619338989258,-38.76248550415039,-38.75877380371094,-38.75506591796875,-38.75135803222656,-38.748165130615234,-38.74445724487305,-38.74382781982422,-38.74085998535156,-38.73948669433594,-38.73577880859375,-38.73207092285156,-38.72835922241211,-38.72465133666992,-38.72093963623047,-38.71723175048828,-38.71352005004883,-38.70981216430664,-38.70610046386719,-38.702392578125,-38.69868087768555,-38.69497299194336,-38.691261291503906,-38.68754959106445,-38.683837890625,-38.68013000488281,-38.67641830444336,-38.672706604003906,-38.66899490356445,-38.665287017822266,-38.66157531738281,-38.65786361694336,-38.654151916503906,-38.65044021606445,-38.646728515625,-38.64301681518555,-38.639305114746094,-38.63559341430664,-38.63187789916992,-38.62816619873047,-38.624454498291016,-38.62074279785156,-38.61703109741211,-38.61331558227539,-38.60960388183594,-38.605892181396484,-38.602176666259766,-38.59846496582031,-38.59475326538086,-38.59103775024414,-38.58732604980469,-38.58361053466797,-38.579898834228516,-38.5761833190918,-38.57246780395508,-38.568756103515625,-38.565040588378906,-38.56132507324219,-38.557613372802734,-38.553897857666016,-38.5501823425293,-38.54646682739258,-38.54275131225586,-38.539039611816406,-38.53532409667969,-38.53160858154297,-38.52789306640625,-38.52417755126953,-38.52046203613281,-38.516746520996094,-38.513031005859375,-38.50931167602539,-38.50559616088867,-38.50188064575195,-38.498165130615234,-38.494449615478516,-38.49073028564453,-38.48701477050781,-38.483299255371094,-38.479583740234375,-38.47586441040039,-38.47214889526367,-38.46842956542969,-38.46471405029297,-38.460994720458984,-38.457279205322266,-38.45355987548828,-38.44984436035156,-38.44612503051758,-38.44240951538086,-38.438690185546875,-38.43497085571289,-38.43125534057617,-38.42753601074219,-38.4238166809082,-38.42009735107422,-38.4163818359375,-38.41391372680664,-38.410194396972656,-38.40956115722656,-38.406585693359375,-38.405208587646484,-38.4014892578125,-38.397769927978516,-38.39405059814453,-38.39033126831055,-38.38661193847656,-38.38289260864258,-38.379173278808594,-38.37545394897461,-38.371734619140625,-38.36801528930664,-38.364295959472656,-38.36057662963867,-38.35685729980469,-38.35313415527344,-38.34941482543945,-38.34569549560547,-38.341976165771484,-38.338253021240234,-38.33453369140625,-38.330814361572266,-38.32780456542969],\"yaxis\":\"y\",\"type\":\"scatter\"},{\"marker\":{\"line\":{\"width\":0},\"size\":5},\"mode\":\"markers\",\"name\":\"hits\",\"x\":[6.900000095367432,12.899999618530273,21.899999618530273,27.899999618530273,36.900001525878906,42.900001525878906,51.900001525878906,57.900001525878906,92.9000015258789,182.89999389648438],\"y\":[-38.95774841308594,-38.950836181640625,-38.93644332885742,-38.9257698059082,-38.90895462036133,-38.89809036254883,-38.88535690307617,-38.87715530395508,-38.829811096191406,-38.689842224121094],\"type\":\"scatter\"}],                        {\"template\":{\"data\":{\"bar\":[{\"error_x\":{\"color\":\"#2a3f5f\"},\"error_y\":{\"color\":\"#2a3f5f\"},\"marker\":{\"line\":{\"color\":\"#E5ECF6\",\"width\":0.5},\"pattern\":{\"fillmode\":\"overlay\",\"size\":10,\"solidity\":0.2}},\"type\":\"bar\"}],\"barpolar\":[{\"marker\":{\"line\":{\"color\":\"#E5ECF6\",\"width\":0.5},\"pattern\":{\"fillmode\":\"overlay\",\"size\":10,\"solidity\":0.2}},\"type\":\"barpolar\"}],\"carpet\":[{\"aaxis\":{\"endlinecolor\":\"#2a3f5f\",\"gridcolor\":\"white\",\"linecolor\":\"white\",\"minorgridcolor\":\"white\",\"startlinecolor\":\"#2a3f5f\"},\"baxis\":{\"endlinecolor\":\"#2a3f5f\",\"gridcolor\":\"white\",\"linecolor\":\"white\",\"minorgridcolor\":\"white\",\"startlinecolor\":\"#2a3f5f\"},\"type\":\"carpet\"}],\"choropleth\":[{\"colorbar\":{\"outlinewidth\":0,\"ticks\":\"\"},\"type\":\"choropleth\"}],\"contour\":[{\"colorbar\":{\"outlinewidth\":0,\"ticks\":\"\"},\"colorscale\":[[0.0,\"#0d0887\"],[0.1111111111111111,\"#46039f\"],[0.2222222222222222,\"#7201a8\"],[0.3333333333333333,\"#9c179e\"],[0.4444444444444444,\"#bd3786\"],[0.5555555555555556,\"#d8576b\"],[0.6666666666666666,\"#ed7953\"],[0.7777777777777778,\"#fb9f3a\"],[0.8888888888888888,\"#fdca26\"],[1.0,\"#f0f921\"]],\"type\":\"contour\"}],\"contourcarpet\":[{\"colorbar\":{\"outlinewidth\":0,\"ticks\":\"\"},\"type\":\"contourcarpet\"}],\"heatmap\":[{\"colorbar\":{\"outlinewidth\":0,\"ticks\":\"\"},\"colorscale\":[[0.0,\"#0d0887\"],[0.1111111111111111,\"#46039f\"],[0.2222222222222222,\"#7201a8\"],[0.3333333333333333,\"#9c179e\"],[0.4444444444444444,\"#bd3786\"],[0.5555555555555556,\"#d8576b\"],[0.6666666666666666,\"#ed7953\"],[0.7777777777777778,\"#fb9f3a\"],[0.8888888888888888,\"#fdca26\"],[1.0,\"#f0f921\"]],\"type\":\"heatmap\"}],\"heatmapgl\":[{\"colorbar\":{\"outlinewidth\":0,\"ticks\":\"\"},\"colorscale\":[[0.0,\"#0d0887\"],[0.1111111111111111,\"#46039f\"],[0.2222222222222222,\"#7201a8\"],[0.3333333333333333,\"#9c179e\"],[0.4444444444444444,\"#bd3786\"],[0.5555555555555556,\"#d8576b\"],[0.6666666666666666,\"#ed7953\"],[0.7777777777777778,\"#fb9f3a\"],[0.8888888888888888,\"#fdca26\"],[1.0,\"#f0f921\"]],\"type\":\"heatmapgl\"}],\"histogram\":[{\"marker\":{\"pattern\":{\"fillmode\":\"overlay\",\"size\":10,\"solidity\":0.2}},\"type\":\"histogram\"}],\"histogram2d\":[{\"colorbar\":{\"outlinewidth\":0,\"ticks\":\"\"},\"colorscale\":[[0.0,\"#0d0887\"],[0.1111111111111111,\"#46039f\"],[0.2222222222222222,\"#7201a8\"],[0.3333333333333333,\"#9c179e\"],[0.4444444444444444,\"#bd3786\"],[0.5555555555555556,\"#d8576b\"],[0.6666666666666666,\"#ed7953\"],[0.7777777777777778,\"#fb9f3a\"],[0.8888888888888888,\"#fdca26\"],[1.0,\"#f0f921\"]],\"type\":\"histogram2d\"}],\"histogram2dcontour\":[{\"colorbar\":{\"outlinewidth\":0,\"ticks\":\"\"},\"colorscale\":[[0.0,\"#0d0887\"],[0.1111111111111111,\"#46039f\"],[0.2222222222222222,\"#7201a8\"],[0.3333333333333333,\"#9c179e\"],[0.4444444444444444,\"#bd3786\"],[0.5555555555555556,\"#d8576b\"],[0.6666666666666666,\"#ed7953\"],[0.7777777777777778,\"#fb9f3a\"],[0.8888888888888888,\"#fdca26\"],[1.0,\"#f0f921\"]],\"type\":\"histogram2dcontour\"}],\"mesh3d\":[{\"colorbar\":{\"outlinewidth\":0,\"ticks\":\"\"},\"type\":\"mesh3d\"}],\"parcoords\":[{\"line\":{\"colorbar\":{\"outlinewidth\":0,\"ticks\":\"\"}},\"type\":\"parcoords\"}],\"pie\":[{\"automargin\":true,\"type\":\"pie\"}],\"scatter\":[{\"marker\":{\"colorbar\":{\"outlinewidth\":0,\"ticks\":\"\"}},\"type\":\"scatter\"}],\"scatter3d\":[{\"line\":{\"colorbar\":{\"outlinewidth\":0,\"ticks\":\"\"}},\"marker\":{\"colorbar\":{\"outlinewidth\":0,\"ticks\":\"\"}},\"type\":\"scatter3d\"}],\"scattercarpet\":[{\"marker\":{\"colorbar\":{\"outlinewidth\":0,\"ticks\":\"\"}},\"type\":\"scattercarpet\"}],\"scattergeo\":[{\"marker\":{\"colorbar\":{\"outlinewidth\":0,\"ticks\":\"\"}},\"type\":\"scattergeo\"}],\"scattergl\":[{\"marker\":{\"colorbar\":{\"outlinewidth\":0,\"ticks\":\"\"}},\"type\":\"scattergl\"}],\"scattermapbox\":[{\"marker\":{\"colorbar\":{\"outlinewidth\":0,\"ticks\":\"\"}},\"type\":\"scattermapbox\"}],\"scatterpolar\":[{\"marker\":{\"colorbar\":{\"outlinewidth\":0,\"ticks\":\"\"}},\"type\":\"scatterpolar\"}],\"scatterpolargl\":[{\"marker\":{\"colorbar\":{\"outlinewidth\":0,\"ticks\":\"\"}},\"type\":\"scatterpolargl\"}],\"scatterternary\":[{\"marker\":{\"colorbar\":{\"outlinewidth\":0,\"ticks\":\"\"}},\"type\":\"scatterternary\"}],\"surface\":[{\"colorbar\":{\"outlinewidth\":0,\"ticks\":\"\"},\"colorscale\":[[0.0,\"#0d0887\"],[0.1111111111111111,\"#46039f\"],[0.2222222222222222,\"#7201a8\"],[0.3333333333333333,\"#9c179e\"],[0.4444444444444444,\"#bd3786\"],[0.5555555555555556,\"#d8576b\"],[0.6666666666666666,\"#ed7953\"],[0.7777777777777778,\"#fb9f3a\"],[0.8888888888888888,\"#fdca26\"],[1.0,\"#f0f921\"]],\"type\":\"surface\"}],\"table\":[{\"cells\":{\"fill\":{\"color\":\"#EBF0F8\"},\"line\":{\"color\":\"white\"}},\"header\":{\"fill\":{\"color\":\"#C8D4E3\"},\"line\":{\"color\":\"white\"}},\"type\":\"table\"}]},\"layout\":{\"annotationdefaults\":{\"arrowcolor\":\"#2a3f5f\",\"arrowhead\":0,\"arrowwidth\":1},\"autotypenumbers\":\"strict\",\"coloraxis\":{\"colorbar\":{\"outlinewidth\":0,\"ticks\":\"\"}},\"colorscale\":{\"diverging\":[[0,\"#8e0152\"],[0.1,\"#c51b7d\"],[0.2,\"#de77ae\"],[0.3,\"#f1b6da\"],[0.4,\"#fde0ef\"],[0.5,\"#f7f7f7\"],[0.6,\"#e6f5d0\"],[0.7,\"#b8e186\"],[0.8,\"#7fbc41\"],[0.9,\"#4d9221\"],[1,\"#276419\"]],\"sequential\":[[0.0,\"#0d0887\"],[0.1111111111111111,\"#46039f\"],[0.2222222222222222,\"#7201a8\"],[0.3333333333333333,\"#9c179e\"],[0.4444444444444444,\"#bd3786\"],[0.5555555555555556,\"#d8576b\"],[0.6666666666666666,\"#ed7953\"],[0.7777777777777778,\"#fb9f3a\"],[0.8888888888888888,\"#fdca26\"],[1.0,\"#f0f921\"]],\"sequentialminus\":[[0.0,\"#0d0887\"],[0.1111111111111111,\"#46039f\"],[0.2222222222222222,\"#7201a8\"],[0.3333333333333333,\"#9c179e\"],[0.4444444444444444,\"#bd3786\"],[0.5555555555555556,\"#d8576b\"],[0.6666666666666666,\"#ed7953\"],[0.7777777777777778,\"#fb9f3a\"],[0.8888888888888888,\"#fdca26\"],[1.0,\"#f0f921\"]]},\"colorway\":[\"#636efa\",\"#EF553B\",\"#00cc96\",\"#ab63fa\",\"#FFA15A\",\"#19d3f3\",\"#FF6692\",\"#B6E880\",\"#FF97FF\",\"#FECB52\"],\"font\":{\"color\":\"#2a3f5f\"},\"geo\":{\"bgcolor\":\"white\",\"lakecolor\":\"white\",\"landcolor\":\"#E5ECF6\",\"showlakes\":true,\"showland\":true,\"subunitcolor\":\"white\"},\"hoverlabel\":{\"align\":\"left\"},\"hovermode\":\"closest\",\"mapbox\":{\"style\":\"light\"},\"paper_bgcolor\":\"white\",\"plot_bgcolor\":\"#E5ECF6\",\"polar\":{\"angularaxis\":{\"gridcolor\":\"white\",\"linecolor\":\"white\",\"ticks\":\"\"},\"bgcolor\":\"#E5ECF6\",\"radialaxis\":{\"gridcolor\":\"white\",\"linecolor\":\"white\",\"ticks\":\"\"}},\"scene\":{\"xaxis\":{\"backgroundcolor\":\"#E5ECF6\",\"gridcolor\":\"white\",\"gridwidth\":2,\"linecolor\":\"white\",\"showbackground\":true,\"ticks\":\"\",\"zerolinecolor\":\"white\"},\"yaxis\":{\"backgroundcolor\":\"#E5ECF6\",\"gridcolor\":\"white\",\"gridwidth\":2,\"linecolor\":\"white\",\"showbackground\":true,\"ticks\":\"\",\"zerolinecolor\":\"white\"},\"zaxis\":{\"backgroundcolor\":\"#E5ECF6\",\"gridcolor\":\"white\",\"gridwidth\":2,\"linecolor\":\"white\",\"showbackground\":true,\"ticks\":\"\",\"zerolinecolor\":\"white\"}},\"shapedefaults\":{\"line\":{\"color\":\"#2a3f5f\"}},\"ternary\":{\"aaxis\":{\"gridcolor\":\"white\",\"linecolor\":\"white\",\"ticks\":\"\"},\"baxis\":{\"gridcolor\":\"white\",\"linecolor\":\"white\",\"ticks\":\"\"},\"bgcolor\":\"#E5ECF6\",\"caxis\":{\"gridcolor\":\"white\",\"linecolor\":\"white\",\"ticks\":\"\"}},\"title\":{\"x\":0.05},\"xaxis\":{\"automargin\":true,\"gridcolor\":\"white\",\"linecolor\":\"white\",\"ticks\":\"\",\"title\":{\"standoff\":15},\"zerolinecolor\":\"white\",\"zerolinewidth\":2},\"yaxis\":{\"automargin\":true,\"gridcolor\":\"white\",\"linecolor\":\"white\",\"ticks\":\"\",\"title\":{\"standoff\":15},\"zerolinecolor\":\"white\",\"zerolinewidth\":2}}},\"xaxis\":{\"anchor\":\"y\",\"domain\":[0.0,1.0],\"title\":{\"text\":\"g_x\"}},\"yaxis\":{\"anchor\":\"x\",\"domain\":[0.0,1.0],\"title\":{\"text\":\"g_z\"}},\"legend\":{\"tracegroupgap\":0},\"margin\":{\"t\":60}},                        {\"responsive\": true}                    ).then(function(){\n",
       "                            \n",
       "var gd = document.getElementById('0102b8df-f2dd-476a-8bdc-24c2b0c7f1db');\n",
       "var x = new MutationObserver(function (mutations, observer) {{\n",
       "        var display = window.getComputedStyle(gd).display;\n",
       "        if (!display || display === 'none') {{\n",
       "            console.log([gd, 'removed!']);\n",
       "            Plotly.purge(gd);\n",
       "            observer.disconnect();\n",
       "        }}\n",
       "}});\n",
       "\n",
       "// Listen for the removal of the full notebook cells\n",
       "var notebookContainer = gd.closest('#notebook-container');\n",
       "if (notebookContainer) {{\n",
       "    x.observe(notebookContainer, {childList: true});\n",
       "}}\n",
       "\n",
       "// Listen for the clearing of the current output cell\n",
       "var outputEl = gd.closest('.output');\n",
       "if (outputEl) {{\n",
       "    x.observe(outputEl, {childList: true});\n",
       "}}\n",
       "\n",
       "                        })                };                });            </script>        </div>"
      ]
     },
     "metadata": {},
     "output_type": "display_data"
    },
    {
     "data": {
      "application/vnd.plotly.v1+json": {
       "config": {
        "plotlyServerURL": "https://plot.ly"
       },
       "data": [
        {
         "hovertemplate": "g_x=%{x}<br>g_y=%{y}<br>g_z=%{z}<br>layer_id=%{marker.color}<extra></extra>",
         "legendgroup": "",
         "marker": {
          "color": [
           0,
           0,
           0,
           0,
           0,
           0,
           0,
           2,
           2,
           0,
           0,
           2,
           0,
           0,
           2,
           2,
           0,
           0,
           0,
           0,
           0,
           0,
           0,
           0,
           4,
           4,
           0,
           0,
           4,
           0,
           0,
           4,
           4,
           0,
           0,
           0,
           0,
           0,
           0,
           0,
           0,
           6,
           6,
           0,
           0,
           6,
           0,
           0,
           6,
           6,
           0,
           0,
           0,
           0,
           0,
           0,
           0,
           0,
           8,
           8,
           0,
           0,
           8,
           0,
           0,
           8,
           8,
           0,
           0,
           0,
           0,
           0,
           0,
           0,
           0,
           0,
           0,
           0,
           0,
           0,
           0,
           0,
           0,
           0,
           0,
           0,
           0,
           0,
           0,
           0,
           0,
           0,
           0,
           0,
           0,
           0,
           0,
           0,
           0,
           10,
           0,
           10,
           10,
           10,
           0,
           0,
           0,
           0,
           0,
           0,
           0,
           0,
           0,
           0,
           0,
           0,
           0,
           0,
           0,
           0,
           0,
           0,
           0,
           0,
           0,
           0,
           0,
           0,
           0,
           0,
           0,
           0,
           0,
           0,
           0,
           0,
           0,
           0,
           0,
           0,
           0,
           0,
           0,
           0,
           0,
           0,
           0,
           0,
           0,
           0,
           0,
           0,
           0,
           0,
           0,
           0,
           0,
           0,
           0,
           0,
           0,
           0,
           0,
           0,
           0,
           0,
           0,
           0,
           0,
           0,
           0,
           0,
           0,
           0,
           0,
           0,
           0,
           0,
           0,
           0,
           0,
           0,
           0,
           0,
           0,
           0,
           0,
           0,
           0,
           0,
           0,
           12,
           0,
           12,
           12,
           12,
           0,
           0,
           0,
           0,
           0,
           0,
           0,
           0,
           0,
           0,
           0,
           0,
           0,
           0,
           0,
           0,
           0,
           0,
           0,
           0,
           0
          ],
          "coloraxis": "coloraxis",
          "size": 4,
          "symbol": "circle"
         },
         "mode": "markers",
         "name": "",
         "scene": "scene",
         "showlegend": false,
         "type": "scatter3d",
         "x": [
          0.005713460501283407,
          1.0057039260864258,
          2.005694627761841,
          3.005685329437256,
          4.005676746368408,
          5.005667686462402,
          6.005659103393555,
          6.829999923706055,
          7,
          7.9999918937683105,
          8.999983787536621,
          9.99997615814209,
          10.999968528747559,
          11.999960899353027,
          12.999953269958496,
          13.170000076293945,
          14.169992446899414,
          15.1699857711792,
          16.16997718811035,
          17.169971466064453,
          18.169963836669922,
          19.16995620727539,
          20.169950485229492,
          21.16994285583496,
          21.829999923706055,
          22,
          22.99999237060547,
          23.99998664855957,
          24.99997901916504,
          25.99997329711914,
          26.99996566772461,
          27.999958038330078,
          28.170000076293945,
          29.169992446899414,
          30.169986724853516,
          31.169979095458984,
          32.16997146606445,
          33.16996383666992,
          34.16995620727539,
          35.16994857788086,
          36.16994094848633,
          36.83000183105469,
          37,
          37.99999237060547,
          38.99998474121094,
          39.999977111816406,
          40.999969482421875,
          41.999961853027344,
          42.99995040893555,
          43.16999816894531,
          44.16999053955078,
          45.16998291015625,
          46.16997528076172,
          47.16996383666992,
          48.16995620727539,
          49.169944763183594,
          50.16993713378906,
          51.169925689697266,
          51.83000183105469,
          52,
          52.9999885559082,
          53.99998092651367,
          54.999969482421875,
          55.99995803833008,
          56.99994659423828,
          57.999935150146484,
          58.16999816894531,
          59.169986724853516,
          60.16997528076172,
          61.16996383666992,
          62.169952392578125,
          63.16993713378906,
          64.169921875,
          65.16991424560547,
          66.1698989868164,
          67.16988372802734,
          68.16986846923828,
          69.16985321044922,
          70.16983795166016,
          71.1698226928711,
          72.16980743408203,
          73.16979217529297,
          74.1697769165039,
          75.16976165771484,
          76.16974639892578,
          77.16972351074219,
          78.16970825195312,
          79.16969299316406,
          80.16967010498047,
          81.1696548461914,
          82.16963195800781,
          83.16961669921875,
          84.16959381103516,
          85.1695785522461,
          86.1695556640625,
          87.1695327758789,
          88.16950988769531,
          89.16949462890625,
          90.16947174072266,
          91.02999877929688,
          92.02997589111328,
          92.19999694824219,
          93,
          93.37000274658203,
          94.36997985839844,
          95.36994934082031,
          96.36992645263672,
          97.36990356445312,
          98.36988067626953,
          99.3698501586914,
          100.36982727050781,
          101.36979675292969,
          102.3697738647461,
          103.36974334716797,
          104.36971282958984,
          105.36968994140625,
          106.36965942382812,
          107.36962890625,
          108.36959838867188,
          109.36956787109375,
          110.36953735351562,
          111.3695068359375,
          112.36947631835938,
          113.36944580078125,
          114.36941528320312,
          115.369384765625,
          116.36934661865234,
          117.36931610107422,
          118.3692855834961,
          119.36924743652344,
          120.36920928955078,
          121.36917877197266,
          122.369140625,
          123.36910247802734,
          124.36907196044922,
          125.36903381347656,
          126.3689956665039,
          127.36895751953125,
          128.36892700195312,
          129.36888122558594,
          130.36883544921875,
          131.36880493164062,
          132.36875915527344,
          133.3687286376953,
          134.36868286132812,
          135.36863708496094,
          136.3686065673828,
          137.36856079101562,
          138.36851501464844,
          139.36846923828125,
          140.36842346191406,
          141.36837768554688,
          142.36834716796875,
          143.36830139160156,
          144.36825561523438,
          145.3682098388672,
          146.3681640625,
          147.3681182861328,
          148.36807250976562,
          149.36802673339844,
          150.36798095703125,
          151.367919921875,
          152.3678741455078,
          153.36782836914062,
          154.36778259277344,
          155.36773681640625,
          156.36767578125,
          157.3676300048828,
          158.36758422851562,
          159.36752319335938,
          160.3674774169922,
          161.367431640625,
          162.36737060546875,
          163.36732482910156,
          164.3672637939453,
          165.36721801757812,
          166.36715698242188,
          167.3671112060547,
          168.36705017089844,
          169.36700439453125,
          170.366943359375,
          171.36688232421875,
          172.36683654785156,
          173.3667755126953,
          174.36671447753906,
          175.36666870117188,
          176.36660766601562,
          177.36654663085938,
          178.36648559570312,
          179.36642456054688,
          180.36636352539062,
          181.02999877929688,
          182.02993774414062,
          182.1999969482422,
          183,
          183.3699951171875,
          184.36993408203125,
          185.369873046875,
          186.36981201171875,
          187.3697509765625,
          188.36968994140625,
          189.36962890625,
          190.36956787109375,
          191.3695068359375,
          192.36944580078125,
          193.369384765625,
          194.3693084716797,
          195.36924743652344,
          196.3691864013672,
          197.36912536621094,
          198.36904907226562,
          199.36898803710938,
          200.36892700195312,
          201.3688507080078,
          202.36878967285156,
          203.3687286376953,
          204.1772003173828
         ],
         "y": [
          -2.4068098068237305,
          -2.4044861793518066,
          -2.4022626876831055,
          -2.400139331817627,
          -2.398115634918213,
          -2.3961918354034424,
          -2.3943674564361572,
          -2.3929381370544434,
          -2.3926517963409424,
          -2.3910253047943115,
          -2.389497756958008,
          -2.3880691528320312,
          -2.3867390155792236,
          -2.385507106781006,
          -2.384373664855957,
          -2.384190559387207,
          -2.383171558380127,
          -2.3822505474090576,
          -2.3814268112182617,
          -2.3807003498077393,
          -2.3800711631774902,
          -2.3795387744903564,
          -2.379102945327759,
          -2.3787636756896973,
          -2.3785922527313232,
          -2.3785548210144043,
          -2.3783912658691406,
          -2.378323554992676,
          -2.3783509731292725,
          -2.3784737586975098,
          -2.3786916732788086,
          -2.3790040016174316,
          -2.3790664672851562,
          -2.3794894218444824,
          -2.3800063133239746,
          -2.380617141723633,
          -2.381321430206299,
          -2.3821191787719727,
          -2.383009672164917,
          -2.383992910385132,
          -2.385068416595459,
          -2.385828971862793,
          -2.38603138923645,
          -2.387275218963623,
          -2.388610601425171,
          -2.3900370597839355,
          -2.391554594039917,
          -2.393162488937378,
          -2.3948607444763184,
          -2.395158529281616,
          -2.3969619274139404,
          -2.3988547325134277,
          -2.400836706161499,
          -2.402907609939575,
          -2.405066967010498,
          -2.4073145389556885,
          -2.4096498489379883,
          -2.4120726585388184,
          -2.413719654083252,
          -2.414149761199951,
          -2.416731834411621,
          -2.4193999767303467,
          -2.422154426574707,
          -2.424994707107544,
          -2.42792010307312,
          -2.4309306144714355,
          -2.4314510822296143,
          -2.4345602989196777,
          -2.437753677368164,
          -2.441030740737915,
          -2.4443910121917725,
          -2.447834014892578,
          -2.451359510421753,
          -2.4549672603607178,
          -2.4586563110351562,
          -2.4624266624450684,
          -2.466277599334717,
          -2.4702091217041016,
          -2.4742202758789062,
          -2.4783108234405518,
          -2.482480525970459,
          -2.4867286682128906,
          -2.4910550117492676,
          -2.4954590797424316,
          -2.4999403953552246,
          -2.5044984817504883,
          -2.5091328620910645,
          -2.513843059539795,
          -2.5186290740966797,
          -2.5234897136688232,
          -2.5284252166748047,
          -2.5334348678588867,
          -2.538518190383911,
          -2.5436747074127197,
          -2.5489039421081543,
          -2.5542056560516357,
          -2.5595791339874268,
          -2.5650241374969482,
          -2.570540428161621,
          -2.575343608856201,
          -2.580990791320801,
          -2.5819578170776367,
          -2.5865352153778076,
          -2.588667154312134,
          -2.5944766998291016,
          -2.6003549098968506,
          -2.6063015460968018,
          -2.6123156547546387,
          -2.6183974742889404,
          -2.6245460510253906,
          -2.63076114654541,
          -2.637042284011841,
          -2.6433889865875244,
          -2.649801015853882,
          -2.656277656555176,
          -2.662818670272827,
          -2.6694235801696777,
          -2.6760916709899902,
          -2.6828231811523438,
          -2.6896169185638428,
          -2.6964731216430664,
          -2.7033908367156982,
          -2.7103700637817383,
          -2.717410087585449,
          -2.724510431289673,
          -2.731671094894409,
          -2.738891124725342,
          -2.7461705207824707,
          -2.7535088062286377,
          -2.7609052658081055,
          -2.768359899520874,
          -2.775871992111206,
          -2.7834413051605225,
          -2.791067600250244,
          -2.7987499237060547,
          -2.806488513946533,
          -2.8142824172973633,
          -2.822131633758545,
          -2.83003568649292,
          -2.83799409866333,
          -2.846006393432617,
          -2.8540725708007812,
          -2.862191915512085,
          -2.87036395072937,
          -2.8785886764526367,
          -2.8868653774261475,
          -2.8951938152313232,
          -2.9035730361938477,
          -2.9120025634765625,
          -2.9204814434051514,
          -2.929009199142456,
          -2.9375853538513184,
          -2.94620943069458,
          -2.954880714416504,
          -2.963599443435669,
          -2.972364902496338,
          -2.9811768531799316,
          -2.990035057067871,
          -2.998938798904419,
          -3.007888078689575,
          -3.0168826580047607,
          -3.0259218215942383,
          -3.0350053310394287,
          -3.044133186340332,
          -3.053304672241211,
          -3.0625195503234863,
          -3.071777582168579,
          -3.08107852935791,
          -3.0904219150543213,
          -3.0998075008392334,
          -3.1092350482940674,
          -3.118704080581665,
          -3.1282143592834473,
          -3.137765645980835,
          -3.147357702255249,
          -3.156989812850952,
          -3.1666622161865234,
          -3.1763744354248047,
          -3.1861259937286377,
          -3.1959166526794434,
          -3.2057464122772217,
          -3.2156145572662354,
          -3.2255213260650635,
          -3.2354660034179688,
          -3.245448350906372,
          -3.2554683685302734,
          -3.2655255794525146,
          -3.2756197452545166,
          -3.2857506275177,
          -3.2959179878234863,
          -3.306121349334717,
          -3.312912940979004,
          -3.323176145553589,
          -3.324925184249878,
          -3.3331663608551025,
          -3.3369858264923096,
          -3.3473315238952637,
          -3.3577120304107666,
          -3.3681273460388184,
          -3.3785769939422607,
          -3.3890607357025146,
          -3.399578332901001,
          -3.4101297855377197,
          -3.4207143783569336,
          -3.4313321113586426,
          -3.4419827461242676,
          -3.4526662826538086,
          -3.4633820056915283,
          -3.4741299152374268,
          -3.484909772872925,
          -3.4957213401794434,
          -3.5065643787384033,
          -3.5174386501312256,
          -3.528343915939331,
          -3.5392799377441406,
          -3.5502467155456543,
          -3.559135675430298
         ],
         "z": [
          -39.085540771484375,
          -39.08183670043945,
          -39.07813262939453,
          -39.074424743652344,
          -39.07072067260742,
          -39.067012786865234,
          -39.06330871582031,
          -39.06025314331055,
          -39.05962371826172,
          -39.05591583251953,
          -39.05221176147461,
          -39.04850769042969,
          -39.0447998046875,
          -39.04109573364258,
          -39.03738784790039,
          -39.03675842285156,
          -39.03305435180664,
          -39.02934646606445,
          -39.02564239501953,
          -39.021934509277344,
          -39.01823043823242,
          -39.0145263671875,
          -39.01081848144531,
          -39.00711441040039,
          -39.004669189453125,
          -39.00403594970703,
          -39.00033187866211,
          -38.99662780761719,
          -38.992919921875,
          -38.98921585083008,
          -38.98550796508789,
          -38.98180389404297,
          -38.98117446899414,
          -38.97746658325195,
          -38.97376251220703,
          -38.97005844116211,
          -38.96635055541992,
          -38.962646484375,
          -38.95893859863281,
          -38.95523452758789,
          -38.9515266418457,
          -38.94908142089844,
          -38.94845199584961,
          -38.94474792480469,
          -38.9410400390625,
          -38.93733596801758,
          -38.93362808227539,
          -38.92992401123047,
          -38.92621612548828,
          -38.92558670043945,
          -38.92188262939453,
          -38.918174743652344,
          -38.91447067260742,
          -38.910762786865234,
          -38.90705871582031,
          -38.903350830078125,
          -38.8996467590332,
          -38.895938873291016,
          -38.89349365234375,
          -38.89286422729492,
          -38.889156341552734,
          -38.88545227050781,
          -38.881744384765625,
          -38.8780403137207,
          -38.874332427978516,
          -38.87062454223633,
          -38.8699951171875,
          -38.86629104614258,
          -38.86258316040039,
          -38.8588752746582,
          -38.85517120361328,
          -38.851463317871094,
          -38.847755432128906,
          -38.844051361083984,
          -38.8403434753418,
          -38.83663558959961,
          -38.83292770385742,
          -38.8292236328125,
          -38.82551574707031,
          -38.821807861328125,
          -38.81809997558594,
          -38.81439208984375,
          -38.81068801879883,
          -38.80698013305664,
          -38.80327224731445,
          -38.799564361572266,
          -38.79585647583008,
          -38.79214859008789,
          -38.7884407043457,
          -38.784732818603516,
          -38.78102493286133,
          -38.77731704711914,
          -38.77360916137695,
          -38.769901275634766,
          -38.76619338989258,
          -38.76248550415039,
          -38.75877380371094,
          -38.75506591796875,
          -38.75135803222656,
          -38.748165130615234,
          -38.74445724487305,
          -38.74382781982422,
          -38.74085998535156,
          -38.73948669433594,
          -38.73577880859375,
          -38.73207092285156,
          -38.72835922241211,
          -38.72465133666992,
          -38.72093963623047,
          -38.71723175048828,
          -38.71352005004883,
          -38.70981216430664,
          -38.70610046386719,
          -38.702392578125,
          -38.69868087768555,
          -38.69497299194336,
          -38.691261291503906,
          -38.68754959106445,
          -38.683837890625,
          -38.68013000488281,
          -38.67641830444336,
          -38.672706604003906,
          -38.66899490356445,
          -38.665287017822266,
          -38.66157531738281,
          -38.65786361694336,
          -38.654151916503906,
          -38.65044021606445,
          -38.646728515625,
          -38.64301681518555,
          -38.639305114746094,
          -38.63559341430664,
          -38.63187789916992,
          -38.62816619873047,
          -38.624454498291016,
          -38.62074279785156,
          -38.61703109741211,
          -38.61331558227539,
          -38.60960388183594,
          -38.605892181396484,
          -38.602176666259766,
          -38.59846496582031,
          -38.59475326538086,
          -38.59103775024414,
          -38.58732604980469,
          -38.58361053466797,
          -38.579898834228516,
          -38.5761833190918,
          -38.57246780395508,
          -38.568756103515625,
          -38.565040588378906,
          -38.56132507324219,
          -38.557613372802734,
          -38.553897857666016,
          -38.5501823425293,
          -38.54646682739258,
          -38.54275131225586,
          -38.539039611816406,
          -38.53532409667969,
          -38.53160858154297,
          -38.52789306640625,
          -38.52417755126953,
          -38.52046203613281,
          -38.516746520996094,
          -38.513031005859375,
          -38.50931167602539,
          -38.50559616088867,
          -38.50188064575195,
          -38.498165130615234,
          -38.494449615478516,
          -38.49073028564453,
          -38.48701477050781,
          -38.483299255371094,
          -38.479583740234375,
          -38.47586441040039,
          -38.47214889526367,
          -38.46842956542969,
          -38.46471405029297,
          -38.460994720458984,
          -38.457279205322266,
          -38.45355987548828,
          -38.44984436035156,
          -38.44612503051758,
          -38.44240951538086,
          -38.438690185546875,
          -38.43497085571289,
          -38.43125534057617,
          -38.42753601074219,
          -38.4238166809082,
          -38.42009735107422,
          -38.4163818359375,
          -38.41391372680664,
          -38.410194396972656,
          -38.40956115722656,
          -38.406585693359375,
          -38.405208587646484,
          -38.4014892578125,
          -38.397769927978516,
          -38.39405059814453,
          -38.39033126831055,
          -38.38661193847656,
          -38.38289260864258,
          -38.379173278808594,
          -38.37545394897461,
          -38.371734619140625,
          -38.36801528930664,
          -38.364295959472656,
          -38.36057662963867,
          -38.35685729980469,
          -38.35313415527344,
          -38.34941482543945,
          -38.34569549560547,
          -38.341976165771484,
          -38.338253021240234,
          -38.33453369140625,
          -38.330814361572266,
          -38.32780456542969
         ]
        },
        {
         "error_y": {
          "array": [
           0.01,
           0.01,
           0.01,
           0.01,
           0.01,
           0.01,
           0.01,
           0.01,
           0.01,
           0.01
          ],
          "type": "data",
          "visible": true
         },
         "marker": {
          "line": {
           "width": 0
          },
          "size": 5
         },
         "mode": "markers",
         "name": "hits",
         "type": "scatter3d",
         "x": [
          6.900000095367432,
          12.899999618530273,
          21.899999618530273,
          27.899999618530273,
          36.900001525878906,
          42.900001525878906,
          51.900001525878906,
          57.900001525878906,
          92.9000015258789,
          182.89999389648438
         ],
         "y": [
          -2.378948211669922,
          -2.374272584915161,
          -2.376556158065796,
          -2.3821465969085693,
          -2.397494316101074,
          -2.412040948867798,
          -2.440347671508789,
          -2.461609363555908,
          -2.6385598182678223,
          -3.4410717487335205
         ],
         "z": [
          -38.95774841308594,
          -38.950836181640625,
          -38.93644332885742,
          -38.9257698059082,
          -38.90895462036133,
          -38.89809036254883,
          -38.88535690307617,
          -38.87715530395508,
          -38.829811096191406,
          -38.689842224121094
         ]
        }
       ],
       "layout": {
        "autosize": false,
        "coloraxis": {
         "colorbar": {
          "title": {
           "text": "layer_id"
          }
         },
         "colorscale": [
          [
           0,
           "#0d0887"
          ],
          [
           0.1111111111111111,
           "#46039f"
          ],
          [
           0.2222222222222222,
           "#7201a8"
          ],
          [
           0.3333333333333333,
           "#9c179e"
          ],
          [
           0.4444444444444444,
           "#bd3786"
          ],
          [
           0.5555555555555556,
           "#d8576b"
          ],
          [
           0.6666666666666666,
           "#ed7953"
          ],
          [
           0.7777777777777778,
           "#fb9f3a"
          ],
          [
           0.8888888888888888,
           "#fdca26"
          ],
          [
           1,
           "#f0f921"
          ]
         ]
        },
        "height": 800,
        "legend": {
         "tracegroupgap": 0
        },
        "margin": {
         "b": 0,
         "l": 0,
         "r": 0,
         "t": 0
        },
        "scene": {
         "aspectmode": "auto",
         "aspectratio": {
          "x": 1,
          "y": 1,
          "z": 1
         },
         "camera": {
          "center": {
           "x": 0,
           "y": 0,
           "z": 0
          },
          "eye": {
           "x": 1.8192973821694147,
           "y": 1.8192973821694152,
           "z": 1.8192973821694147
          },
          "projection": {
           "type": "perspective"
          },
          "up": {
           "x": 0,
           "y": 0,
           "z": 1
          }
         },
         "domain": {
          "x": [
           0,
           1
          ],
          "y": [
           0,
           1
          ]
         },
         "xaxis": {
          "title": {
           "text": "g_x"
          },
          "type": "linear"
         },
         "yaxis": {
          "title": {
           "text": "g_y"
          },
          "type": "linear"
         },
         "zaxis": {
          "title": {
           "text": "g_z"
          },
          "type": "linear"
         }
        },
        "template": {
         "data": {
          "bar": [
           {
            "error_x": {
             "color": "#2a3f5f"
            },
            "error_y": {
             "color": "#2a3f5f"
            },
            "marker": {
             "line": {
              "color": "#E5ECF6",
              "width": 0.5
             },
             "pattern": {
              "fillmode": "overlay",
              "size": 10,
              "solidity": 0.2
             }
            },
            "type": "bar"
           }
          ],
          "barpolar": [
           {
            "marker": {
             "line": {
              "color": "#E5ECF6",
              "width": 0.5
             },
             "pattern": {
              "fillmode": "overlay",
              "size": 10,
              "solidity": 0.2
             }
            },
            "type": "barpolar"
           }
          ],
          "carpet": [
           {
            "aaxis": {
             "endlinecolor": "#2a3f5f",
             "gridcolor": "white",
             "linecolor": "white",
             "minorgridcolor": "white",
             "startlinecolor": "#2a3f5f"
            },
            "baxis": {
             "endlinecolor": "#2a3f5f",
             "gridcolor": "white",
             "linecolor": "white",
             "minorgridcolor": "white",
             "startlinecolor": "#2a3f5f"
            },
            "type": "carpet"
           }
          ],
          "choropleth": [
           {
            "colorbar": {
             "outlinewidth": 0,
             "ticks": ""
            },
            "type": "choropleth"
           }
          ],
          "contour": [
           {
            "colorbar": {
             "outlinewidth": 0,
             "ticks": ""
            },
            "colorscale": [
             [
              0,
              "#0d0887"
             ],
             [
              0.1111111111111111,
              "#46039f"
             ],
             [
              0.2222222222222222,
              "#7201a8"
             ],
             [
              0.3333333333333333,
              "#9c179e"
             ],
             [
              0.4444444444444444,
              "#bd3786"
             ],
             [
              0.5555555555555556,
              "#d8576b"
             ],
             [
              0.6666666666666666,
              "#ed7953"
             ],
             [
              0.7777777777777778,
              "#fb9f3a"
             ],
             [
              0.8888888888888888,
              "#fdca26"
             ],
             [
              1,
              "#f0f921"
             ]
            ],
            "type": "contour"
           }
          ],
          "contourcarpet": [
           {
            "colorbar": {
             "outlinewidth": 0,
             "ticks": ""
            },
            "type": "contourcarpet"
           }
          ],
          "heatmap": [
           {
            "colorbar": {
             "outlinewidth": 0,
             "ticks": ""
            },
            "colorscale": [
             [
              0,
              "#0d0887"
             ],
             [
              0.1111111111111111,
              "#46039f"
             ],
             [
              0.2222222222222222,
              "#7201a8"
             ],
             [
              0.3333333333333333,
              "#9c179e"
             ],
             [
              0.4444444444444444,
              "#bd3786"
             ],
             [
              0.5555555555555556,
              "#d8576b"
             ],
             [
              0.6666666666666666,
              "#ed7953"
             ],
             [
              0.7777777777777778,
              "#fb9f3a"
             ],
             [
              0.8888888888888888,
              "#fdca26"
             ],
             [
              1,
              "#f0f921"
             ]
            ],
            "type": "heatmap"
           }
          ],
          "heatmapgl": [
           {
            "colorbar": {
             "outlinewidth": 0,
             "ticks": ""
            },
            "colorscale": [
             [
              0,
              "#0d0887"
             ],
             [
              0.1111111111111111,
              "#46039f"
             ],
             [
              0.2222222222222222,
              "#7201a8"
             ],
             [
              0.3333333333333333,
              "#9c179e"
             ],
             [
              0.4444444444444444,
              "#bd3786"
             ],
             [
              0.5555555555555556,
              "#d8576b"
             ],
             [
              0.6666666666666666,
              "#ed7953"
             ],
             [
              0.7777777777777778,
              "#fb9f3a"
             ],
             [
              0.8888888888888888,
              "#fdca26"
             ],
             [
              1,
              "#f0f921"
             ]
            ],
            "type": "heatmapgl"
           }
          ],
          "histogram": [
           {
            "marker": {
             "pattern": {
              "fillmode": "overlay",
              "size": 10,
              "solidity": 0.2
             }
            },
            "type": "histogram"
           }
          ],
          "histogram2d": [
           {
            "colorbar": {
             "outlinewidth": 0,
             "ticks": ""
            },
            "colorscale": [
             [
              0,
              "#0d0887"
             ],
             [
              0.1111111111111111,
              "#46039f"
             ],
             [
              0.2222222222222222,
              "#7201a8"
             ],
             [
              0.3333333333333333,
              "#9c179e"
             ],
             [
              0.4444444444444444,
              "#bd3786"
             ],
             [
              0.5555555555555556,
              "#d8576b"
             ],
             [
              0.6666666666666666,
              "#ed7953"
             ],
             [
              0.7777777777777778,
              "#fb9f3a"
             ],
             [
              0.8888888888888888,
              "#fdca26"
             ],
             [
              1,
              "#f0f921"
             ]
            ],
            "type": "histogram2d"
           }
          ],
          "histogram2dcontour": [
           {
            "colorbar": {
             "outlinewidth": 0,
             "ticks": ""
            },
            "colorscale": [
             [
              0,
              "#0d0887"
             ],
             [
              0.1111111111111111,
              "#46039f"
             ],
             [
              0.2222222222222222,
              "#7201a8"
             ],
             [
              0.3333333333333333,
              "#9c179e"
             ],
             [
              0.4444444444444444,
              "#bd3786"
             ],
             [
              0.5555555555555556,
              "#d8576b"
             ],
             [
              0.6666666666666666,
              "#ed7953"
             ],
             [
              0.7777777777777778,
              "#fb9f3a"
             ],
             [
              0.8888888888888888,
              "#fdca26"
             ],
             [
              1,
              "#f0f921"
             ]
            ],
            "type": "histogram2dcontour"
           }
          ],
          "mesh3d": [
           {
            "colorbar": {
             "outlinewidth": 0,
             "ticks": ""
            },
            "type": "mesh3d"
           }
          ],
          "parcoords": [
           {
            "line": {
             "colorbar": {
              "outlinewidth": 0,
              "ticks": ""
             }
            },
            "type": "parcoords"
           }
          ],
          "pie": [
           {
            "automargin": true,
            "type": "pie"
           }
          ],
          "scatter": [
           {
            "marker": {
             "colorbar": {
              "outlinewidth": 0,
              "ticks": ""
             }
            },
            "type": "scatter"
           }
          ],
          "scatter3d": [
           {
            "line": {
             "colorbar": {
              "outlinewidth": 0,
              "ticks": ""
             }
            },
            "marker": {
             "colorbar": {
              "outlinewidth": 0,
              "ticks": ""
             }
            },
            "type": "scatter3d"
           }
          ],
          "scattercarpet": [
           {
            "marker": {
             "colorbar": {
              "outlinewidth": 0,
              "ticks": ""
             }
            },
            "type": "scattercarpet"
           }
          ],
          "scattergeo": [
           {
            "marker": {
             "colorbar": {
              "outlinewidth": 0,
              "ticks": ""
             }
            },
            "type": "scattergeo"
           }
          ],
          "scattergl": [
           {
            "marker": {
             "colorbar": {
              "outlinewidth": 0,
              "ticks": ""
             }
            },
            "type": "scattergl"
           }
          ],
          "scattermapbox": [
           {
            "marker": {
             "colorbar": {
              "outlinewidth": 0,
              "ticks": ""
             }
            },
            "type": "scattermapbox"
           }
          ],
          "scatterpolar": [
           {
            "marker": {
             "colorbar": {
              "outlinewidth": 0,
              "ticks": ""
             }
            },
            "type": "scatterpolar"
           }
          ],
          "scatterpolargl": [
           {
            "marker": {
             "colorbar": {
              "outlinewidth": 0,
              "ticks": ""
             }
            },
            "type": "scatterpolargl"
           }
          ],
          "scatterternary": [
           {
            "marker": {
             "colorbar": {
              "outlinewidth": 0,
              "ticks": ""
             }
            },
            "type": "scatterternary"
           }
          ],
          "surface": [
           {
            "colorbar": {
             "outlinewidth": 0,
             "ticks": ""
            },
            "colorscale": [
             [
              0,
              "#0d0887"
             ],
             [
              0.1111111111111111,
              "#46039f"
             ],
             [
              0.2222222222222222,
              "#7201a8"
             ],
             [
              0.3333333333333333,
              "#9c179e"
             ],
             [
              0.4444444444444444,
              "#bd3786"
             ],
             [
              0.5555555555555556,
              "#d8576b"
             ],
             [
              0.6666666666666666,
              "#ed7953"
             ],
             [
              0.7777777777777778,
              "#fb9f3a"
             ],
             [
              0.8888888888888888,
              "#fdca26"
             ],
             [
              1,
              "#f0f921"
             ]
            ],
            "type": "surface"
           }
          ],
          "table": [
           {
            "cells": {
             "fill": {
              "color": "#EBF0F8"
             },
             "line": {
              "color": "white"
             }
            },
            "header": {
             "fill": {
              "color": "#C8D4E3"
             },
             "line": {
              "color": "white"
             }
            },
            "type": "table"
           }
          ]
         },
         "layout": {
          "annotationdefaults": {
           "arrowcolor": "#2a3f5f",
           "arrowhead": 0,
           "arrowwidth": 1
          },
          "autotypenumbers": "strict",
          "coloraxis": {
           "colorbar": {
            "outlinewidth": 0,
            "ticks": ""
           }
          },
          "colorscale": {
           "diverging": [
            [
             0,
             "#8e0152"
            ],
            [
             0.1,
             "#c51b7d"
            ],
            [
             0.2,
             "#de77ae"
            ],
            [
             0.3,
             "#f1b6da"
            ],
            [
             0.4,
             "#fde0ef"
            ],
            [
             0.5,
             "#f7f7f7"
            ],
            [
             0.6,
             "#e6f5d0"
            ],
            [
             0.7,
             "#b8e186"
            ],
            [
             0.8,
             "#7fbc41"
            ],
            [
             0.9,
             "#4d9221"
            ],
            [
             1,
             "#276419"
            ]
           ],
           "sequential": [
            [
             0,
             "#0d0887"
            ],
            [
             0.1111111111111111,
             "#46039f"
            ],
            [
             0.2222222222222222,
             "#7201a8"
            ],
            [
             0.3333333333333333,
             "#9c179e"
            ],
            [
             0.4444444444444444,
             "#bd3786"
            ],
            [
             0.5555555555555556,
             "#d8576b"
            ],
            [
             0.6666666666666666,
             "#ed7953"
            ],
            [
             0.7777777777777778,
             "#fb9f3a"
            ],
            [
             0.8888888888888888,
             "#fdca26"
            ],
            [
             1,
             "#f0f921"
            ]
           ],
           "sequentialminus": [
            [
             0,
             "#0d0887"
            ],
            [
             0.1111111111111111,
             "#46039f"
            ],
            [
             0.2222222222222222,
             "#7201a8"
            ],
            [
             0.3333333333333333,
             "#9c179e"
            ],
            [
             0.4444444444444444,
             "#bd3786"
            ],
            [
             0.5555555555555556,
             "#d8576b"
            ],
            [
             0.6666666666666666,
             "#ed7953"
            ],
            [
             0.7777777777777778,
             "#fb9f3a"
            ],
            [
             0.8888888888888888,
             "#fdca26"
            ],
            [
             1,
             "#f0f921"
            ]
           ]
          },
          "colorway": [
           "#636efa",
           "#EF553B",
           "#00cc96",
           "#ab63fa",
           "#FFA15A",
           "#19d3f3",
           "#FF6692",
           "#B6E880",
           "#FF97FF",
           "#FECB52"
          ],
          "font": {
           "color": "#2a3f5f"
          },
          "geo": {
           "bgcolor": "white",
           "lakecolor": "white",
           "landcolor": "#E5ECF6",
           "showlakes": true,
           "showland": true,
           "subunitcolor": "white"
          },
          "hoverlabel": {
           "align": "left"
          },
          "hovermode": "closest",
          "mapbox": {
           "style": "light"
          },
          "paper_bgcolor": "white",
          "plot_bgcolor": "#E5ECF6",
          "polar": {
           "angularaxis": {
            "gridcolor": "white",
            "linecolor": "white",
            "ticks": ""
           },
           "bgcolor": "#E5ECF6",
           "radialaxis": {
            "gridcolor": "white",
            "linecolor": "white",
            "ticks": ""
           }
          },
          "scene": {
           "xaxis": {
            "backgroundcolor": "#E5ECF6",
            "gridcolor": "white",
            "gridwidth": 2,
            "linecolor": "white",
            "showbackground": true,
            "ticks": "",
            "zerolinecolor": "white"
           },
           "yaxis": {
            "backgroundcolor": "#E5ECF6",
            "gridcolor": "white",
            "gridwidth": 2,
            "linecolor": "white",
            "showbackground": true,
            "ticks": "",
            "zerolinecolor": "white"
           },
           "zaxis": {
            "backgroundcolor": "#E5ECF6",
            "gridcolor": "white",
            "gridwidth": 2,
            "linecolor": "white",
            "showbackground": true,
            "ticks": "",
            "zerolinecolor": "white"
           }
          },
          "shapedefaults": {
           "line": {
            "color": "#2a3f5f"
           }
          },
          "ternary": {
           "aaxis": {
            "gridcolor": "white",
            "linecolor": "white",
            "ticks": ""
           },
           "baxis": {
            "gridcolor": "white",
            "linecolor": "white",
            "ticks": ""
           },
           "bgcolor": "#E5ECF6",
           "caxis": {
            "gridcolor": "white",
            "linecolor": "white",
            "ticks": ""
           }
          },
          "title": {
           "x": 0.05
          },
          "xaxis": {
           "automargin": true,
           "gridcolor": "white",
           "linecolor": "white",
           "ticks": "",
           "title": {
            "standoff": 15
           },
           "zerolinecolor": "white",
           "zerolinewidth": 2
          },
          "yaxis": {
           "automargin": true,
           "gridcolor": "white",
           "linecolor": "white",
           "ticks": "",
           "title": {
            "standoff": 15
           },
           "zerolinecolor": "white",
           "zerolinewidth": 2
          }
         }
        },
        "width": 800
       }
      },
      "image/png": "[encoded data removed]",
      "text/html": [
       "<div>                            <div id=\"563eb42d-e215-4198-84c0-3334917b20f2\" class=\"plotly-graph-div\" style=\"height:800px; width:800px;\"></div>            <script type=\"text/javascript\">                require([\"plotly\"], function(Plotly) {                    window.PLOTLYENV=window.PLOTLYENV || {};                                    if (document.getElementById(\"563eb42d-e215-4198-84c0-3334917b20f2\")) {                    Plotly.newPlot(                        \"563eb42d-e215-4198-84c0-3334917b20f2\",                        [{\"hovertemplate\":\"g_x=%{x}<br>g_y=%{y}<br>g_z=%{z}<br>layer_id=%{marker.color}<extra></extra>\",\"legendgroup\":\"\",\"marker\":{\"color\":[0,0,0,0,0,0,0,2,2,0,0,2,0,0,2,2,0,0,0,0,0,0,0,0,4,4,0,0,4,0,0,4,4,0,0,0,0,0,0,0,0,6,6,0,0,6,0,0,6,6,0,0,0,0,0,0,0,0,8,8,0,0,8,0,0,8,8,0,0,0,0,0,0,0,0,0,0,0,0,0,0,0,0,0,0,0,0,0,0,0,0,0,0,0,0,0,0,0,0,10,0,10,10,10,0,0,0,0,0,0,0,0,0,0,0,0,0,0,0,0,0,0,0,0,0,0,0,0,0,0,0,0,0,0,0,0,0,0,0,0,0,0,0,0,0,0,0,0,0,0,0,0,0,0,0,0,0,0,0,0,0,0,0,0,0,0,0,0,0,0,0,0,0,0,0,0,0,0,0,0,0,0,0,0,0,0,0,0,0,0,0,12,0,12,12,12,0,0,0,0,0,0,0,0,0,0,0,0,0,0,0,0,0,0,0,0,0],\"coloraxis\":\"coloraxis\",\"symbol\":\"circle\",\"size\":4},\"mode\":\"markers\",\"name\":\"\",\"scene\":\"scene\",\"showlegend\":false,\"x\":[0.005713460501283407,1.0057039260864258,2.005694627761841,3.005685329437256,4.005676746368408,5.005667686462402,6.005659103393555,6.829999923706055,7.0,7.9999918937683105,8.999983787536621,9.99997615814209,10.999968528747559,11.999960899353027,12.999953269958496,13.170000076293945,14.169992446899414,15.1699857711792,16.16997718811035,17.169971466064453,18.169963836669922,19.16995620727539,20.169950485229492,21.16994285583496,21.829999923706055,22.0,22.99999237060547,23.99998664855957,24.99997901916504,25.99997329711914,26.99996566772461,27.999958038330078,28.170000076293945,29.169992446899414,30.169986724853516,31.169979095458984,32.16997146606445,33.16996383666992,34.16995620727539,35.16994857788086,36.16994094848633,36.83000183105469,37.0,37.99999237060547,38.99998474121094,39.999977111816406,40.999969482421875,41.999961853027344,42.99995040893555,43.16999816894531,44.16999053955078,45.16998291015625,46.16997528076172,47.16996383666992,48.16995620727539,49.169944763183594,50.16993713378906,51.169925689697266,51.83000183105469,52.0,52.9999885559082,53.99998092651367,54.999969482421875,55.99995803833008,56.99994659423828,57.999935150146484,58.16999816894531,59.169986724853516,60.16997528076172,61.16996383666992,62.169952392578125,63.16993713378906,64.169921875,65.16991424560547,66.1698989868164,67.16988372802734,68.16986846923828,69.16985321044922,70.16983795166016,71.1698226928711,72.16980743408203,73.16979217529297,74.1697769165039,75.16976165771484,76.16974639892578,77.16972351074219,78.16970825195312,79.16969299316406,80.16967010498047,81.1696548461914,82.16963195800781,83.16961669921875,84.16959381103516,85.1695785522461,86.1695556640625,87.1695327758789,88.16950988769531,89.16949462890625,90.16947174072266,91.02999877929688,92.02997589111328,92.19999694824219,93.0,93.37000274658203,94.36997985839844,95.36994934082031,96.36992645263672,97.36990356445312,98.36988067626953,99.3698501586914,100.36982727050781,101.36979675292969,102.3697738647461,103.36974334716797,104.36971282958984,105.36968994140625,106.36965942382812,107.36962890625,108.36959838867188,109.36956787109375,110.36953735351562,111.3695068359375,112.36947631835938,113.36944580078125,114.36941528320312,115.369384765625,116.36934661865234,117.36931610107422,118.3692855834961,119.36924743652344,120.36920928955078,121.36917877197266,122.369140625,123.36910247802734,124.36907196044922,125.36903381347656,126.3689956665039,127.36895751953125,128.36892700195312,129.36888122558594,130.36883544921875,131.36880493164062,132.36875915527344,133.3687286376953,134.36868286132812,135.36863708496094,136.3686065673828,137.36856079101562,138.36851501464844,139.36846923828125,140.36842346191406,141.36837768554688,142.36834716796875,143.36830139160156,144.36825561523438,145.3682098388672,146.3681640625,147.3681182861328,148.36807250976562,149.36802673339844,150.36798095703125,151.367919921875,152.3678741455078,153.36782836914062,154.36778259277344,155.36773681640625,156.36767578125,157.3676300048828,158.36758422851562,159.36752319335938,160.3674774169922,161.367431640625,162.36737060546875,163.36732482910156,164.3672637939453,165.36721801757812,166.36715698242188,167.3671112060547,168.36705017089844,169.36700439453125,170.366943359375,171.36688232421875,172.36683654785156,173.3667755126953,174.36671447753906,175.36666870117188,176.36660766601562,177.36654663085938,178.36648559570312,179.36642456054688,180.36636352539062,181.02999877929688,182.02993774414062,182.1999969482422,183.0,183.3699951171875,184.36993408203125,185.369873046875,186.36981201171875,187.3697509765625,188.36968994140625,189.36962890625,190.36956787109375,191.3695068359375,192.36944580078125,193.369384765625,194.3693084716797,195.36924743652344,196.3691864013672,197.36912536621094,198.36904907226562,199.36898803710938,200.36892700195312,201.3688507080078,202.36878967285156,203.3687286376953,204.1772003173828],\"y\":[-2.4068098068237305,-2.4044861793518066,-2.4022626876831055,-2.400139331817627,-2.398115634918213,-2.3961918354034424,-2.3943674564361572,-2.3929381370544434,-2.3926517963409424,-2.3910253047943115,-2.389497756958008,-2.3880691528320312,-2.3867390155792236,-2.385507106781006,-2.384373664855957,-2.384190559387207,-2.383171558380127,-2.3822505474090576,-2.3814268112182617,-2.3807003498077393,-2.3800711631774902,-2.3795387744903564,-2.379102945327759,-2.3787636756896973,-2.3785922527313232,-2.3785548210144043,-2.3783912658691406,-2.378323554992676,-2.3783509731292725,-2.3784737586975098,-2.3786916732788086,-2.3790040016174316,-2.3790664672851562,-2.3794894218444824,-2.3800063133239746,-2.380617141723633,-2.381321430206299,-2.3821191787719727,-2.383009672164917,-2.383992910385132,-2.385068416595459,-2.385828971862793,-2.38603138923645,-2.387275218963623,-2.388610601425171,-2.3900370597839355,-2.391554594039917,-2.393162488937378,-2.3948607444763184,-2.395158529281616,-2.3969619274139404,-2.3988547325134277,-2.400836706161499,-2.402907609939575,-2.405066967010498,-2.4073145389556885,-2.4096498489379883,-2.4120726585388184,-2.413719654083252,-2.414149761199951,-2.416731834411621,-2.4193999767303467,-2.422154426574707,-2.424994707107544,-2.42792010307312,-2.4309306144714355,-2.4314510822296143,-2.4345602989196777,-2.437753677368164,-2.441030740737915,-2.4443910121917725,-2.447834014892578,-2.451359510421753,-2.4549672603607178,-2.4586563110351562,-2.4624266624450684,-2.466277599334717,-2.4702091217041016,-2.4742202758789062,-2.4783108234405518,-2.482480525970459,-2.4867286682128906,-2.4910550117492676,-2.4954590797424316,-2.4999403953552246,-2.5044984817504883,-2.5091328620910645,-2.513843059539795,-2.5186290740966797,-2.5234897136688232,-2.5284252166748047,-2.5334348678588867,-2.538518190383911,-2.5436747074127197,-2.5489039421081543,-2.5542056560516357,-2.5595791339874268,-2.5650241374969482,-2.570540428161621,-2.575343608856201,-2.580990791320801,-2.5819578170776367,-2.5865352153778076,-2.588667154312134,-2.5944766998291016,-2.6003549098968506,-2.6063015460968018,-2.6123156547546387,-2.6183974742889404,-2.6245460510253906,-2.63076114654541,-2.637042284011841,-2.6433889865875244,-2.649801015853882,-2.656277656555176,-2.662818670272827,-2.6694235801696777,-2.6760916709899902,-2.6828231811523438,-2.6896169185638428,-2.6964731216430664,-2.7033908367156982,-2.7103700637817383,-2.717410087585449,-2.724510431289673,-2.731671094894409,-2.738891124725342,-2.7461705207824707,-2.7535088062286377,-2.7609052658081055,-2.768359899520874,-2.775871992111206,-2.7834413051605225,-2.791067600250244,-2.7987499237060547,-2.806488513946533,-2.8142824172973633,-2.822131633758545,-2.83003568649292,-2.83799409866333,-2.846006393432617,-2.8540725708007812,-2.862191915512085,-2.87036395072937,-2.8785886764526367,-2.8868653774261475,-2.8951938152313232,-2.9035730361938477,-2.9120025634765625,-2.9204814434051514,-2.929009199142456,-2.9375853538513184,-2.94620943069458,-2.954880714416504,-2.963599443435669,-2.972364902496338,-2.9811768531799316,-2.990035057067871,-2.998938798904419,-3.007888078689575,-3.0168826580047607,-3.0259218215942383,-3.0350053310394287,-3.044133186340332,-3.053304672241211,-3.0625195503234863,-3.071777582168579,-3.08107852935791,-3.0904219150543213,-3.0998075008392334,-3.1092350482940674,-3.118704080581665,-3.1282143592834473,-3.137765645980835,-3.147357702255249,-3.156989812850952,-3.1666622161865234,-3.1763744354248047,-3.1861259937286377,-3.1959166526794434,-3.2057464122772217,-3.2156145572662354,-3.2255213260650635,-3.2354660034179688,-3.245448350906372,-3.2554683685302734,-3.2655255794525146,-3.2756197452545166,-3.2857506275177,-3.2959179878234863,-3.306121349334717,-3.312912940979004,-3.323176145553589,-3.324925184249878,-3.3331663608551025,-3.3369858264923096,-3.3473315238952637,-3.3577120304107666,-3.3681273460388184,-3.3785769939422607,-3.3890607357025146,-3.399578332901001,-3.4101297855377197,-3.4207143783569336,-3.4313321113586426,-3.4419827461242676,-3.4526662826538086,-3.4633820056915283,-3.4741299152374268,-3.484909772872925,-3.4957213401794434,-3.5065643787384033,-3.5174386501312256,-3.528343915939331,-3.5392799377441406,-3.5502467155456543,-3.559135675430298],\"z\":[-39.085540771484375,-39.08183670043945,-39.07813262939453,-39.074424743652344,-39.07072067260742,-39.067012786865234,-39.06330871582031,-39.06025314331055,-39.05962371826172,-39.05591583251953,-39.05221176147461,-39.04850769042969,-39.0447998046875,-39.04109573364258,-39.03738784790039,-39.03675842285156,-39.03305435180664,-39.02934646606445,-39.02564239501953,-39.021934509277344,-39.01823043823242,-39.0145263671875,-39.01081848144531,-39.00711441040039,-39.004669189453125,-39.00403594970703,-39.00033187866211,-38.99662780761719,-38.992919921875,-38.98921585083008,-38.98550796508789,-38.98180389404297,-38.98117446899414,-38.97746658325195,-38.97376251220703,-38.97005844116211,-38.96635055541992,-38.962646484375,-38.95893859863281,-38.95523452758789,-38.9515266418457,-38.94908142089844,-38.94845199584961,-38.94474792480469,-38.9410400390625,-38.93733596801758,-38.93362808227539,-38.92992401123047,-38.92621612548828,-38.92558670043945,-38.92188262939453,-38.918174743652344,-38.91447067260742,-38.910762786865234,-38.90705871582031,-38.903350830078125,-38.8996467590332,-38.895938873291016,-38.89349365234375,-38.89286422729492,-38.889156341552734,-38.88545227050781,-38.881744384765625,-38.8780403137207,-38.874332427978516,-38.87062454223633,-38.8699951171875,-38.86629104614258,-38.86258316040039,-38.8588752746582,-38.85517120361328,-38.851463317871094,-38.847755432128906,-38.844051361083984,-38.8403434753418,-38.83663558959961,-38.83292770385742,-38.8292236328125,-38.82551574707031,-38.821807861328125,-38.81809997558594,-38.81439208984375,-38.81068801879883,-38.80698013305664,-38.80327224731445,-38.799564361572266,-38.79585647583008,-38.79214859008789,-38.7884407043457,-38.784732818603516,-38.78102493286133,-38.77731704711914,-38.77360916137695,-38.769901275634766,-38.76619338989258,-38.76248550415039,-38.75877380371094,-38.75506591796875,-38.75135803222656,-38.748165130615234,-38.74445724487305,-38.74382781982422,-38.74085998535156,-38.73948669433594,-38.73577880859375,-38.73207092285156,-38.72835922241211,-38.72465133666992,-38.72093963623047,-38.71723175048828,-38.71352005004883,-38.70981216430664,-38.70610046386719,-38.702392578125,-38.69868087768555,-38.69497299194336,-38.691261291503906,-38.68754959106445,-38.683837890625,-38.68013000488281,-38.67641830444336,-38.672706604003906,-38.66899490356445,-38.665287017822266,-38.66157531738281,-38.65786361694336,-38.654151916503906,-38.65044021606445,-38.646728515625,-38.64301681518555,-38.639305114746094,-38.63559341430664,-38.63187789916992,-38.62816619873047,-38.624454498291016,-38.62074279785156,-38.61703109741211,-38.61331558227539,-38.60960388183594,-38.605892181396484,-38.602176666259766,-38.59846496582031,-38.59475326538086,-38.59103775024414,-38.58732604980469,-38.58361053466797,-38.579898834228516,-38.5761833190918,-38.57246780395508,-38.568756103515625,-38.565040588378906,-38.56132507324219,-38.557613372802734,-38.553897857666016,-38.5501823425293,-38.54646682739258,-38.54275131225586,-38.539039611816406,-38.53532409667969,-38.53160858154297,-38.52789306640625,-38.52417755126953,-38.52046203613281,-38.516746520996094,-38.513031005859375,-38.50931167602539,-38.50559616088867,-38.50188064575195,-38.498165130615234,-38.494449615478516,-38.49073028564453,-38.48701477050781,-38.483299255371094,-38.479583740234375,-38.47586441040039,-38.47214889526367,-38.46842956542969,-38.46471405029297,-38.460994720458984,-38.457279205322266,-38.45355987548828,-38.44984436035156,-38.44612503051758,-38.44240951538086,-38.438690185546875,-38.43497085571289,-38.43125534057617,-38.42753601074219,-38.4238166809082,-38.42009735107422,-38.4163818359375,-38.41391372680664,-38.410194396972656,-38.40956115722656,-38.406585693359375,-38.405208587646484,-38.4014892578125,-38.397769927978516,-38.39405059814453,-38.39033126831055,-38.38661193847656,-38.38289260864258,-38.379173278808594,-38.37545394897461,-38.371734619140625,-38.36801528930664,-38.364295959472656,-38.36057662963867,-38.35685729980469,-38.35313415527344,-38.34941482543945,-38.34569549560547,-38.341976165771484,-38.338253021240234,-38.33453369140625,-38.330814361572266,-38.32780456542969],\"type\":\"scatter3d\"},{\"error_y\":{\"array\":[0.01,0.01,0.01,0.01,0.01,0.01,0.01,0.01,0.01,0.01],\"type\":\"data\",\"visible\":true},\"marker\":{\"line\":{\"width\":0},\"size\":5},\"mode\":\"markers\",\"name\":\"hits\",\"x\":[6.900000095367432,12.899999618530273,21.899999618530273,27.899999618530273,36.900001525878906,42.900001525878906,51.900001525878906,57.900001525878906,92.9000015258789,182.89999389648438],\"y\":[-2.378948211669922,-2.374272584915161,-2.376556158065796,-2.3821465969085693,-2.397494316101074,-2.412040948867798,-2.440347671508789,-2.461609363555908,-2.6385598182678223,-3.4410717487335205],\"z\":[-38.95774841308594,-38.950836181640625,-38.93644332885742,-38.9257698059082,-38.90895462036133,-38.89809036254883,-38.88535690307617,-38.87715530395508,-38.829811096191406,-38.689842224121094],\"type\":\"scatter3d\"}],                        {\"template\":{\"data\":{\"bar\":[{\"error_x\":{\"color\":\"#2a3f5f\"},\"error_y\":{\"color\":\"#2a3f5f\"},\"marker\":{\"line\":{\"color\":\"#E5ECF6\",\"width\":0.5},\"pattern\":{\"fillmode\":\"overlay\",\"size\":10,\"solidity\":0.2}},\"type\":\"bar\"}],\"barpolar\":[{\"marker\":{\"line\":{\"color\":\"#E5ECF6\",\"width\":0.5},\"pattern\":{\"fillmode\":\"overlay\",\"size\":10,\"solidity\":0.2}},\"type\":\"barpolar\"}],\"carpet\":[{\"aaxis\":{\"endlinecolor\":\"#2a3f5f\",\"gridcolor\":\"white\",\"linecolor\":\"white\",\"minorgridcolor\":\"white\",\"startlinecolor\":\"#2a3f5f\"},\"baxis\":{\"endlinecolor\":\"#2a3f5f\",\"gridcolor\":\"white\",\"linecolor\":\"white\",\"minorgridcolor\":\"white\",\"startlinecolor\":\"#2a3f5f\"},\"type\":\"carpet\"}],\"choropleth\":[{\"colorbar\":{\"outlinewidth\":0,\"ticks\":\"\"},\"type\":\"choropleth\"}],\"contour\":[{\"colorbar\":{\"outlinewidth\":0,\"ticks\":\"\"},\"colorscale\":[[0.0,\"#0d0887\"],[0.1111111111111111,\"#46039f\"],[0.2222222222222222,\"#7201a8\"],[0.3333333333333333,\"#9c179e\"],[0.4444444444444444,\"#bd3786\"],[0.5555555555555556,\"#d8576b\"],[0.6666666666666666,\"#ed7953\"],[0.7777777777777778,\"#fb9f3a\"],[0.8888888888888888,\"#fdca26\"],[1.0,\"#f0f921\"]],\"type\":\"contour\"}],\"contourcarpet\":[{\"colorbar\":{\"outlinewidth\":0,\"ticks\":\"\"},\"type\":\"contourcarpet\"}],\"heatmap\":[{\"colorbar\":{\"outlinewidth\":0,\"ticks\":\"\"},\"colorscale\":[[0.0,\"#0d0887\"],[0.1111111111111111,\"#46039f\"],[0.2222222222222222,\"#7201a8\"],[0.3333333333333333,\"#9c179e\"],[0.4444444444444444,\"#bd3786\"],[0.5555555555555556,\"#d8576b\"],[0.6666666666666666,\"#ed7953\"],[0.7777777777777778,\"#fb9f3a\"],[0.8888888888888888,\"#fdca26\"],[1.0,\"#f0f921\"]],\"type\":\"heatmap\"}],\"heatmapgl\":[{\"colorbar\":{\"outlinewidth\":0,\"ticks\":\"\"},\"colorscale\":[[0.0,\"#0d0887\"],[0.1111111111111111,\"#46039f\"],[0.2222222222222222,\"#7201a8\"],[0.3333333333333333,\"#9c179e\"],[0.4444444444444444,\"#bd3786\"],[0.5555555555555556,\"#d8576b\"],[0.6666666666666666,\"#ed7953\"],[0.7777777777777778,\"#fb9f3a\"],[0.8888888888888888,\"#fdca26\"],[1.0,\"#f0f921\"]],\"type\":\"heatmapgl\"}],\"histogram\":[{\"marker\":{\"pattern\":{\"fillmode\":\"overlay\",\"size\":10,\"solidity\":0.2}},\"type\":\"histogram\"}],\"histogram2d\":[{\"colorbar\":{\"outlinewidth\":0,\"ticks\":\"\"},\"colorscale\":[[0.0,\"#0d0887\"],[0.1111111111111111,\"#46039f\"],[0.2222222222222222,\"#7201a8\"],[0.3333333333333333,\"#9c179e\"],[0.4444444444444444,\"#bd3786\"],[0.5555555555555556,\"#d8576b\"],[0.6666666666666666,\"#ed7953\"],[0.7777777777777778,\"#fb9f3a\"],[0.8888888888888888,\"#fdca26\"],[1.0,\"#f0f921\"]],\"type\":\"histogram2d\"}],\"histogram2dcontour\":[{\"colorbar\":{\"outlinewidth\":0,\"ticks\":\"\"},\"colorscale\":[[0.0,\"#0d0887\"],[0.1111111111111111,\"#46039f\"],[0.2222222222222222,\"#7201a8\"],[0.3333333333333333,\"#9c179e\"],[0.4444444444444444,\"#bd3786\"],[0.5555555555555556,\"#d8576b\"],[0.6666666666666666,\"#ed7953\"],[0.7777777777777778,\"#fb9f3a\"],[0.8888888888888888,\"#fdca26\"],[1.0,\"#f0f921\"]],\"type\":\"histogram2dcontour\"}],\"mesh3d\":[{\"colorbar\":{\"outlinewidth\":0,\"ticks\":\"\"},\"type\":\"mesh3d\"}],\"parcoords\":[{\"line\":{\"colorbar\":{\"outlinewidth\":0,\"ticks\":\"\"}},\"type\":\"parcoords\"}],\"pie\":[{\"automargin\":true,\"type\":\"pie\"}],\"scatter\":[{\"marker\":{\"colorbar\":{\"outlinewidth\":0,\"ticks\":\"\"}},\"type\":\"scatter\"}],\"scatter3d\":[{\"line\":{\"colorbar\":{\"outlinewidth\":0,\"ticks\":\"\"}},\"marker\":{\"colorbar\":{\"outlinewidth\":0,\"ticks\":\"\"}},\"type\":\"scatter3d\"}],\"scattercarpet\":[{\"marker\":{\"colorbar\":{\"outlinewidth\":0,\"ticks\":\"\"}},\"type\":\"scattercarpet\"}],\"scattergeo\":[{\"marker\":{\"colorbar\":{\"outlinewidth\":0,\"ticks\":\"\"}},\"type\":\"scattergeo\"}],\"scattergl\":[{\"marker\":{\"colorbar\":{\"outlinewidth\":0,\"ticks\":\"\"}},\"type\":\"scattergl\"}],\"scattermapbox\":[{\"marker\":{\"colorbar\":{\"outlinewidth\":0,\"ticks\":\"\"}},\"type\":\"scattermapbox\"}],\"scatterpolar\":[{\"marker\":{\"colorbar\":{\"outlinewidth\":0,\"ticks\":\"\"}},\"type\":\"scatterpolar\"}],\"scatterpolargl\":[{\"marker\":{\"colorbar\":{\"outlinewidth\":0,\"ticks\":\"\"}},\"type\":\"scatterpolargl\"}],\"scatterternary\":[{\"marker\":{\"colorbar\":{\"outlinewidth\":0,\"ticks\":\"\"}},\"type\":\"scatterternary\"}],\"surface\":[{\"colorbar\":{\"outlinewidth\":0,\"ticks\":\"\"},\"colorscale\":[[0.0,\"#0d0887\"],[0.1111111111111111,\"#46039f\"],[0.2222222222222222,\"#7201a8\"],[0.3333333333333333,\"#9c179e\"],[0.4444444444444444,\"#bd3786\"],[0.5555555555555556,\"#d8576b\"],[0.6666666666666666,\"#ed7953\"],[0.7777777777777778,\"#fb9f3a\"],[0.8888888888888888,\"#fdca26\"],[1.0,\"#f0f921\"]],\"type\":\"surface\"}],\"table\":[{\"cells\":{\"fill\":{\"color\":\"#EBF0F8\"},\"line\":{\"color\":\"white\"}},\"header\":{\"fill\":{\"color\":\"#C8D4E3\"},\"line\":{\"color\":\"white\"}},\"type\":\"table\"}]},\"layout\":{\"annotationdefaults\":{\"arrowcolor\":\"#2a3f5f\",\"arrowhead\":0,\"arrowwidth\":1},\"autotypenumbers\":\"strict\",\"coloraxis\":{\"colorbar\":{\"outlinewidth\":0,\"ticks\":\"\"}},\"colorscale\":{\"diverging\":[[0,\"#8e0152\"],[0.1,\"#c51b7d\"],[0.2,\"#de77ae\"],[0.3,\"#f1b6da\"],[0.4,\"#fde0ef\"],[0.5,\"#f7f7f7\"],[0.6,\"#e6f5d0\"],[0.7,\"#b8e186\"],[0.8,\"#7fbc41\"],[0.9,\"#4d9221\"],[1,\"#276419\"]],\"sequential\":[[0.0,\"#0d0887\"],[0.1111111111111111,\"#46039f\"],[0.2222222222222222,\"#7201a8\"],[0.3333333333333333,\"#9c179e\"],[0.4444444444444444,\"#bd3786\"],[0.5555555555555556,\"#d8576b\"],[0.6666666666666666,\"#ed7953\"],[0.7777777777777778,\"#fb9f3a\"],[0.8888888888888888,\"#fdca26\"],[1.0,\"#f0f921\"]],\"sequentialminus\":[[0.0,\"#0d0887\"],[0.1111111111111111,\"#46039f\"],[0.2222222222222222,\"#7201a8\"],[0.3333333333333333,\"#9c179e\"],[0.4444444444444444,\"#bd3786\"],[0.5555555555555556,\"#d8576b\"],[0.6666666666666666,\"#ed7953\"],[0.7777777777777778,\"#fb9f3a\"],[0.8888888888888888,\"#fdca26\"],[1.0,\"#f0f921\"]]},\"colorway\":[\"#636efa\",\"#EF553B\",\"#00cc96\",\"#ab63fa\",\"#FFA15A\",\"#19d3f3\",\"#FF6692\",\"#B6E880\",\"#FF97FF\",\"#FECB52\"],\"font\":{\"color\":\"#2a3f5f\"},\"geo\":{\"bgcolor\":\"white\",\"lakecolor\":\"white\",\"landcolor\":\"#E5ECF6\",\"showlakes\":true,\"showland\":true,\"subunitcolor\":\"white\"},\"hoverlabel\":{\"align\":\"left\"},\"hovermode\":\"closest\",\"mapbox\":{\"style\":\"light\"},\"paper_bgcolor\":\"white\",\"plot_bgcolor\":\"#E5ECF6\",\"polar\":{\"angularaxis\":{\"gridcolor\":\"white\",\"linecolor\":\"white\",\"ticks\":\"\"},\"bgcolor\":\"#E5ECF6\",\"radialaxis\":{\"gridcolor\":\"white\",\"linecolor\":\"white\",\"ticks\":\"\"}},\"scene\":{\"xaxis\":{\"backgroundcolor\":\"#E5ECF6\",\"gridcolor\":\"white\",\"gridwidth\":2,\"linecolor\":\"white\",\"showbackground\":true,\"ticks\":\"\",\"zerolinecolor\":\"white\"},\"yaxis\":{\"backgroundcolor\":\"#E5ECF6\",\"gridcolor\":\"white\",\"gridwidth\":2,\"linecolor\":\"white\",\"showbackground\":true,\"ticks\":\"\",\"zerolinecolor\":\"white\"},\"zaxis\":{\"backgroundcolor\":\"#E5ECF6\",\"gridcolor\":\"white\",\"gridwidth\":2,\"linecolor\":\"white\",\"showbackground\":true,\"ticks\":\"\",\"zerolinecolor\":\"white\"}},\"shapedefaults\":{\"line\":{\"color\":\"#2a3f5f\"}},\"ternary\":{\"aaxis\":{\"gridcolor\":\"white\",\"linecolor\":\"white\",\"ticks\":\"\"},\"baxis\":{\"gridcolor\":\"white\",\"linecolor\":\"white\",\"ticks\":\"\"},\"bgcolor\":\"#E5ECF6\",\"caxis\":{\"gridcolor\":\"white\",\"linecolor\":\"white\",\"ticks\":\"\"}},\"title\":{\"x\":0.05},\"xaxis\":{\"automargin\":true,\"gridcolor\":\"white\",\"linecolor\":\"white\",\"ticks\":\"\",\"title\":{\"standoff\":15},\"zerolinecolor\":\"white\",\"zerolinewidth\":2},\"yaxis\":{\"automargin\":true,\"gridcolor\":\"white\",\"linecolor\":\"white\",\"ticks\":\"\",\"title\":{\"standoff\":15},\"zerolinecolor\":\"white\",\"zerolinewidth\":2}}},\"scene\":{\"domain\":{\"x\":[0.0,1.0],\"y\":[0.0,1.0]},\"xaxis\":{\"title\":{\"text\":\"g_x\"}},\"yaxis\":{\"title\":{\"text\":\"g_y\"}},\"zaxis\":{\"title\":{\"text\":\"g_z\"}}},\"coloraxis\":{\"colorbar\":{\"title\":{\"text\":\"layer_id\"}},\"colorscale\":[[0.0,\"#0d0887\"],[0.1111111111111111,\"#46039f\"],[0.2222222222222222,\"#7201a8\"],[0.3333333333333333,\"#9c179e\"],[0.4444444444444444,\"#bd3786\"],[0.5555555555555556,\"#d8576b\"],[0.6666666666666666,\"#ed7953\"],[0.7777777777777778,\"#fb9f3a\"],[0.8888888888888888,\"#fdca26\"],[1.0,\"#f0f921\"]]},\"legend\":{\"tracegroupgap\":0},\"margin\":{\"t\":0,\"l\":0,\"r\":0,\"b\":0},\"height\":800,\"width\":800,\"autosize\":false},                        {\"responsive\": true}                    ).then(function(){\n",
       "                            \n",
       "var gd = document.getElementById('563eb42d-e215-4198-84c0-3334917b20f2');\n",
       "var x = new MutationObserver(function (mutations, observer) {{\n",
       "        var display = window.getComputedStyle(gd).display;\n",
       "        if (!display || display === 'none') {{\n",
       "            console.log([gd, 'removed!']);\n",
       "            Plotly.purge(gd);\n",
       "            observer.disconnect();\n",
       "        }}\n",
       "}});\n",
       "\n",
       "// Listen for the removal of the full notebook cells\n",
       "var notebookContainer = gd.closest('#notebook-container');\n",
       "if (notebookContainer) {{\n",
       "    x.observe(notebookContainer, {childList: true});\n",
       "}}\n",
       "\n",
       "// Listen for the clearing of the current output cell\n",
       "var outputEl = gd.closest('.output');\n",
       "if (outputEl) {{\n",
       "    x.observe(outputEl, {childList: true});\n",
       "}}\n",
       "\n",
       "                        })                };                });            </script>        </div>"
      ]
     },
     "metadata": {},
     "output_type": "display_data"
    }
   ],
   "source": [
    "with uproot.open(inputFile) as infile:\n",
    "    propagation_tree = infile[\"propagation_steps\"]\n",
    "\n",
    "    #Check the branches in the tree\n",
    "    #print(propagation_tree.values())\n",
    "\n",
    "    #Read in the X global position/direction of the steps as panda data frames\n",
    "    step_position       = propagation_tree.arrays([\"g_x\",\"g_y\",\"g_z\",\"sensitive_id\",\"approach_id\",\"layer_id\"],\"layer_id>0\",library=\"pd\")\n",
    "    step_position_sens  = propagation_tree.arrays([\"g_x\",\"g_y\",\"g_z\",\"sensitive_id\",\"approach_id\",\"layer_id\"],\"sensitive_id>-1\",library=\"pd\")\n",
    "    hits                = propagation_tree.arrays([\"hit_x\",\"hit_y\",\"hit_z\"],library=\"pd\")\n",
    "    \n",
    "    \n",
    "    \n",
    "    #print(step_position)\n",
    "    #print(step_position.droplevel(level=1,axis=0))\n",
    "    #make a flat df from the multi-index\n",
    "    flat_step_position = step_position.reset_index()\n",
    "    flat_step_position_sens = step_position_sens.reset_index()\n",
    "    flat_step_position[\"color_id\"] = flat_step_position[\"layer_id\"] + 100*flat_step_position[\"sensitive_id\"] \n",
    "    flat_step_position_sens[\"color_id\"] = flat_step_position[\"layer_id\"] + 100*flat_step_position[\"sensitive_id\"]\n",
    "    hits_flat = hits.reset_index()\n",
    "    \n",
    "    print(flat_step_position)\n",
    "    #print(hits_flat[\"entry\"])\n",
    "    #for ientry in range(len(hits_flat[\"entry\"])):\n",
    "    #    print(hits_flat[\"entry\"][ientry])\n",
    "        \n",
    "    #print(g_x)\n",
    "    #fig = step_position[\"g_x\"].plot.hist()\n",
    "    #fig.show()\n",
    "    \n",
    "    make2DPlots = True\n",
    "    \n",
    "    \n",
    "    import plotly.graph_objects as go\n",
    "    from plotly.subplots import make_subplots\n",
    "    \n",
    "    #Select a particular event\n",
    "    eventNr= 5 #13\n",
    "    flat_step_position_sens = flat_step_position_sens[flat_step_position_sens[\"entry\"] == eventNr]\n",
    "    hits_flat               = hits_flat[hits_flat[\"entry\"] == eventNr]\n",
    "    \n",
    "\n",
    "    #fig = make_subplots(specs=[[{\"secondary_y\": True}]])\n",
    "    #fig.add_trace(trace)\n",
    "    #fig.add_trace(trace2)\n",
    "    #fig['layout'].update(height = 600, width = 800, title = title,xaxis=dict(\n",
    "    #      tickangle=-90))\n",
    "    #fig.show()\n",
    "    \n",
    "    if (make2DPlots):\n",
    "            \n",
    "            \n",
    "        trace1 = go.Scatter(\n",
    "        x=hits_flat[\"hit_x\"],\n",
    "        y=hits_flat[\"hit_y\"],\n",
    "        error_y = dict(\n",
    "            # value of error bar given in data coordinates\n",
    "            type ='data',\n",
    "            array = [0.02,0.02,0.02,0.02,0.02,0.02,0.02,0.02,0.02,0.02],\n",
    "            visible = True),\n",
    "        mode='markers',\n",
    "        marker=dict(\n",
    "            size=5,\n",
    "            line=dict(width=0)),\n",
    "        name='hits')\n",
    "        \n",
    "        trace2 = go.Scatter(\n",
    "        x=hits_flat[\"hit_x\"],\n",
    "        y=hits_flat[\"hit_z\"],\n",
    "        mode='markers',\n",
    "        marker=dict(\n",
    "            size=5,\n",
    "            line=dict(width=0)),\n",
    "        name='hits')\n",
    "            \n",
    "        fig = flat_step_position_sens.plot.scatter(x=\"g_x\",y=\"g_y\")\n",
    "        fig.update_traces(marker_size = 4)\n",
    "        fig.add_trace(trace1)\n",
    "        fig.show()\n",
    "        \n",
    "        fig = flat_step_position_sens.plot.scatter(x=\"g_x\",y=\"g_z\")\n",
    "        fig.update_traces(marker_size = 4)\n",
    "        fig.add_trace(trace2)\n",
    "        fig.show()\n",
    "        \n",
    "        #fig = hits_flat.plot.scatter(x=\"hit_x\",y=\"hit_y\")\n",
    "        #fig.update_traces(marker_size = 2)\n",
    "        #fig.show()\n",
    "        \n",
    "        #fig = flat_step_position_sens.plot.scatter(x=\"g_x\",y=\"g_z\",color=\"layer_id\")\n",
    "        #fig.update_traces(marker_size = 2)\n",
    "        #fig.show()\n",
    "        \n",
    "        #fig = flat_step_position_sens.plot.scatter(x=\"g_x\",y=\"g_z\",color=\"layer_id\",range_y=[-24,-23])\n",
    "        #fig.update_traces(marker_size = 2)\n",
    "        #fig.ylim([3, 4])\n",
    "        #fig.show()\n",
    "        \n",
    "        trace3 = go.Scatter3d(\n",
    "        x=hits_flat[\"hit_x\"],\n",
    "        y=hits_flat[\"hit_y\"],\n",
    "        z=hits_flat[\"hit_z\"],\n",
    "        error_y = dict(\n",
    "            # value of error bar given in data coordinates\n",
    "            type ='data',\n",
    "            array = [0.01,0.01,0.01,0.01,0.01,0.01,0.01,0.01,0.01,0.01],\n",
    "            visible = True),\n",
    "        #error_z = dict(\n",
    "        #    # value of error bar given in data coordinates\n",
    "        #    type ='data',\n",
    "        #    array = [1,1,1,1,1,1,1,1,1,1],\n",
    "        #    visible = True),\n",
    "        mode='markers',\n",
    "        marker=dict(\n",
    "            size=5,\n",
    "            line=dict(width=0)),\n",
    "        name='hits')\n",
    "    \n",
    "        fig = px.scatter_3d(flat_step_position_sens, x='g_x', y='g_y', z='g_z', color=\"layer_id\",width=800,height=800)\n",
    "        fig.update_layout(autosize=False,margin=dict(l=0, r=0, b=0, t=0))\n",
    "        fig.update_traces(marker_size = 4)\n",
    "        fig.add_trace(trace3)\n",
    "        fig.show()\n",
    "        \n",
    "        #fig = px.scatter_3d(flat_step_position_sens, x='g_x', y='g_y', z='g_z', color=\"layer_id\",range_z=[-24,-23])\n",
    "        #fig.update_layout(autosize=False,margin=dict(l=0, r=0, b=0, t=0))\n",
    "        #fig.update_traces(marker_size = 2)\n",
    "        #fig.show()\n",
    "     \n",
    "        \n",
    "        \n",
    "        pass"
   ]
  },
  {
   "cell_type": "code",
   "execution_count": null,
   "id": "04ef17c9-c84b-4346-a220-19cd631a51df",
   "metadata": {},
   "outputs": [],
   "source": []
  },
  {
   "cell_type": "code",
   "execution_count": null,
   "id": "f1851d04-eb27-4ba4-89ab-26bd7ec5aa3e",
   "metadata": {},
   "outputs": [],
   "source": []
  }
 ],
 "metadata": {
  "kernelspec": {
   "display_name": "Python 3 (ipykernel)",
   "language": "python",
   "name": "python3"
  },
  "language_info": {
   "codemirror_mode": {
    "name": "ipython",
    "version": 3
   },
   "file_extension": ".py",
   "mimetype": "text/x-python",
   "name": "python",
   "nbconvert_exporter": "python",
   "pygments_lexer": "ipython3",
   "version": "3.9.10"
  }
 },
 "nbformat": 4,
 "nbformat_minor": 5
}
