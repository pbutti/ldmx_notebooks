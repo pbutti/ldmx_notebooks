{
 "cells": [
  {
   "cell_type": "code",
   "execution_count": 13,
   "metadata": {},
   "outputs": [],
   "source": [
    "import uproot\n",
    "import numpy as np\n",
    "import awkward\n",
    "import concurrent.futures\n",
    "import matplotlib.pyplot as plt\n",
    "from mpl_toolkits.mplot3d import Axes3D"
   ]
  },
  {
   "cell_type": "code",
   "execution_count": 14,
   "metadata": {},
   "outputs": [],
   "source": [
    "executor = concurrent.futures.ThreadPoolExecutor(8)\n",
    "filename = '4gev_1e_tskim_v12_kaons_ldmx-det-v12_toughkskim.root'\n",
    "\n",
    "# radius of containment for each ECal layer\n",
    "radius_beam_68 = [4.73798004, 4.80501156, 4.77108164, 4.53839401, 4.73273021,\n",
    "4.76662872, 5.76994967, 5.92028271, 7.28770932, 7.60723209,\n",
    "9.36050277, 10.03247442, 12.14656399, 13.16076587, 15.88429816,\n",
    "17.03559932, 20.32607264, 21.75096888, 24.98745754, 27.02031225,\n",
    "30.78043038, 33.03033267, 37.55088662, 40.14062264, 47.95964745,\n",
    "55.96441035, 66.33128366, 70.42649416, 86.68563278, 102.49022815,\n",
    "119.06854141, 121.20048803, 127.5236134, 121.99024095]\n",
    "\n",
    "# distance between each ECal layer\n",
    "layer_dz = np.array([7.850, 13.300, 26.400, 33.500, 47.950, 56.550, 72.250, 81.350, 97.050, 106.150,\n",
    "            121.850, 130.950, 146.650, 155.750, 171.450, 180.550, 196.250, 205.350, 221.050,\n",
    "            230.150, 245.850, 254.950, 270.650, 279.750, 298.950, 311.550, 330.750, 343.350,\n",
    "            362.550, 375.150, 394.350, 406.950, 426.150, 438.750])\n",
    "\n",
    "# z-position of each ECal layer\n",
    "layer_z = 240.5 + layer_dz\n",
    "\n",
    "# list of branches we want to store from the root file\n",
    "branches = []\n",
    "branch_suffix = 'v3_v12'\n",
    "\n",
    "# branchnames\n",
    "ecal_branch = 'EcalRecHits_{}/EcalRecHits_{}'.format(branch_suffix, branch_suffix)\n",
    "ecalSP_branch = 'EcalScoringPlaneHits_{}/EcalScoringPlaneHits_{}'.format(branch_suffix, branch_suffix)\n",
    "tSP_branch = 'TargetScoringPlaneHits_{}/TargetScoringPlaneHits_{}'.format(branch_suffix, branch_suffix)\n",
    "ecalVeto_branch = 'EcalVeto_{}'.format(branch_suffix)\n",
    "ecalSim_branch = 'EcalSimHits_{}/EcalSimHits_{}'.format(branch_suffix, branch_suffix)"
   ]
  },
  {
   "cell_type": "code",
   "execution_count": 15,
   "metadata": {},
   "outputs": [],
   "source": [
    "# add EcalRecHits branches\n",
    "for leaf in ['xpos_', 'ypos_', 'zpos_', 'energy_']:\n",
    "    branches.append('{}.{}'.format(ecal_branch, leaf))\n",
    "\n",
    "# add EcalVeto branches\n",
    "for leaf in ['showerRMS_', 'epAng_', 'passesVeto_']:\n",
    "    branches.append('{}/{}'.format(ecalVeto_branch, leaf))\n",
    "\n",
    "# add EcalSPHits and TargetSPHits branches\n",
    "# Use EcalSPHits for fiducial/non-fiducial and TargetSPHits for trajectories\n",
    "for leaf in ['x_', 'y_', 'z_', 'px_', 'py_', 'pz_', 'pdgID_', 'trackID_']:\n",
    "    branches.append('{}.{}'.format(ecalSP_branch, leaf))\n",
    "    branches.append('{}.{}'.format(tSP_branch, leaf))\n",
    "\n",
    "# add EcalSimHits branches\n",
    "for leaf in ['x_', 'y_', 'z_', 'pdgCodeContribs_', 'edepContribs_', 'incidentIDContribs_']:\n",
    "    branches.append('{}.{}'.format(ecalSim_branch, leaf))\n",
    "\n",
    "# add the eventNumber leaf\n",
    "branches.append('EventHeader/eventNumber_')\n",
    "#print (branches)"
   ]
  },
  {
   "cell_type": "code",
   "execution_count": 16,
   "metadata": {},
   "outputs": [],
   "source": [
    "# use uproot and load all of the data into a dictionary: {'leaf1': [data], 'leaf2': [data], ...}\n",
    "t = uproot.open(filename)['LDMX_Events']\n",
    "table = t.arrays(expressions=branches, interpretation_executor=executor)\n",
    "\n",
    "# we store all of our data into the dictionary \"tree\"\n",
    "tree = {}\n",
    "for branch in branches:\n",
    "    tree[branch] = table[branch]\n",
    "\n",
    "#print(tree.keys())\n"
   ]
  },
  {
   "cell_type": "code",
   "execution_count": 17,
   "metadata": {},
   "outputs": [],
   "source": [
    "# find the number of events that pass through the vetoes\n",
    "# record the event numbers of the events that pass through the vetoes\n",
    "events = 0\n",
    "eventNumbers = []\n",
    "for event in range(len(tree['EventHeader/eventNumber_'])):\n",
    "    events +=1\n",
    "    eventNumbers.append(tree['EventHeader/eventNumber_'][event])\n",
    "\n",
    "#print(events)\n",
    "#print(eventNumbers)\n"
   ]
  },
  {
   "cell_type": "code",
   "execution_count": 18,
   "metadata": {},
   "outputs": [],
   "source": [
    "# calculate the electron and photon trajectories\n",
    "\n",
    "# we will store the data for the trajectory positions inside this dictionary:\n",
    "trajectories = {}\n",
    "b1 = []\n",
    "b2 = []\n",
    "b3 = []\n",
    "b4 = []\n",
    "\n",
    "# loop through all of the events\n",
    "for i in range(len(tree['EventHeader/eventNumber_'])):\n",
    "    tSPHits = {}\n",
    "    ecalSPHits = {}\n",
    "    for x in ['x_', 'y_', 'z_', 'px_', 'py_', 'pz_', 'pdgID_', 'trackID_']:\n",
    "        tSPHits[x] = (table['{}.{}'.format(tSP_branch, x)])[i]\n",
    "        ecalSPHits[x] = (table['{}.{}'.format(ecalSP_branch, x)])[i]\n",
    "   \n",
    "    # find the max pz at the target scoring plane for the recoil electron\n",
    "    max_pz = 0\n",
    "    r = 0\n",
    "    for j in range(len(tSPHits['z_'])):\n",
    "        if tSPHits['pdgID_'][j] == 11 and tSPHits['z_'][j] > 4.4 and tSPHits['z_'][j] < 4.6 and tSPHits['pz_'][j] > max_pz and tSPHits['trackID_'][j] == 1:\n",
    "            max_pz = tSPHits['pz_'][j]\n",
    "            r = j\n",
    "    #print(\"Found recoil e- pz at target for event {}: {}\".format(tree['EventHeader/eventNumber_'][i],max_pz))\n",
    "\n",
    "    # find the max pz at the ecal face for the recoil electron\n",
    "    max_pz_e = 0\n",
    "    r_e = 0\n",
    "    for j in range(len(ecalSPHits['z_'])):\n",
    "        if ecalSPHits['pdgID_'][j] == 11 and ecalSPHits['z_'][j] > 239 and ecalSPHits['z_'][j] < 242 and ecalSPHits['pz_'][j] > max_pz_e and ecalSPHits['trackID_'][j] == 1:\n",
    "            max_pz_e = ecalSPHits['pz_'][j]\n",
    "            r_e = j\n",
    "    fiducial = max_pz_e != 0\n",
    "    \n",
    "    if fiducial:\n",
    "        E_beam = 4000\n",
    "        target_dist = 241.5\n",
    "        # positions and trajectory vectors of recoil e- at Ecal SP\n",
    "        etraj_sp = np.array((ecalSPHits['x_'][r_e], ecalSPHits['y_'][r_e], ecalSPHits['z_'][r_e]))\n",
    "        enorm_sp = np.array((ecalSPHits['px_'][r_e]/ecalSPHits['pz_'][r_e], ecalSPHits['py_'][r_e]/ecalSPHits['pz_'][r_e], 1.0))\n",
    "        # positions and trajectory vectors of photon at Target SP\n",
    "        pnorm_sp = np.array((-tSPHits['px_'][r]/(E_beam - tSPHits['pz_'][r]), -tSPHits['py_'][r]/(E_beam - tSPHits['pz_'][r]), 1.0))\n",
    "        ptraj_sp = np.array((tSPHits['x_'][r] + target_dist*pnorm_sp[0], tSPHits['y_'][r] + target_dist*pnorm_sp[1], tSPHits['z_'][r] + target_dist))\n",
    "        # store the trajectory information \n",
    "        b1.append(etraj_sp)\n",
    "        b2.append(enorm_sp)\n",
    "        b3.append(pnorm_sp)\n",
    "        b4.append(ptraj_sp)\n",
    "    else:\n",
    "        etraj_sp, enorm_sp, ptraj_sp, pnorm_sp = None, None, None, None\n",
    "\n",
    "# store the e- trajectory and its normal vector, store the photon trajectory and its normal vector\n",
    "trajectories['etraj_sp'] = b1\n",
    "trajectories['enorm_sp'] = b2\n",
    "trajectories['pnorm_sp'] = b3\n",
    "trajectories['ptraj_sp'] = b4\n"
   ]
  },
  {
   "cell_type": "code",
   "execution_count": 19,
   "metadata": {},
   "outputs": [],
   "source": [
    "# get the PDG IDs of the hits\n",
    "Pdg_ID = []\n",
    "for event in range(len(tree['EcalRecHits_v3_v12/EcalRecHits_v3_v12.xpos_'])):\n",
    "    # data from EcalSimHits\n",
    "    sim_dict = {}\n",
    "    for x in ['x_', 'y_', 'z_', 'pdgCodeContribs_', 'edepContribs_', 'incidentIDContribs_']:\n",
    "        sim_dict[x] = table['{}.{}'.format(ecalSim_branch, x)][event]\n",
    "\n",
    "    # data from EcalRecHits\n",
    "    ecal_dict = {}\n",
    "    for x in ['xpos_', 'ypos_', 'zpos_']:\n",
    "        ecal_dict[x] = table['{}.{}'.format(ecal_branch, x)][event]\n",
    "\n",
    "    rec_matched_ids = []\n",
    "    rec_parent_ids = []\n",
    "\n",
    "    for j in range(len(ecal_dict['zpos_'])):\n",
    "        # For each hit:  Find a contrib w/ the same position, then match:\n",
    "        simIndex = None # EcalSimHit index\n",
    "        contribIndex = None # index of contribution within EcalSimHit\n",
    "        for k in range(len(sim_dict['x_'])):\n",
    "            if round(sim_dict['x_'][k]) == round(ecal_dict['xpos_'][j]) and \\\n",
    "                round(sim_dict['y_'][k]) == round(ecal_dict['ypos_'][j]) and \\\n",
    "                round(sim_dict['z_'][k]) == round(ecal_dict['zpos_'][j]):\n",
    "                simIndex = k # we found a matching hit. \n",
    "                # now, go through the contribs and find the pdgID of the contrib w/ max edep:\n",
    "                eDepMax = 0\n",
    "                for l in range(len(sim_dict['edepContribs_'][k])):\n",
    "                    if sim_dict['edepContribs_'][k][l] > eDepMax:\n",
    "                        eDepMax = sim_dict['edepContribs_'][k][l]\n",
    "                        contribIndex = l\n",
    "        if not simIndex:  # If no EcalSimHit found, presumably noise; record\n",
    "            rec_matched_ids.append(None)\n",
    "            rec_parent_ids.append(None)\n",
    "        else:\n",
    "            rec_matched_ids.append(sim_dict['pdgCodeContribs_'][simIndex][contribIndex])\n",
    "            rec_parent_ids.append(sim_dict['incidentIDContribs_'][simIndex][contribIndex])\n",
    "    Pdg_ID.append(rec_matched_ids)\n",
    "\n",
    "tree['Pdg_ID'] = Pdg_ID"
   ]
  },
  {
   "cell_type": "code",
   "execution_count": 20,
   "metadata": {},
   "outputs": [],
   "source": [
    "# loop through each event and cut all of the hits within electron containment radii\n",
    "\n",
    "# this is a new dictionary that will story only the hits that are outside the e- containment radii\n",
    "cutTree = {}\n",
    "\n",
    "eventsX = []\n",
    "eventsY = []\n",
    "eventsZ = []\n",
    "pdgIDs = []\n",
    "\n",
    "# loop through each event \n",
    "for event in range(len(tree['EcalRecHits_v3_v12/EcalRecHits_v3_v12.xpos_'])):\n",
    "    ecal_front = 240.5\n",
    "    etraj_front = np.array(trajectories['etraj_sp']) \n",
    "    ptraj_front = np.array(trajectories['ptraj_sp']) \n",
    "\n",
    "    # obtain the event's e- trajectory layer intercepts\n",
    "    eLayerIntercepts = []\n",
    "    intercept = (trajectories['etraj_sp'][event][0] + layer_dz*trajectories['enorm_sp'][event][0], \n",
    "                trajectories['etraj_sp'][event][1] + layer_dz*trajectories['enorm_sp'][event][1], \n",
    "                trajectories['etraj_sp'][event][2] + layer_dz*trajectories['enorm_sp'][event][2])\n",
    "    eLayerIntercepts.append(intercept)\n",
    "    eLayerIntercepts = np.concatenate(np.array(eLayerIntercepts))\n",
    "\n",
    "    # obtain the event's photon trajectory layer intercepts\n",
    "    pLayerIntercepts = []\n",
    "    intercept = (trajectories['ptraj_sp'][event][0] + layer_dz*trajectories['pnorm_sp'][event][0], \n",
    "                trajectories['ptraj_sp'][event][1] + layer_dz*trajectories['pnorm_sp'][event][1], \n",
    "                trajectories['ptraj_sp'][event][2] + layer_dz*trajectories['pnorm_sp'][event][2])\n",
    "    pLayerIntercepts.append(intercept)\n",
    "    pLayerIntercepts = np.concatenate(np.array(pLayerIntercepts))\n",
    "    \n",
    "    hitsX = []\n",
    "    hitsY = []\n",
    "    hitsZ = []\n",
    "    pdgids = []\n",
    "\n",
    "    # loop through each hit within the event\n",
    "    for hit in range(len(tree['EcalRecHits_v3_v12/EcalRecHits_v3_v12.xpos_'][event])):\n",
    "        x = tree['EcalRecHits_v3_v12/EcalRecHits_v3_v12.xpos_'][event][hit]\n",
    "        y = tree['EcalRecHits_v3_v12/EcalRecHits_v3_v12.ypos_'][event][hit]\n",
    "        z = tree['EcalRecHits_v3_v12/EcalRecHits_v3_v12.zpos_'][event][hit]\n",
    "        pdgid = tree['Pdg_ID'][event][hit]\n",
    "        \n",
    "        # loop through each layer of the ECal and check if its distance from the e- layer intercept is > corresponding layer's containment radius\n",
    "        for layer in range(34):\n",
    "            if z >= layer_z[layer] - .25 and z <= layer_z[layer] + .25:\n",
    "                dist = np.sqrt((eLayerIntercepts[0][layer] - x)**2 + (eLayerIntercepts[1][layer] - y)**2)\n",
    "                if dist >= radius_beam_68[layer]:\n",
    "                    hitsX.append(x)\n",
    "                    hitsY.append(y)\n",
    "                    hitsZ.append(z)\n",
    "                    pdgids.append(pdgid)\n",
    "\n",
    "    eventsX.append(hitsX)\n",
    "    eventsY.append(hitsY)\n",
    "    eventsZ.append(hitsZ)\n",
    "    pdgIDs.append(pdgids)\n",
    "\n",
    "# these are our new branches without the hits inside the electron containment radius\n",
    "cutTree['EcalRecHits_v3_v12/EcalRecHits_v3_v12.xpos_'] = eventsX\n",
    "cutTree['EcalRecHits_v3_v12/EcalRecHits_v3_v12.ypos_'] = eventsY\n",
    "cutTree['EcalRecHits_v3_v12/EcalRecHits_v3_v12.zpos_'] = eventsZ\n",
    "cutTree['Pdg_ID'] = pdgIDs"
   ]
  },
  {
   "cell_type": "code",
   "execution_count": 21,
   "metadata": {},
   "outputs": [],
   "source": [
    "# Code for writing the hit positions into a .dat file\n",
    "\n",
    "x1 = []\n",
    "y1 = []\n",
    "z1 = []\n",
    "pdg1 = []\n",
    "\n",
    "event = 0\n",
    "\n",
    "for hit in range(len(cutTree['EcalRecHits_v3_v12/EcalRecHits_v3_v12.xpos_'][event])):\n",
    "    x1.append(cutTree['EcalRecHits_v3_v12/EcalRecHits_v3_v12.xpos_'][event][hit])\n",
    "    y1.append(cutTree['EcalRecHits_v3_v12/EcalRecHits_v3_v12.ypos_'][event][hit])\n",
    "    z1.append(cutTree['EcalRecHits_v3_v12/EcalRecHits_v3_v12.zpos_'][event][hit])\n",
    "    pdg1.append(cutTree['Pdg_ID'][event][hit])\n",
    "\n",
    "\n",
    "file = open('test0.dat', \"w\")\n",
    "for i in range(len(x1)):\n",
    "    file.write(str(x1[i]) + \", \" + str(y1[i]) + \", \" + str(z1[i]) + \"\\n\") \n",
    "file.close()\n"
   ]
  },
  {
   "cell_type": "code",
   "execution_count": 22,
   "metadata": {},
   "outputs": [],
   "source": [
    "file2 = 'skimmed_events_pdg_hough.root'\n",
    "branches2 = ['ax','ay','az','bx','by','bz','nlines','hitX','hitY','hitZ','pdgID']\n",
    "\n",
    "# use uproot and load all of the data into a dictionary: {'leaf1': [data], 'leaf2': [data], ...}\n",
    "t2 = uproot.open(file2)['Events']\n",
    "table2 = t2.arrays(expressions=branches2, interpretation_executor=executor)\n",
    "\n",
    "# we store all of our data into the dictionary \"tree2\"\n",
    "tree2 = {}\n",
    "for branch2 in branches2:\n",
    "    tree2[branch2] = table2[branch2]"
   ]
  },
  {
   "cell_type": "code",
   "execution_count": 23,
   "metadata": {},
   "outputs": [
    {
     "name": "stdout",
     "output_type": "stream",
     "text": [
      "event: 0\n",
      "original # of hits: 46, cut # of hits: 31\n"
     ]
    },
    {
     "data": {
      "application/vnd.plotly.v1+json": {
       "config": {
        "plotlyServerURL": "https://plot.ly"
       },
       "data": [
        {
         "hovertemplate": "Particle=positron<br>X (mm)=%{x}<br>Y (mm)=%{y}<br>Z (mm)=%{z}<extra></extra>",
         "legendgroup": "positron",
         "marker": {
          "color": "#636efa",
          "size": 2,
          "symbol": "circle"
         },
         "mode": "markers",
         "name": "positron",
         "scene": "scene",
         "showlegend": true,
         "type": "scatter3d",
         "x": [
          -8.341320991516113,
          -8.341320991516113,
          -8.341320991516113,
          -16.682641983032227,
          -25.023963928222656,
          -16.682641983032227,
          -25.023963928222656,
          -12.511981964111328
         ],
         "y": [
          4.815864086151123,
          -9.631728172302246,
          -24.079320907592773,
          -9.631728172302246,
          -9.631728172302246,
          -9.631728172302246,
          4.815864086151123,
          -16.85552406311035
         ],
         "z": [
          346.6499938964844,
          362.3500061035156,
          337.54998779296875,
          321.8500061035156,
          321.8500061035156,
          337.54998779296875,
          337.54998779296875,
          337.54998779296875
         ]
        },
        {
         "hovertemplate": "Particle=electron<br>X (mm)=%{x}<br>Y (mm)=%{y}<br>Z (mm)=%{z}<extra></extra>",
         "legendgroup": "electron",
         "marker": {
          "color": "#EF553B",
          "size": 2,
          "symbol": "circle"
         },
         "mode": "markers",
         "name": "electron",
         "scene": "scene",
         "showlegend": true,
         "type": "scatter3d",
         "x": [
          -4.170660495758057,
          -20.853302001953125,
          12.511981964111328,
          -12.511981964111328,
          -8.341320991516113,
          2.6645352591003757e-15,
          70.90122985839844,
          79.2425537109375,
          -41.70660400390625,
          -25.023963928222656,
          -62.55990982055664,
          -41.70660400390625,
          -4.170660495758057,
          -16.682641983032227,
          -16.682641983032227,
          -4.170660495758057,
          -25.023963928222656,
          -16.682641983032227,
          -8.341320991516113
         ],
         "y": [
          -60.198299407958984,
          -16.85552406311035,
          12.039660453796387,
          -16.85552406311035,
          -24.079320907592773,
          -24.079320907592773,
          -16.85552406311035,
          -16.85552406311035,
          -38.526912689208984,
          33.7110481262207,
          -16.85552406311035,
          -38.526912689208984,
          -2.4079320430755615,
          -9.631728172302246,
          -9.631728172302246,
          26.48725128173828,
          -24.079320907592773,
          -9.631728172302246,
          -9.631728172302246
         ],
         "z": [
          266.8999938964844,
          346.6499938964844,
          337.54998779296875,
          371.45001220703125,
          371.45001220703125,
          346.6499938964844,
          371.45001220703125,
          371.45001220703125,
          387.1499938964844,
          387.1499938964844,
          436.75,
          470.6499938964844,
          288.45001220703125,
          297.04998779296875,
          312.75,
          288.45001220703125,
          321.8500061035156,
          346.6499938964844,
          346.6499938964844
         ]
        },
        {
         "hovertemplate": "Particle=other<br>X (mm)=%{x}<br>Y (mm)=%{y}<br>Z (mm)=%{z}<extra></extra>",
         "legendgroup": "other",
         "marker": {
          "color": "#00cc96",
          "size": 2,
          "symbol": "circle"
         },
         "mode": "markers",
         "name": "other",
         "scene": "scene",
         "showlegend": true,
         "type": "scatter3d",
         "x": [
          -20.853302001953125
         ],
         "y": [
          55.3824348449707
         ],
         "z": [
          266.8999938964844
         ]
        },
        {
         "hovertemplate": "Particle=muon<br>X (mm)=%{x}<br>Y (mm)=%{y}<br>Z (mm)=%{z}<extra></extra>",
         "legendgroup": "muon",
         "marker": {
          "color": "#ab63fa",
          "size": 2,
          "symbol": "circle"
         },
         "mode": "markers",
         "name": "muon",
         "scene": "scene",
         "showlegend": true,
         "type": "scatter3d",
         "x": [
          -4.170660495758057,
          2.6645352591003757e-15,
          8.341320991516113
         ],
         "y": [
          -2.4079320430755615,
          4.815864086151123,
          4.815864086151123
         ],
         "z": [
          297.04998779296875,
          312.75,
          321.8500061035156
         ]
        },
        {
         "hovertemplate": "houghX=%{x}<br>houghY=%{y}<br>houghZ=%{z}<extra></extra>",
         "legendgroup": "",
         "line": {
          "color": "#636efa",
          "dash": "solid"
         },
         "marker": {
          "symbol": "circle"
         },
         "mode": "lines",
         "name": "",
         "scene": "scene",
         "showlegend": false,
         "type": "scatter3d",
         "x": [
          -13.90220175849067,
          -4.004373656378853,
          -23.800029860602486
         ],
         "y": [
          -11.23701614803738,
          -16.951537332601017,
          -5.5224949634737435
         ],
         "z": [
          337.0944417317708,
          436.43917806943256,
          237.74970539410907
         ]
        },
        {
         "hovertemplate": "houghX=%{x}<br>houghY=%{y}<br>houghZ=%{z}<extra></extra>",
         "legendgroup": "",
         "line": {
          "color": "#636efa",
          "dash": "solid"
         },
         "marker": {
          "symbol": "circle"
         },
         "mode": "lines",
         "name": "",
         "scene": "scene",
         "showlegend": false,
         "type": "scatter3d",
         "x": [
          2.5023963928222663,
          36.32141916751861,
          -31.316626381874084
         ],
         "y": [
          3.371104907989502,
          30.54112823009491,
          -23.798918414115906
         ],
         "z": [
          311.5299987792969,
          401.6303050518036,
          221.42969250679016
         ]
        }
       ],
       "layout": {
        "autosize": false,
        "margin": {
         "b": 10,
         "l": 10,
         "r": 20,
         "t": 10
        },
        "scene": {
         "xaxis": {
          "nticks": 6,
          "range": [
           -200,
           200
          ]
         },
         "yaxis": {
          "nticks": 10,
          "range": [
           -200,
           200
          ]
         },
         "zaxis": {
          "nticks": 10,
          "range": [
           240,
           700
          ]
         }
        },
        "template": {
         "data": {
          "bar": [
           {
            "error_x": {
             "color": "#2a3f5f"
            },
            "error_y": {
             "color": "#2a3f5f"
            },
            "marker": {
             "line": {
              "color": "#E5ECF6",
              "width": 0.5
             },
             "pattern": {
              "fillmode": "overlay",
              "size": 10,
              "solidity": 0.2
             }
            },
            "type": "bar"
           }
          ],
          "barpolar": [
           {
            "marker": {
             "line": {
              "color": "#E5ECF6",
              "width": 0.5
             },
             "pattern": {
              "fillmode": "overlay",
              "size": 10,
              "solidity": 0.2
             }
            },
            "type": "barpolar"
           }
          ],
          "carpet": [
           {
            "aaxis": {
             "endlinecolor": "#2a3f5f",
             "gridcolor": "white",
             "linecolor": "white",
             "minorgridcolor": "white",
             "startlinecolor": "#2a3f5f"
            },
            "baxis": {
             "endlinecolor": "#2a3f5f",
             "gridcolor": "white",
             "linecolor": "white",
             "minorgridcolor": "white",
             "startlinecolor": "#2a3f5f"
            },
            "type": "carpet"
           }
          ],
          "choropleth": [
           {
            "colorbar": {
             "outlinewidth": 0,
             "ticks": ""
            },
            "type": "choropleth"
           }
          ],
          "contour": [
           {
            "colorbar": {
             "outlinewidth": 0,
             "ticks": ""
            },
            "colorscale": [
             [
              0,
              "#0d0887"
             ],
             [
              0.1111111111111111,
              "#46039f"
             ],
             [
              0.2222222222222222,
              "#7201a8"
             ],
             [
              0.3333333333333333,
              "#9c179e"
             ],
             [
              0.4444444444444444,
              "#bd3786"
             ],
             [
              0.5555555555555556,
              "#d8576b"
             ],
             [
              0.6666666666666666,
              "#ed7953"
             ],
             [
              0.7777777777777778,
              "#fb9f3a"
             ],
             [
              0.8888888888888888,
              "#fdca26"
             ],
             [
              1,
              "#f0f921"
             ]
            ],
            "type": "contour"
           }
          ],
          "contourcarpet": [
           {
            "colorbar": {
             "outlinewidth": 0,
             "ticks": ""
            },
            "type": "contourcarpet"
           }
          ],
          "heatmap": [
           {
            "colorbar": {
             "outlinewidth": 0,
             "ticks": ""
            },
            "colorscale": [
             [
              0,
              "#0d0887"
             ],
             [
              0.1111111111111111,
              "#46039f"
             ],
             [
              0.2222222222222222,
              "#7201a8"
             ],
             [
              0.3333333333333333,
              "#9c179e"
             ],
             [
              0.4444444444444444,
              "#bd3786"
             ],
             [
              0.5555555555555556,
              "#d8576b"
             ],
             [
              0.6666666666666666,
              "#ed7953"
             ],
             [
              0.7777777777777778,
              "#fb9f3a"
             ],
             [
              0.8888888888888888,
              "#fdca26"
             ],
             [
              1,
              "#f0f921"
             ]
            ],
            "type": "heatmap"
           }
          ],
          "heatmapgl": [
           {
            "colorbar": {
             "outlinewidth": 0,
             "ticks": ""
            },
            "colorscale": [
             [
              0,
              "#0d0887"
             ],
             [
              0.1111111111111111,
              "#46039f"
             ],
             [
              0.2222222222222222,
              "#7201a8"
             ],
             [
              0.3333333333333333,
              "#9c179e"
             ],
             [
              0.4444444444444444,
              "#bd3786"
             ],
             [
              0.5555555555555556,
              "#d8576b"
             ],
             [
              0.6666666666666666,
              "#ed7953"
             ],
             [
              0.7777777777777778,
              "#fb9f3a"
             ],
             [
              0.8888888888888888,
              "#fdca26"
             ],
             [
              1,
              "#f0f921"
             ]
            ],
            "type": "heatmapgl"
           }
          ],
          "histogram": [
           {
            "marker": {
             "pattern": {
              "fillmode": "overlay",
              "size": 10,
              "solidity": 0.2
             }
            },
            "type": "histogram"
           }
          ],
          "histogram2d": [
           {
            "colorbar": {
             "outlinewidth": 0,
             "ticks": ""
            },
            "colorscale": [
             [
              0,
              "#0d0887"
             ],
             [
              0.1111111111111111,
              "#46039f"
             ],
             [
              0.2222222222222222,
              "#7201a8"
             ],
             [
              0.3333333333333333,
              "#9c179e"
             ],
             [
              0.4444444444444444,
              "#bd3786"
             ],
             [
              0.5555555555555556,
              "#d8576b"
             ],
             [
              0.6666666666666666,
              "#ed7953"
             ],
             [
              0.7777777777777778,
              "#fb9f3a"
             ],
             [
              0.8888888888888888,
              "#fdca26"
             ],
             [
              1,
              "#f0f921"
             ]
            ],
            "type": "histogram2d"
           }
          ],
          "histogram2dcontour": [
           {
            "colorbar": {
             "outlinewidth": 0,
             "ticks": ""
            },
            "colorscale": [
             [
              0,
              "#0d0887"
             ],
             [
              0.1111111111111111,
              "#46039f"
             ],
             [
              0.2222222222222222,
              "#7201a8"
             ],
             [
              0.3333333333333333,
              "#9c179e"
             ],
             [
              0.4444444444444444,
              "#bd3786"
             ],
             [
              0.5555555555555556,
              "#d8576b"
             ],
             [
              0.6666666666666666,
              "#ed7953"
             ],
             [
              0.7777777777777778,
              "#fb9f3a"
             ],
             [
              0.8888888888888888,
              "#fdca26"
             ],
             [
              1,
              "#f0f921"
             ]
            ],
            "type": "histogram2dcontour"
           }
          ],
          "mesh3d": [
           {
            "colorbar": {
             "outlinewidth": 0,
             "ticks": ""
            },
            "type": "mesh3d"
           }
          ],
          "parcoords": [
           {
            "line": {
             "colorbar": {
              "outlinewidth": 0,
              "ticks": ""
             }
            },
            "type": "parcoords"
           }
          ],
          "pie": [
           {
            "automargin": true,
            "type": "pie"
           }
          ],
          "scatter": [
           {
            "fillpattern": {
             "fillmode": "overlay",
             "size": 10,
             "solidity": 0.2
            },
            "type": "scatter"
           }
          ],
          "scatter3d": [
           {
            "line": {
             "colorbar": {
              "outlinewidth": 0,
              "ticks": ""
             }
            },
            "marker": {
             "colorbar": {
              "outlinewidth": 0,
              "ticks": ""
             }
            },
            "type": "scatter3d"
           }
          ],
          "scattercarpet": [
           {
            "marker": {
             "colorbar": {
              "outlinewidth": 0,
              "ticks": ""
             }
            },
            "type": "scattercarpet"
           }
          ],
          "scattergeo": [
           {
            "marker": {
             "colorbar": {
              "outlinewidth": 0,
              "ticks": ""
             }
            },
            "type": "scattergeo"
           }
          ],
          "scattergl": [
           {
            "marker": {
             "colorbar": {
              "outlinewidth": 0,
              "ticks": ""
             }
            },
            "type": "scattergl"
           }
          ],
          "scattermapbox": [
           {
            "marker": {
             "colorbar": {
              "outlinewidth": 0,
              "ticks": ""
             }
            },
            "type": "scattermapbox"
           }
          ],
          "scatterpolar": [
           {
            "marker": {
             "colorbar": {
              "outlinewidth": 0,
              "ticks": ""
             }
            },
            "type": "scatterpolar"
           }
          ],
          "scatterpolargl": [
           {
            "marker": {
             "colorbar": {
              "outlinewidth": 0,
              "ticks": ""
             }
            },
            "type": "scatterpolargl"
           }
          ],
          "scatterternary": [
           {
            "marker": {
             "colorbar": {
              "outlinewidth": 0,
              "ticks": ""
             }
            },
            "type": "scatterternary"
           }
          ],
          "surface": [
           {
            "colorbar": {
             "outlinewidth": 0,
             "ticks": ""
            },
            "colorscale": [
             [
              0,
              "#0d0887"
             ],
             [
              0.1111111111111111,
              "#46039f"
             ],
             [
              0.2222222222222222,
              "#7201a8"
             ],
             [
              0.3333333333333333,
              "#9c179e"
             ],
             [
              0.4444444444444444,
              "#bd3786"
             ],
             [
              0.5555555555555556,
              "#d8576b"
             ],
             [
              0.6666666666666666,
              "#ed7953"
             ],
             [
              0.7777777777777778,
              "#fb9f3a"
             ],
             [
              0.8888888888888888,
              "#fdca26"
             ],
             [
              1,
              "#f0f921"
             ]
            ],
            "type": "surface"
           }
          ],
          "table": [
           {
            "cells": {
             "fill": {
              "color": "#EBF0F8"
             },
             "line": {
              "color": "white"
             }
            },
            "header": {
             "fill": {
              "color": "#C8D4E3"
             },
             "line": {
              "color": "white"
             }
            },
            "type": "table"
           }
          ]
         },
         "layout": {
          "annotationdefaults": {
           "arrowcolor": "#2a3f5f",
           "arrowhead": 0,
           "arrowwidth": 1
          },
          "autotypenumbers": "strict",
          "coloraxis": {
           "colorbar": {
            "outlinewidth": 0,
            "ticks": ""
           }
          },
          "colorscale": {
           "diverging": [
            [
             0,
             "#8e0152"
            ],
            [
             0.1,
             "#c51b7d"
            ],
            [
             0.2,
             "#de77ae"
            ],
            [
             0.3,
             "#f1b6da"
            ],
            [
             0.4,
             "#fde0ef"
            ],
            [
             0.5,
             "#f7f7f7"
            ],
            [
             0.6,
             "#e6f5d0"
            ],
            [
             0.7,
             "#b8e186"
            ],
            [
             0.8,
             "#7fbc41"
            ],
            [
             0.9,
             "#4d9221"
            ],
            [
             1,
             "#276419"
            ]
           ],
           "sequential": [
            [
             0,
             "#0d0887"
            ],
            [
             0.1111111111111111,
             "#46039f"
            ],
            [
             0.2222222222222222,
             "#7201a8"
            ],
            [
             0.3333333333333333,
             "#9c179e"
            ],
            [
             0.4444444444444444,
             "#bd3786"
            ],
            [
             0.5555555555555556,
             "#d8576b"
            ],
            [
             0.6666666666666666,
             "#ed7953"
            ],
            [
             0.7777777777777778,
             "#fb9f3a"
            ],
            [
             0.8888888888888888,
             "#fdca26"
            ],
            [
             1,
             "#f0f921"
            ]
           ],
           "sequentialminus": [
            [
             0,
             "#0d0887"
            ],
            [
             0.1111111111111111,
             "#46039f"
            ],
            [
             0.2222222222222222,
             "#7201a8"
            ],
            [
             0.3333333333333333,
             "#9c179e"
            ],
            [
             0.4444444444444444,
             "#bd3786"
            ],
            [
             0.5555555555555556,
             "#d8576b"
            ],
            [
             0.6666666666666666,
             "#ed7953"
            ],
            [
             0.7777777777777778,
             "#fb9f3a"
            ],
            [
             0.8888888888888888,
             "#fdca26"
            ],
            [
             1,
             "#f0f921"
            ]
           ]
          },
          "colorway": [
           "#636efa",
           "#EF553B",
           "#00cc96",
           "#ab63fa",
           "#FFA15A",
           "#19d3f3",
           "#FF6692",
           "#B6E880",
           "#FF97FF",
           "#FECB52"
          ],
          "font": {
           "color": "#2a3f5f"
          },
          "geo": {
           "bgcolor": "white",
           "lakecolor": "white",
           "landcolor": "#E5ECF6",
           "showlakes": true,
           "showland": true,
           "subunitcolor": "white"
          },
          "hoverlabel": {
           "align": "left"
          },
          "hovermode": "closest",
          "mapbox": {
           "style": "light"
          },
          "paper_bgcolor": "white",
          "plot_bgcolor": "#E5ECF6",
          "polar": {
           "angularaxis": {
            "gridcolor": "white",
            "linecolor": "white",
            "ticks": ""
           },
           "bgcolor": "#E5ECF6",
           "radialaxis": {
            "gridcolor": "white",
            "linecolor": "white",
            "ticks": ""
           }
          },
          "scene": {
           "xaxis": {
            "backgroundcolor": "#E5ECF6",
            "gridcolor": "white",
            "gridwidth": 2,
            "linecolor": "white",
            "showbackground": true,
            "ticks": "",
            "zerolinecolor": "white"
           },
           "yaxis": {
            "backgroundcolor": "#E5ECF6",
            "gridcolor": "white",
            "gridwidth": 2,
            "linecolor": "white",
            "showbackground": true,
            "ticks": "",
            "zerolinecolor": "white"
           },
           "zaxis": {
            "backgroundcolor": "#E5ECF6",
            "gridcolor": "white",
            "gridwidth": 2,
            "linecolor": "white",
            "showbackground": true,
            "ticks": "",
            "zerolinecolor": "white"
           }
          },
          "shapedefaults": {
           "line": {
            "color": "#2a3f5f"
           }
          },
          "ternary": {
           "aaxis": {
            "gridcolor": "white",
            "linecolor": "white",
            "ticks": ""
           },
           "baxis": {
            "gridcolor": "white",
            "linecolor": "white",
            "ticks": ""
           },
           "bgcolor": "#E5ECF6",
           "caxis": {
            "gridcolor": "white",
            "linecolor": "white",
            "ticks": ""
           }
          },
          "title": {
           "x": 0.05
          },
          "xaxis": {
           "automargin": true,
           "gridcolor": "white",
           "linecolor": "white",
           "ticks": "",
           "title": {
            "standoff": 15
           },
           "zerolinecolor": "white",
           "zerolinewidth": 2
          },
          "yaxis": {
           "automargin": true,
           "gridcolor": "white",
           "linecolor": "white",
           "ticks": "",
           "title": {
            "standoff": 15
           },
           "zerolinecolor": "white",
           "zerolinewidth": 2
          }
         }
        },
        "xaxis": {
         "range": [
          -200,
          200
         ]
        },
        "yaxis": {
         "range": [
          -200,
          200
         ]
        }
       }
      }
     },
     "metadata": {},
     "output_type": "display_data"
    },
    {
     "name": "stdout",
     "output_type": "stream",
     "text": [
      "SUMMARY:\n",
      "Number of Hits: 31\n",
      "-> Kaons: 0\n",
      "-> Muons: 3\n",
      "-> Electrons: 19\n",
      "-> Positrons: 8\n",
      "-> Others: 1\n"
     ]
    }
   ],
   "source": [
    "# Plot all of the points and trajectories (FOR DEBUGGING PURPOSES)\n",
    "import plotly.graph_objects as go\n",
    "import plotly.express as px\n",
    "import copy\n",
    "\n",
    "x_vals = []\n",
    "y_vals = []\n",
    "z_vals = []\n",
    "pdg_vals = []\n",
    "\n",
    "# set the event number\n",
    "event = 0\n",
    "\n",
    "print(\"event: \" + str(event))\n",
    "print(\"original # of hits: {}, cut # of hits: {}\".format(len(tree['EcalRecHits_v3_v12/EcalRecHits_v3_v12.xpos_'][event]), len(cutTree['EcalRecHits_v3_v12/EcalRecHits_v3_v12.xpos_'][event])))\n",
    "#print(\"pdgID: \" + str(cutTree['Pdg_ID'][event]))\n",
    "\n",
    "cutTree['Particle'] = copy.deepcopy(cutTree['Pdg_ID'])\n",
    "\n",
    "# convert pdg IDs to colors\n",
    "for hit in range(len(cutTree['Pdg_ID'][event])):\n",
    "    if cutTree['Pdg_ID'][event][hit] == 11: # e-\n",
    "        cutTree['Particle'][event][hit] = 'electron'\n",
    "    elif cutTree['Pdg_ID'][event][hit] == -11: # e+\n",
    "        cutTree['Particle'][event][hit] = 'positron'\n",
    "    elif cutTree['Pdg_ID'][event][hit] == -13: # mu-\n",
    "        cutTree['Particle'][event][hit] = 'muon'\n",
    "    elif cutTree['Pdg_ID'][event][hit] == 13: # mu+\n",
    "        cutTree['Particle'][event][hit] = 'muon'\n",
    "    elif cutTree['Pdg_ID'][event][hit] == 321: # K+\n",
    "        cutTree['Particle'][event][hit] = 'kaon'\n",
    "    elif cutTree['Pdg_ID'][event][hit] == -321: # K-\n",
    "        cutTree['Particle'][event][hit] = 'kaon'\n",
    "    else:\n",
    "        cutTree['Particle'][event][hit] = 'other'\n",
    "\n",
    "#print(\"colorID: \" + str(cutTree['colorID'][event]))\n",
    "#print(\"pdgID: \" + str(cutTree['Pdg_ID'][event]))\n",
    "\n",
    "\n",
    "# store all of the position values\n",
    "for hit in range(len(cutTree['EcalRecHits_v3_v12/EcalRecHits_v3_v12.xpos_'][event])):\n",
    "    x_vals.append(cutTree['EcalRecHits_v3_v12/EcalRecHits_v3_v12.xpos_'][event][hit])\n",
    "    y_vals.append(cutTree['EcalRecHits_v3_v12/EcalRecHits_v3_v12.ypos_'][event][hit])\n",
    "    z_vals.append(cutTree['EcalRecHits_v3_v12/EcalRecHits_v3_v12.zpos_'][event][hit])\n",
    "    pdg_vals.append(cutTree['Particle'][event][hit])\n",
    "        \n",
    "df = {}\n",
    "df['x'] = x_vals\n",
    "df['y'] = y_vals\n",
    "df['z'] = z_vals\n",
    "df['Particle'] = pdg_vals\n",
    "#print(\"pdg_vals: \" + str(pdg_vals))\n",
    "\n",
    "eLayerIntercepts = []\n",
    "intercept = (trajectories['etraj_sp'][event][0] + layer_dz*trajectories['enorm_sp'][event][0], \n",
    "            trajectories['etraj_sp'][event][1] + layer_dz*trajectories['enorm_sp'][event][1], \n",
    "            trajectories['etraj_sp'][event][2] + layer_dz*trajectories['enorm_sp'][event][2])\n",
    "eLayerIntercepts.append(intercept)\n",
    "eLayerIntercepts = np.concatenate(np.array(eLayerIntercepts))\n",
    "#print(eLayerIntercepts)\n",
    "\n",
    "traj = {}\n",
    "traj['trajx'] = eLayerIntercepts[0]\n",
    "traj['trajy'] = eLayerIntercepts[1]\n",
    "traj['trajz'] = eLayerIntercepts[2]\n",
    "\n",
    "\n",
    "# radii of containment (don't need to index the event for these because all of the eLayerIntercepts are already for the nth event)\n",
    "\n",
    "figs = []\n",
    "\n",
    "for hit in range(len(tree2['ax'][event])):\n",
    "    hough = {}\n",
    "    houghX = []\n",
    "    houghY = []\n",
    "    houghZ = []\n",
    "    # anchor point\n",
    "    anchor = (tree2['ax'][event][hit],tree2['ay'][event][hit],tree2['az'][event][hit])\n",
    "    houghX.append(anchor[0])\n",
    "    houghY.append(anchor[1])\n",
    "    houghZ.append(anchor[2])\n",
    "    # positive half\n",
    "    linePos = (anchor[0] + 100*tree2['bx'][event][hit],anchor[1] + 100*tree2['by'][event][hit],anchor[2] + 100*tree2['bz'][event][hit])\n",
    "    houghX.append(linePos[0])\n",
    "    houghY.append(linePos[1])\n",
    "    houghZ.append(linePos[2])\n",
    "    # negative half\n",
    "    lineNeg = (anchor[0] - 100*tree2['bx'][event][hit],anchor[1] - 100*tree2['by'][event][hit],anchor[2] - 100*tree2['bz'][event][hit])\n",
    "    houghX.append(lineNeg[0])\n",
    "    houghY.append(lineNeg[1])\n",
    "    houghZ.append(lineNeg[2])\n",
    "    hough['houghX'] = houghX\n",
    "    hough['houghY'] = houghY\n",
    "    hough['houghZ'] = houghZ\n",
    "    figH = px.line_3d(hough, x='houghX', y ='houghY', z ='houghZ')\n",
    "    figs.append(figH)\n",
    "'''\n",
    "for layer in range(34):\n",
    "    circle = {}\n",
    "    radius = radius_beam_68[layer]\n",
    "    centerX = eLayerIntercepts[0][layer]\n",
    "    centerY = eLayerIntercepts[1][layer]\n",
    "    centerZ = eLayerIntercepts[2][layer]\n",
    "    theta = np.linspace(0, 2*np.pi, 360)\n",
    "    circle['circleX'] = radius * np.cos(theta) + centerX\n",
    "    circle['circleY'] = radius * np.sin(theta) + centerY\n",
    "    circle['circleZ'] = np.zeros(360) + centerZ\n",
    "    figC = px.line_3d(circle, x='circleX', y='circleY', z='circleZ')\n",
    "    figs.append(figC)\n",
    "'''\n",
    "fig1 = px.scatter_3d(df,x='x', y='y', z='z', color='Particle', labels={\n",
    "                     \"x\": \"X (mm)\",\n",
    "                     \"y\": \"Y (mm)\",\n",
    "                     \"z\": \"Z (mm)\"\n",
    "                    }, width=700,height=700)\n",
    "\n",
    "fig2 = px.line_3d(traj, x=\"trajx\", y=\"trajy\", z=\"trajz\", labels={\n",
    "                     \"trajx\": \"X (mm)\",\n",
    "                     \"trajy\": \"Y (mm)\",\n",
    "                     \"trajz\": \"Z (mm)\"})\n",
    "\n",
    "figData = ()\n",
    "for fig in figs:\n",
    "    figData += fig.data\n",
    "\n",
    "fig3 = go.Figure(data=fig1.data + figData)\n",
    "fig3.update_xaxes(range=[-200, 200])\n",
    "fig3.update_yaxes(range=[-200, 200])\n",
    "fig3.update_layout(\n",
    "    scene = dict(\n",
    "        xaxis = dict(nticks=6, range=[-200,200],),\n",
    "                     yaxis = dict(nticks=10, range=[-200,200],),\n",
    "                     zaxis = dict(nticks=10, range=[240,700],),),\n",
    "    autosize=False,\n",
    "    margin=dict(r=20, l=10, b=10, t=10))\n",
    "fig3.update_traces(marker=dict(size=2),selector=dict(mode='markers'))\n",
    "\n",
    "\n",
    "fig3.show()\n",
    "#print(\"pdgID: \" + str(cutTree['Pdg_ID'][event]))\n",
    "\n",
    "nKaons = 0\n",
    "nMuons = 0\n",
    "nElectrons = 0\n",
    "nPositrons = 0\n",
    "nOthers = 0\n",
    "for pdgID in cutTree['Pdg_ID'][event]:\n",
    "    if(pdgID == 11): nElectrons +=1\n",
    "    elif(pdgID == -11): nPositrons +=1\n",
    "    elif(pdgID == 13 or pdgID == -13): nMuons +=1\n",
    "    elif(pdgID == 321 or pdgID == -321): nKaons +=1\n",
    "    else: nOthers +=1\n",
    "\n",
    "print(\"SUMMARY:\")\n",
    "print(\"Number of Hits: {}\".format(nKaons + nMuons + nElectrons + nPositrons + nOthers))\n",
    "print(\"-> Kaons: {}\".format(nKaons))\n",
    "print(\"-> Muons: {}\".format(nMuons))\n",
    "print(\"-> Electrons: {}\".format(nElectrons))\n",
    "print(\"-> Positrons: {}\".format(nPositrons))\n",
    "print(\"-> Others: {}\".format(nOthers))\n",
    "\n",
    "nKaons = 0\n",
    "nMuons = 0\n",
    "nElectrons = 0\n",
    "nPositrons = 0\n",
    "nOthers = 0\n",
    "\n"
   ]
  }
 ],
 "metadata": {
  "kernelspec": {
   "display_name": "Python 3.8.5 ('base')",
   "language": "python",
   "name": "python3"
  },
  "language_info": {
   "codemirror_mode": {
    "name": "ipython",
    "version": 3
   },
   "file_extension": ".py",
   "mimetype": "text/x-python",
   "name": "python",
   "nbconvert_exporter": "python",
   "pygments_lexer": "ipython3",
   "version": "3.8.5"
  },
  "orig_nbformat": 4,
  "vscode": {
   "interpreter": {
    "hash": "00797aeb65c0fcee01712f65908ca620cd9ba7fea561defde96507d75212ab0d"
   }
  }
 },
 "nbformat": 4,
 "nbformat_minor": 2
}
