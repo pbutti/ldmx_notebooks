{
 "cells": [
  {
   "cell_type": "code",
   "execution_count": 12,
   "metadata": {},
   "outputs": [],
   "source": [
    "import uproot\n",
    "import numpy as np\n",
    "import awkward\n",
    "import concurrent.futures\n",
    "import matplotlib.pyplot as plt\n",
    "from mpl_toolkits.mplot3d import Axes3D"
   ]
  },
  {
   "cell_type": "code",
   "execution_count": 13,
   "metadata": {},
   "outputs": [],
   "source": [
    "executor = concurrent.futures.ThreadPoolExecutor(8)\n",
    "filename = '4gev_1e_tskim_v12_kaons_ldmx-det-v12_toughkskim.root'\n",
    "\n",
    "# radius of containment for each ECal layer\n",
    "radius_beam_68 = [4.73798004, 4.80501156, 4.77108164, 4.53839401, 4.73273021,\n",
    "4.76662872, 5.76994967, 5.92028271, 7.28770932, 7.60723209,\n",
    "9.36050277, 10.03247442, 12.14656399, 13.16076587, 15.88429816,\n",
    "17.03559932, 20.32607264, 21.75096888, 24.98745754, 27.02031225,\n",
    "30.78043038, 33.03033267, 37.55088662, 40.14062264, 47.95964745,\n",
    "55.96441035, 66.33128366, 70.42649416, 86.68563278, 102.49022815,\n",
    "119.06854141, 121.20048803, 127.5236134, 121.99024095]\n",
    "\n",
    "# distance between each ECal layer\n",
    "layer_dz = np.array([7.850, 13.300, 26.400, 33.500, 47.950, 56.550, 72.250, 81.350, 97.050, 106.150,\n",
    "            121.850, 130.950, 146.650, 155.750, 171.450, 180.550, 196.250, 205.350, 221.050,\n",
    "            230.150, 245.850, 254.950, 270.650, 279.750, 298.950, 311.550, 330.750, 343.350,\n",
    "            362.550, 375.150, 394.350, 406.950, 426.150, 438.750])\n",
    "\n",
    "# z-position of each ECal layer\n",
    "layer_z = 240.5 + layer_dz\n",
    "\n",
    "# list of branches we want to store from the root file\n",
    "branches = []\n",
    "branch_suffix = 'v3_v12'\n",
    "\n",
    "# branchnames\n",
    "ecal_branch = 'EcalRecHits_{}/EcalRecHits_{}'.format(branch_suffix, branch_suffix)\n",
    "ecalSP_branch = 'EcalScoringPlaneHits_{}/EcalScoringPlaneHits_{}'.format(branch_suffix, branch_suffix)\n",
    "tSP_branch = 'TargetScoringPlaneHits_{}/TargetScoringPlaneHits_{}'.format(branch_suffix, branch_suffix)\n",
    "ecalVeto_branch = 'EcalVeto_{}'.format(branch_suffix)\n",
    "ecalSim_branch = 'EcalSimHits_{}/EcalSimHits_{}'.format(branch_suffix, branch_suffix)"
   ]
  },
  {
   "cell_type": "code",
   "execution_count": 14,
   "metadata": {},
   "outputs": [],
   "source": [
    "# add EcalRecHits branches\n",
    "for leaf in ['xpos_', 'ypos_', 'zpos_', 'energy_']:\n",
    "    branches.append('{}.{}'.format(ecal_branch, leaf))\n",
    "\n",
    "# add EcalVeto branches\n",
    "for leaf in ['showerRMS_', 'epAng_', 'passesVeto_']:\n",
    "    branches.append('{}/{}'.format(ecalVeto_branch, leaf))\n",
    "\n",
    "# add EcalSPHits and TargetSPHits branches\n",
    "# Use EcalSPHits for fiducial/non-fiducial and TargetSPHits for trajectories\n",
    "for leaf in ['x_', 'y_', 'z_', 'px_', 'py_', 'pz_', 'pdgID_', 'trackID_']:\n",
    "    branches.append('{}.{}'.format(ecalSP_branch, leaf))\n",
    "    branches.append('{}.{}'.format(tSP_branch, leaf))\n",
    "\n",
    "# add the eventNumber leaf\n",
    "branches.append('EventHeader/eventNumber_')"
   ]
  },
  {
   "cell_type": "code",
   "execution_count": 15,
   "metadata": {},
   "outputs": [],
   "source": [
    "# use uproot and load all of the data into a dictionary: {'leaf1': [data], 'leaf2': [data], ...}\n",
    "t = uproot.open(filename)['LDMX_Events']\n",
    "table = t.arrays(expressions=branches, interpretation_executor=executor)\n",
    "\n",
    "# we store all of our data into the dictionary \"tree\"\n",
    "tree = {}\n",
    "for branch in branches:\n",
    "    tree[branch] = table[branch]\n",
    "\n",
    "#print(tree)\n"
   ]
  },
  {
   "cell_type": "code",
   "execution_count": 16,
   "metadata": {},
   "outputs": [],
   "source": [
    "# find the number of events that pass through the vetoes\n",
    "# record the event numbers of the events that pass through the vetoes\n",
    "events = 0\n",
    "eventNumbers = []\n",
    "for event in range(len(tree['EventHeader/eventNumber_'])):\n",
    "    events +=1\n",
    "    eventNumbers.append(tree['EventHeader/eventNumber_'][event])\n",
    "\n",
    "#print(events)\n",
    "#print(eventNumbers)\n"
   ]
  },
  {
   "cell_type": "code",
   "execution_count": 17,
   "metadata": {},
   "outputs": [],
   "source": [
    "# calculate the electron and photon trajectories\n",
    "\n",
    "# we will store the data for the trajectory positions inside this dictionary:\n",
    "trajectories = {}\n",
    "b1 = []\n",
    "b2 = []\n",
    "b3 = []\n",
    "b4 = []\n",
    "\n",
    "# loop through all of the events\n",
    "for i in range(len(tree['EventHeader/eventNumber_'])):\n",
    "    tSPHits = {}\n",
    "    ecalSPHits = {}\n",
    "    for x in ['x_', 'y_', 'z_', 'px_', 'py_', 'pz_', 'pdgID_', 'trackID_']:\n",
    "        tSPHits[x] = (table['{}.{}'.format(tSP_branch, x)])[i]\n",
    "        ecalSPHits[x] = (table['{}.{}'.format(ecalSP_branch, x)])[i]\n",
    "   \n",
    "    # find the max pz at the target scoring plane for the recoil electron\n",
    "    max_pz = 0\n",
    "    r = 0\n",
    "    for j in range(len(tSPHits['z_'])):\n",
    "        if tSPHits['pdgID_'][j] == 11 and tSPHits['z_'][j] > 4.4 and tSPHits['z_'][j] < 4.6 and tSPHits['pz_'][j] > max_pz and tSPHits['trackID_'][j] == 1:\n",
    "            max_pz = tSPHits['pz_'][j]\n",
    "            r = j\n",
    "    #print(\"Found recoil e- pz at target for event {}: {}\".format(tree['EventHeader/eventNumber_'][i],max_pz))\n",
    "\n",
    "    # find the max pz at the ecal face for the recoil electron\n",
    "    max_pz_e = 0\n",
    "    r_e = 0\n",
    "    for j in range(len(ecalSPHits['z_'])):\n",
    "        if ecalSPHits['pdgID_'][j] == 11 and ecalSPHits['z_'][j] > 239 and ecalSPHits['z_'][j] < 242 and ecalSPHits['pz_'][j] > max_pz_e and ecalSPHits['trackID_'][j] == 1:\n",
    "            max_pz_e = ecalSPHits['pz_'][j]\n",
    "            r_e = j\n",
    "    fiducial = max_pz_e != 0\n",
    "    \n",
    "    if fiducial:\n",
    "        E_beam = 4000\n",
    "        target_dist = 241.5\n",
    "        # positions and trajectory vectors of recoil e- at Ecal SP\n",
    "        etraj_sp = np.array((ecalSPHits['x_'][r_e], ecalSPHits['y_'][r_e], ecalSPHits['z_'][r_e]))\n",
    "        enorm_sp = np.array((ecalSPHits['px_'][r_e]/ecalSPHits['pz_'][r_e], ecalSPHits['py_'][r_e]/ecalSPHits['pz_'][r_e], 1.0))\n",
    "        # positions and trajectory vectors of photon at Target SP\n",
    "        pnorm_sp = np.array((-tSPHits['px_'][r]/(E_beam - tSPHits['pz_'][r]), -tSPHits['py_'][r]/(E_beam - tSPHits['pz_'][r]), 1.0))\n",
    "        ptraj_sp = np.array((tSPHits['x_'][r] + target_dist*pnorm_sp[0], tSPHits['y_'][r] + target_dist*pnorm_sp[1], tSPHits['z_'][r] + target_dist))\n",
    "        # store the trajectory information \n",
    "        b1.append(etraj_sp)\n",
    "        b2.append(enorm_sp)\n",
    "        b3.append(pnorm_sp)\n",
    "        b4.append(ptraj_sp)\n",
    "    else:\n",
    "        etraj_sp, enorm_sp, ptraj_sp, pnorm_sp = None, None, None, None\n",
    "\n",
    "# store the e- trajectory and its normal vector, store the photon trajectory and its normal vector\n",
    "trajectories['etraj_sp'] = b1\n",
    "trajectories['enorm_sp'] = b2\n",
    "trajectories['pnorm_sp'] = b3\n",
    "trajectories['ptraj_sp'] = b4"
   ]
  },
  {
   "cell_type": "code",
   "execution_count": 18,
   "metadata": {},
   "outputs": [],
   "source": [
    "# loop through each event and cut all of the hits within electron containment radii\n",
    "\n",
    "# this is a new dictionary that will story only the hits that are outside the e- containment radii\n",
    "cutTree = {}\n",
    "\n",
    "eventsX = []\n",
    "eventsY = []\n",
    "eventsZ = []\n",
    "\n",
    "# loop through each event \n",
    "for event in range(len(tree['EcalRecHits_v3_v12/EcalRecHits_v3_v12.xpos_'])):\n",
    "    ecal_front = 240.5\n",
    "    etraj_front = np.array(trajectories['etraj_sp']) \n",
    "    ptraj_front = np.array(trajectories['ptraj_sp']) \n",
    "\n",
    "    # obtain the event's e- trajectory layer intercepts\n",
    "    eLayerIntercepts = []\n",
    "    intercept = (trajectories['etraj_sp'][0][0] + layer_dz*trajectories['enorm_sp'][0][0], \n",
    "                trajectories['etraj_sp'][0][1] + layer_dz*trajectories['enorm_sp'][0][1], \n",
    "                trajectories['etraj_sp'][0][2] + layer_dz*trajectories['enorm_sp'][0][2])\n",
    "    eLayerIntercepts.append(intercept)\n",
    "    eLayerIntercepts = np.array(eLayerIntercepts)    \n",
    "\n",
    "    # obtain the event's photon trajectory layer intercepts\n",
    "    pLayerIntercepts = []\n",
    "    intercept = (trajectories['ptraj_sp'][0][0] + layer_dz*trajectories['pnorm_sp'][0][0], \n",
    "                trajectories['ptraj_sp'][0][1] + layer_dz*trajectories['pnorm_sp'][0][1], \n",
    "                trajectories['ptraj_sp'][0][2] + layer_dz*trajectories['pnorm_sp'][0][2])\n",
    "    pLayerIntercepts.append(intercept)\n",
    "    pLayerIntercepts = np.array(pLayerIntercepts)\n",
    "    \n",
    "    hitsX = []\n",
    "    hitsY = []\n",
    "    hitsZ = []\n",
    "\n",
    "    # loop through each hit within the event\n",
    "    for hit in range(len(tree['EcalRecHits_v3_v12/EcalRecHits_v3_v12.xpos_'][event])):\n",
    "        x = tree['EcalRecHits_v3_v12/EcalRecHits_v3_v12.xpos_'][event][hit]\n",
    "        y = tree['EcalRecHits_v3_v12/EcalRecHits_v3_v12.ypos_'][event][hit]\n",
    "        z = tree['EcalRecHits_v3_v12/EcalRecHits_v3_v12.zpos_'][event][hit]\n",
    "        \n",
    "        # loop through each layer of the ECal and check if its distance from the e- layer intercept is > corresponding layer's containment radius\n",
    "        for layer in range(34):\n",
    "            if z >= layer_z[layer] - .25 and z <= layer_z[layer] + .25:\n",
    "                dist = np.sqrt((eLayerIntercepts[0][0][layer] - x)**2 + (eLayerIntercepts[0][1][layer] - y)**2)\n",
    "                if dist >= radius_beam_68[layer]:\n",
    "                    #print(\"({},{}), eLayerIntercept: ({},{})\".format(x,y,eLayerIntercepts[0][0][layer],eLayerIntercepts[0][1][layer]))\n",
    "\n",
    "                    hitsX.append(x)\n",
    "                    hitsY.append(y)\n",
    "                    hitsZ.append(z)\n",
    "\n",
    "    eventsX.append(hitsX)\n",
    "    eventsY.append(hitsY)\n",
    "    eventsZ.append(hitsZ)\n",
    "\n",
    "# these are our new branches without the hits inside the electron containment radius\n",
    "cutTree['EcalRecHits_v3_v12/EcalRecHits_v3_v12.xpos_'] = eventsX\n",
    "cutTree['EcalRecHits_v3_v12/EcalRecHits_v3_v12.ypos_'] = eventsY\n",
    "cutTree['EcalRecHits_v3_v12/EcalRecHits_v3_v12.zpos_'] = eventsZ\n",
    "\n",
    "#print(len(cutTree['EcalRecHits_v3_v12/EcalRecHits_v3_v12.xpos_'][1]))\n",
    "#print(len(tree['EcalRecHits_v3_v12/EcalRecHits_v3_v12.xpos_'][1]))\n",
    "\n",
    "\n"
   ]
  },
  {
   "cell_type": "code",
   "execution_count": 19,
   "metadata": {},
   "outputs": [
    {
     "name": "stdout",
     "output_type": "stream",
     "text": [
      "[-11.80636857 -12.03805022 -12.59493639 -12.8967602  -13.5110354\n",
      " -13.8766248  -14.544038   -14.93088259 -15.59829579 -15.98514038\n",
      " -16.65255358 -17.03939817 -17.70681137 -18.09365596 -18.76106916\n",
      " -19.14791375 -19.81532695 -20.20217154 -20.86958474 -21.25642934\n",
      " -21.92384253 -22.31068713 -22.97810033 -23.36494492 -24.1811445\n",
      " -24.71677547 -25.53297505 -26.06860603 -26.88480561 -27.42043658\n",
      " -28.23663616 -28.77226714 -29.58846672 -30.12409769]\n",
      "[-2.23791392 -2.22329768 -2.18816504 -2.1691237  -2.13037052 -2.10730635\n",
      " -2.06520083 -2.04079572 -1.9986902  -1.97428509 -1.93217957 -1.90777446\n",
      " -1.86566894 -1.84126383 -1.79915831 -1.7747532  -1.73264768 -1.70824257\n",
      " -1.66613705 -1.64173194 -1.59962642 -1.57522131 -1.53311579 -1.50871068\n",
      " -1.45721858 -1.42342688 -1.37193478 -1.33814309 -1.28665099 -1.2528593\n",
      " -1.2013672  -1.1675755  -1.1160834  -1.08229171]\n",
      "[248.35050354 253.80050354 266.90050354 274.00050354 288.45050354\n",
      " 297.05050354 312.75050354 321.85050354 337.55050354 346.65050354\n",
      " 362.35050354 371.45050354 387.15050354 396.25050354 411.95050354\n",
      " 421.05050354 436.75050354 445.85050354 461.55050354 470.65050354\n",
      " 486.35050354 495.45050354 511.15050354 520.25050354 539.45050354\n",
      " 552.05050354 571.25050354 583.85050354 603.05050354 615.65050354\n",
      " 634.85050354 647.45050354 666.65050354 679.25050354]\n"
     ]
    }
   ],
   "source": [
    "# Debugging code.\n",
    "\n",
    "# Printing out the electron layer intercepts to see if it looks right\n",
    "\n",
    "cutTree = {}\n",
    "eventsX = []\n",
    "eventsY = []\n",
    "eventsZ = []\n",
    "for event in range(1):\n",
    "    ecal_front = 240.5\n",
    "    etraj_front = np.array(trajectories['etraj_sp']) \n",
    "    ptraj_front = np.array(trajectories['ptraj_sp']) \n",
    "\n",
    "    # e- trajectory layer intercepts\n",
    "    eLayerIntercepts = []\n",
    "    intercept = (trajectories['etraj_sp'][0][0] + layer_dz*trajectories['enorm_sp'][0][0], \n",
    "                trajectories['etraj_sp'][0][1] + layer_dz*trajectories['enorm_sp'][0][1], \n",
    "                trajectories['etraj_sp'][0][2] + layer_dz*trajectories['enorm_sp'][0][2])\n",
    "    eLayerIntercepts.append(intercept)\n",
    "    eLayerIntercepts = np.array(eLayerIntercepts) \n",
    "    print(eLayerIntercepts[0][0])\n",
    "    print(eLayerIntercepts[0][1]) \n",
    "    print(eLayerIntercepts[0][2])"
   ]
  },
  {
   "cell_type": "code",
   "execution_count": 20,
   "metadata": {},
   "outputs": [],
   "source": [
    "# Code for writing the hit positions into a .dat file\n",
    "\n",
    "x1 = list(eLayerIntercepts[0][0])\n",
    "y1 = list(eLayerIntercepts[0][1])\n",
    "z1 = list(eLayerIntercepts[0][2])\n",
    "\n",
    "\n",
    "file = open('test.dat', \"w\")\n",
    "for i in range(len(x1)):\n",
    "    file.write(str(x1[i]) + \", \" + str(y1[i]) + \", \" + str(z1[i]) + \"\\n\") \n",
    "file.close()\n"
   ]
  },
  {
   "cell_type": "code",
   "execution_count": 21,
   "metadata": {},
   "outputs": [
    {
     "data": {
      "application/vnd.plotly.v1+json": {
       "config": {
        "plotlyServerURL": "https://plot.ly"
       },
       "data": [
        {
         "hovertemplate": "X (mm)=%{x}<br>Y (mm)=%{y}<br>Z (mm)=%{z}<extra></extra>",
         "legendgroup": "",
         "marker": {
          "color": "#636efa",
          "line": {
           "color": "Red",
           "width": 2
          },
          "size": 3,
          "symbol": "circle"
         },
         "mode": "markers",
         "name": "",
         "scene": "scene",
         "showlegend": false,
         "type": "scatter3d",
         "x": [
          -16.682641983032227,
          -8.341320991516113,
          -12.511981964111328,
          -4.170660495758057,
          -20.853302001953125,
          -16.682641983032227,
          12.511981964111328,
          -8.341320991516113,
          -20.853302001953125,
          -12.511981964111328,
          -8.341320991516113,
          2.6645352591003757e-15,
          -8.341320991516113,
          -29.194623947143555,
          -16.682641983032227,
          70.90122985839844,
          79.2425537109375,
          -41.70660400390625,
          -25.023963928222656,
          -62.55990982055664,
          -20.853302001953125,
          -25.023963928222656,
          -41.70660400390625,
          -12.511981964111328,
          -12.511981964111328,
          -12.511981964111328,
          -12.511981964111328,
          -12.511981964111328,
          -4.170660495758057,
          -12.511981964111328,
          -16.682641983032227,
          -4.170660495758057,
          -12.511981964111328,
          -16.682641983032227,
          -4.170660495758057
         ],
         "y": [
          -9.631728172302246,
          4.815864086151123,
          -2.4079320430755615,
          -60.198299407958984,
          -16.85552406311035,
          -9.631728172302246,
          12.039660453796387,
          -9.631728172302246,
          -2.4079320430755615,
          -16.85552406311035,
          -24.079320907592773,
          -24.079320907592773,
          -24.079320907592773,
          -2.4079320430755615,
          -9.631728172302246,
          -16.85552406311035,
          -16.85552406311035,
          -38.526912689208984,
          33.7110481262207,
          -16.85552406311035,
          55.3824348449707,
          48.15864181518555,
          -38.526912689208984,
          -2.4079320430755615,
          -2.4079320430755615,
          -2.4079320430755615,
          -2.4079320430755615,
          -2.4079320430755615,
          -2.4079320430755615,
          -2.4079320430755615,
          -9.631728172302246,
          -2.4079320430755615,
          -2.4079320430755615,
          -9.631728172302246,
          26.48725128173828
         ],
         "z": [
          387.1499938964844,
          346.6499938964844,
          346.6499938964844,
          266.8999938964844,
          346.6499938964844,
          362.3500061035156,
          337.54998779296875,
          362.3500061035156,
          362.3500061035156,
          371.45001220703125,
          371.45001220703125,
          346.6499938964844,
          337.54998779296875,
          387.1499938964844,
          396.25,
          371.45001220703125,
          371.45001220703125,
          387.1499938964844,
          387.1499938964844,
          436.75,
          266.8999938964844,
          571.25,
          470.6499938964844,
          321.8500061035156,
          253.8000030517578,
          266.8999938964844,
          274,
          288.45001220703125,
          288.45001220703125,
          297.04998779296875,
          297.04998779296875,
          297.04998779296875,
          312.75,
          312.75,
          288.45001220703125
         ]
        },
        {
         "hovertemplate": "X (mm)=%{x}<br>Y (mm)=%{y}<br>Z (mm)=%{z}<extra></extra>",
         "legendgroup": "",
         "line": {
          "color": "#636efa",
          "dash": "solid"
         },
         "marker": {
          "symbol": "circle"
         },
         "mode": "lines",
         "name": "",
         "scene": "scene",
         "showlegend": false,
         "type": "scatter3d",
         "x": [
          -11.806368571237005,
          -12.038050222904715,
          -12.59493639480325,
          -12.896760197893295,
          -13.51103540277374,
          -13.876624798065908,
          -14.544037996448122,
          -14.930882589140996,
          -15.59829578752321,
          -15.985140380216084,
          -16.652553578598297,
          -17.03939817129117,
          -17.706811369673385,
          -18.09365596236626,
          -18.761069160748473,
          -19.14791375344135,
          -19.81532695182356,
          -20.20217154451644,
          -20.869584742898653,
          -21.256429335591527,
          -21.923842533973737,
          -22.310687126666615,
          -22.978100325048825,
          -23.364944917741703,
          -24.181144497928866,
          -24.716775472426693,
          -25.532975052613857,
          -26.068606027111684,
          -26.88480560729885,
          -27.42043658179668,
          -28.236636161983842,
          -28.77226713648167,
          -29.588466716668833,
          -30.12409769116666
         ],
         "y": [
          -2.237913924154606,
          -2.2232976766363644,
          -2.1881650449870134,
          -2.169123695009121,
          -2.1303705249836917,
          -2.1073063545879345,
          -2.0652008342142847,
          -2.0407957236792393,
          -1.99869020330559,
          -1.9742850927705444,
          -1.9321795723968949,
          -1.9077744618618495,
          -1.8656689414881997,
          -1.8412638309531544,
          -1.7991583105795048,
          -1.7747532000444595,
          -1.73264767967081,
          -1.7082425691357646,
          -1.6661370487621148,
          -1.6417319382270694,
          -1.5996264178534196,
          -1.5752213073183743,
          -1.533115786944725,
          -1.5087106764096794,
          -1.4572185750610123,
          -1.4234268835509494,
          -1.3719347822022825,
          -1.3381430906922196,
          -1.2866509893435523,
          -1.2528592978334898,
          -1.2013671964848225,
          -1.1675755049747598,
          -1.1160834036260927,
          -1.0822917121160298
         ],
         "z": [
          248.35050354003906,
          253.80050354003907,
          266.90050354003904,
          274.00050354003906,
          288.45050354003905,
          297.0505035400391,
          312.75050354003906,
          321.8505035400391,
          337.5505035400391,
          346.65050354003904,
          362.3505035400391,
          371.45050354003905,
          387.15050354003904,
          396.25050354003906,
          411.95050354003905,
          421.0505035400391,
          436.75050354003906,
          445.8505035400391,
          461.5505035400391,
          470.65050354003904,
          486.3505035400391,
          495.45050354003905,
          511.15050354003904,
          520.2505035400391,
          539.4505035400391,
          552.050503540039,
          571.2505035400391,
          583.8505035400391,
          603.050503540039,
          615.650503540039,
          634.8505035400391,
          647.4505035400391,
          666.650503540039,
          679.2505035400391
         ]
        }
       ],
       "layout": {
        "autosize": false,
        "margin": {
         "b": 10,
         "l": 10,
         "r": 20,
         "t": 10
        },
        "scene": {
         "xaxis": {
          "nticks": 6,
          "range": [
           -15,
           -5
          ]
         },
         "yaxis": {
          "nticks": 10,
          "range": [
           -10,
           0
          ]
         },
         "zaxis": {
          "nticks": 10,
          "range": [
           240,
           300
          ]
         }
        },
        "template": {
         "data": {
          "bar": [
           {
            "error_x": {
             "color": "#2a3f5f"
            },
            "error_y": {
             "color": "#2a3f5f"
            },
            "marker": {
             "line": {
              "color": "#E5ECF6",
              "width": 0.5
             },
             "pattern": {
              "fillmode": "overlay",
              "size": 10,
              "solidity": 0.2
             }
            },
            "type": "bar"
           }
          ],
          "barpolar": [
           {
            "marker": {
             "line": {
              "color": "#E5ECF6",
              "width": 0.5
             },
             "pattern": {
              "fillmode": "overlay",
              "size": 10,
              "solidity": 0.2
             }
            },
            "type": "barpolar"
           }
          ],
          "carpet": [
           {
            "aaxis": {
             "endlinecolor": "#2a3f5f",
             "gridcolor": "white",
             "linecolor": "white",
             "minorgridcolor": "white",
             "startlinecolor": "#2a3f5f"
            },
            "baxis": {
             "endlinecolor": "#2a3f5f",
             "gridcolor": "white",
             "linecolor": "white",
             "minorgridcolor": "white",
             "startlinecolor": "#2a3f5f"
            },
            "type": "carpet"
           }
          ],
          "choropleth": [
           {
            "colorbar": {
             "outlinewidth": 0,
             "ticks": ""
            },
            "type": "choropleth"
           }
          ],
          "contour": [
           {
            "colorbar": {
             "outlinewidth": 0,
             "ticks": ""
            },
            "colorscale": [
             [
              0,
              "#0d0887"
             ],
             [
              0.1111111111111111,
              "#46039f"
             ],
             [
              0.2222222222222222,
              "#7201a8"
             ],
             [
              0.3333333333333333,
              "#9c179e"
             ],
             [
              0.4444444444444444,
              "#bd3786"
             ],
             [
              0.5555555555555556,
              "#d8576b"
             ],
             [
              0.6666666666666666,
              "#ed7953"
             ],
             [
              0.7777777777777778,
              "#fb9f3a"
             ],
             [
              0.8888888888888888,
              "#fdca26"
             ],
             [
              1,
              "#f0f921"
             ]
            ],
            "type": "contour"
           }
          ],
          "contourcarpet": [
           {
            "colorbar": {
             "outlinewidth": 0,
             "ticks": ""
            },
            "type": "contourcarpet"
           }
          ],
          "heatmap": [
           {
            "colorbar": {
             "outlinewidth": 0,
             "ticks": ""
            },
            "colorscale": [
             [
              0,
              "#0d0887"
             ],
             [
              0.1111111111111111,
              "#46039f"
             ],
             [
              0.2222222222222222,
              "#7201a8"
             ],
             [
              0.3333333333333333,
              "#9c179e"
             ],
             [
              0.4444444444444444,
              "#bd3786"
             ],
             [
              0.5555555555555556,
              "#d8576b"
             ],
             [
              0.6666666666666666,
              "#ed7953"
             ],
             [
              0.7777777777777778,
              "#fb9f3a"
             ],
             [
              0.8888888888888888,
              "#fdca26"
             ],
             [
              1,
              "#f0f921"
             ]
            ],
            "type": "heatmap"
           }
          ],
          "heatmapgl": [
           {
            "colorbar": {
             "outlinewidth": 0,
             "ticks": ""
            },
            "colorscale": [
             [
              0,
              "#0d0887"
             ],
             [
              0.1111111111111111,
              "#46039f"
             ],
             [
              0.2222222222222222,
              "#7201a8"
             ],
             [
              0.3333333333333333,
              "#9c179e"
             ],
             [
              0.4444444444444444,
              "#bd3786"
             ],
             [
              0.5555555555555556,
              "#d8576b"
             ],
             [
              0.6666666666666666,
              "#ed7953"
             ],
             [
              0.7777777777777778,
              "#fb9f3a"
             ],
             [
              0.8888888888888888,
              "#fdca26"
             ],
             [
              1,
              "#f0f921"
             ]
            ],
            "type": "heatmapgl"
           }
          ],
          "histogram": [
           {
            "marker": {
             "pattern": {
              "fillmode": "overlay",
              "size": 10,
              "solidity": 0.2
             }
            },
            "type": "histogram"
           }
          ],
          "histogram2d": [
           {
            "colorbar": {
             "outlinewidth": 0,
             "ticks": ""
            },
            "colorscale": [
             [
              0,
              "#0d0887"
             ],
             [
              0.1111111111111111,
              "#46039f"
             ],
             [
              0.2222222222222222,
              "#7201a8"
             ],
             [
              0.3333333333333333,
              "#9c179e"
             ],
             [
              0.4444444444444444,
              "#bd3786"
             ],
             [
              0.5555555555555556,
              "#d8576b"
             ],
             [
              0.6666666666666666,
              "#ed7953"
             ],
             [
              0.7777777777777778,
              "#fb9f3a"
             ],
             [
              0.8888888888888888,
              "#fdca26"
             ],
             [
              1,
              "#f0f921"
             ]
            ],
            "type": "histogram2d"
           }
          ],
          "histogram2dcontour": [
           {
            "colorbar": {
             "outlinewidth": 0,
             "ticks": ""
            },
            "colorscale": [
             [
              0,
              "#0d0887"
             ],
             [
              0.1111111111111111,
              "#46039f"
             ],
             [
              0.2222222222222222,
              "#7201a8"
             ],
             [
              0.3333333333333333,
              "#9c179e"
             ],
             [
              0.4444444444444444,
              "#bd3786"
             ],
             [
              0.5555555555555556,
              "#d8576b"
             ],
             [
              0.6666666666666666,
              "#ed7953"
             ],
             [
              0.7777777777777778,
              "#fb9f3a"
             ],
             [
              0.8888888888888888,
              "#fdca26"
             ],
             [
              1,
              "#f0f921"
             ]
            ],
            "type": "histogram2dcontour"
           }
          ],
          "mesh3d": [
           {
            "colorbar": {
             "outlinewidth": 0,
             "ticks": ""
            },
            "type": "mesh3d"
           }
          ],
          "parcoords": [
           {
            "line": {
             "colorbar": {
              "outlinewidth": 0,
              "ticks": ""
             }
            },
            "type": "parcoords"
           }
          ],
          "pie": [
           {
            "automargin": true,
            "type": "pie"
           }
          ],
          "scatter": [
           {
            "fillpattern": {
             "fillmode": "overlay",
             "size": 10,
             "solidity": 0.2
            },
            "type": "scatter"
           }
          ],
          "scatter3d": [
           {
            "line": {
             "colorbar": {
              "outlinewidth": 0,
              "ticks": ""
             }
            },
            "marker": {
             "colorbar": {
              "outlinewidth": 0,
              "ticks": ""
             }
            },
            "type": "scatter3d"
           }
          ],
          "scattercarpet": [
           {
            "marker": {
             "colorbar": {
              "outlinewidth": 0,
              "ticks": ""
             }
            },
            "type": "scattercarpet"
           }
          ],
          "scattergeo": [
           {
            "marker": {
             "colorbar": {
              "outlinewidth": 0,
              "ticks": ""
             }
            },
            "type": "scattergeo"
           }
          ],
          "scattergl": [
           {
            "marker": {
             "colorbar": {
              "outlinewidth": 0,
              "ticks": ""
             }
            },
            "type": "scattergl"
           }
          ],
          "scattermapbox": [
           {
            "marker": {
             "colorbar": {
              "outlinewidth": 0,
              "ticks": ""
             }
            },
            "type": "scattermapbox"
           }
          ],
          "scatterpolar": [
           {
            "marker": {
             "colorbar": {
              "outlinewidth": 0,
              "ticks": ""
             }
            },
            "type": "scatterpolar"
           }
          ],
          "scatterpolargl": [
           {
            "marker": {
             "colorbar": {
              "outlinewidth": 0,
              "ticks": ""
             }
            },
            "type": "scatterpolargl"
           }
          ],
          "scatterternary": [
           {
            "marker": {
             "colorbar": {
              "outlinewidth": 0,
              "ticks": ""
             }
            },
            "type": "scatterternary"
           }
          ],
          "surface": [
           {
            "colorbar": {
             "outlinewidth": 0,
             "ticks": ""
            },
            "colorscale": [
             [
              0,
              "#0d0887"
             ],
             [
              0.1111111111111111,
              "#46039f"
             ],
             [
              0.2222222222222222,
              "#7201a8"
             ],
             [
              0.3333333333333333,
              "#9c179e"
             ],
             [
              0.4444444444444444,
              "#bd3786"
             ],
             [
              0.5555555555555556,
              "#d8576b"
             ],
             [
              0.6666666666666666,
              "#ed7953"
             ],
             [
              0.7777777777777778,
              "#fb9f3a"
             ],
             [
              0.8888888888888888,
              "#fdca26"
             ],
             [
              1,
              "#f0f921"
             ]
            ],
            "type": "surface"
           }
          ],
          "table": [
           {
            "cells": {
             "fill": {
              "color": "#EBF0F8"
             },
             "line": {
              "color": "white"
             }
            },
            "header": {
             "fill": {
              "color": "#C8D4E3"
             },
             "line": {
              "color": "white"
             }
            },
            "type": "table"
           }
          ]
         },
         "layout": {
          "annotationdefaults": {
           "arrowcolor": "#2a3f5f",
           "arrowhead": 0,
           "arrowwidth": 1
          },
          "autotypenumbers": "strict",
          "coloraxis": {
           "colorbar": {
            "outlinewidth": 0,
            "ticks": ""
           }
          },
          "colorscale": {
           "diverging": [
            [
             0,
             "#8e0152"
            ],
            [
             0.1,
             "#c51b7d"
            ],
            [
             0.2,
             "#de77ae"
            ],
            [
             0.3,
             "#f1b6da"
            ],
            [
             0.4,
             "#fde0ef"
            ],
            [
             0.5,
             "#f7f7f7"
            ],
            [
             0.6,
             "#e6f5d0"
            ],
            [
             0.7,
             "#b8e186"
            ],
            [
             0.8,
             "#7fbc41"
            ],
            [
             0.9,
             "#4d9221"
            ],
            [
             1,
             "#276419"
            ]
           ],
           "sequential": [
            [
             0,
             "#0d0887"
            ],
            [
             0.1111111111111111,
             "#46039f"
            ],
            [
             0.2222222222222222,
             "#7201a8"
            ],
            [
             0.3333333333333333,
             "#9c179e"
            ],
            [
             0.4444444444444444,
             "#bd3786"
            ],
            [
             0.5555555555555556,
             "#d8576b"
            ],
            [
             0.6666666666666666,
             "#ed7953"
            ],
            [
             0.7777777777777778,
             "#fb9f3a"
            ],
            [
             0.8888888888888888,
             "#fdca26"
            ],
            [
             1,
             "#f0f921"
            ]
           ],
           "sequentialminus": [
            [
             0,
             "#0d0887"
            ],
            [
             0.1111111111111111,
             "#46039f"
            ],
            [
             0.2222222222222222,
             "#7201a8"
            ],
            [
             0.3333333333333333,
             "#9c179e"
            ],
            [
             0.4444444444444444,
             "#bd3786"
            ],
            [
             0.5555555555555556,
             "#d8576b"
            ],
            [
             0.6666666666666666,
             "#ed7953"
            ],
            [
             0.7777777777777778,
             "#fb9f3a"
            ],
            [
             0.8888888888888888,
             "#fdca26"
            ],
            [
             1,
             "#f0f921"
            ]
           ]
          },
          "colorway": [
           "#636efa",
           "#EF553B",
           "#00cc96",
           "#ab63fa",
           "#FFA15A",
           "#19d3f3",
           "#FF6692",
           "#B6E880",
           "#FF97FF",
           "#FECB52"
          ],
          "font": {
           "color": "#2a3f5f"
          },
          "geo": {
           "bgcolor": "white",
           "lakecolor": "white",
           "landcolor": "#E5ECF6",
           "showlakes": true,
           "showland": true,
           "subunitcolor": "white"
          },
          "hoverlabel": {
           "align": "left"
          },
          "hovermode": "closest",
          "mapbox": {
           "style": "light"
          },
          "paper_bgcolor": "white",
          "plot_bgcolor": "#E5ECF6",
          "polar": {
           "angularaxis": {
            "gridcolor": "white",
            "linecolor": "white",
            "ticks": ""
           },
           "bgcolor": "#E5ECF6",
           "radialaxis": {
            "gridcolor": "white",
            "linecolor": "white",
            "ticks": ""
           }
          },
          "scene": {
           "xaxis": {
            "backgroundcolor": "#E5ECF6",
            "gridcolor": "white",
            "gridwidth": 2,
            "linecolor": "white",
            "showbackground": true,
            "ticks": "",
            "zerolinecolor": "white"
           },
           "yaxis": {
            "backgroundcolor": "#E5ECF6",
            "gridcolor": "white",
            "gridwidth": 2,
            "linecolor": "white",
            "showbackground": true,
            "ticks": "",
            "zerolinecolor": "white"
           },
           "zaxis": {
            "backgroundcolor": "#E5ECF6",
            "gridcolor": "white",
            "gridwidth": 2,
            "linecolor": "white",
            "showbackground": true,
            "ticks": "",
            "zerolinecolor": "white"
           }
          },
          "shapedefaults": {
           "line": {
            "color": "#2a3f5f"
           }
          },
          "ternary": {
           "aaxis": {
            "gridcolor": "white",
            "linecolor": "white",
            "ticks": ""
           },
           "baxis": {
            "gridcolor": "white",
            "linecolor": "white",
            "ticks": ""
           },
           "bgcolor": "#E5ECF6",
           "caxis": {
            "gridcolor": "white",
            "linecolor": "white",
            "ticks": ""
           }
          },
          "title": {
           "x": 0.05
          },
          "xaxis": {
           "automargin": true,
           "gridcolor": "white",
           "linecolor": "white",
           "ticks": "",
           "title": {
            "standoff": 15
           },
           "zerolinecolor": "white",
           "zerolinewidth": 2
          },
          "yaxis": {
           "automargin": true,
           "gridcolor": "white",
           "linecolor": "white",
           "ticks": "",
           "title": {
            "standoff": 15
           },
           "zerolinecolor": "white",
           "zerolinewidth": 2
          }
         }
        },
        "xaxis": {
         "range": [
          -100,
          100
         ]
        },
        "yaxis": {
         "range": [
          -100,
          100
         ]
        }
       }
      }
     },
     "metadata": {},
     "output_type": "display_data"
    }
   ],
   "source": [
    "# Plot all of the points and trajectories\n",
    "import plotly.graph_objects as go\n",
    "import plotly.express as px\n",
    "\n",
    "# for event 1\n",
    "x_vals = []\n",
    "y_vals = []\n",
    "z_vals = []\n",
    "\n",
    "# store all of the position values\n",
    "for hit in range(len(tree['EcalRecHits_v3_v12/EcalRecHits_v3_v12.xpos_'])):\n",
    "    x_vals.append(tree['EcalRecHits_v3_v12/EcalRecHits_v3_v12.xpos_'][0][hit])\n",
    "    y_vals.append(tree['EcalRecHits_v3_v12/EcalRecHits_v3_v12.ypos_'][0][hit])\n",
    "    z_vals.append(tree['EcalRecHits_v3_v12/EcalRecHits_v3_v12.zpos_'][0][hit])\n",
    "\n",
    "df = {}\n",
    "df['x'] = x_vals\n",
    "df['y'] = y_vals\n",
    "df['z'] = z_vals\n",
    "\n",
    "\n",
    "eLayerIntercepts = []\n",
    "intercept = (trajectories['etraj_sp'][0][0] + layer_dz*trajectories['enorm_sp'][0][0], \n",
    "                trajectories['etraj_sp'][0][1] + layer_dz*trajectories['enorm_sp'][0][1], \n",
    "                trajectories['etraj_sp'][0][2] + layer_dz*trajectories['enorm_sp'][0][2])\n",
    "eLayerIntercepts.append(intercept)\n",
    "\n",
    "traj = {}\n",
    "traj['trajz'] = eLayerIntercepts[0][2]\n",
    "traj['trajx'] = eLayerIntercepts[0][0]\n",
    "traj['trajy'] = eLayerIntercepts[0][1]\n",
    "\n",
    "\n",
    "fig1 = px.scatter_3d(df,x='x', y='y', z='z', labels={\n",
    "                     \"x\": \"X (mm)\",\n",
    "                     \"y\": \"Y (mm)\",\n",
    "                     \"z\": \"Z (mm)\"}, width=700,height=700)\n",
    "\n",
    "fig2 = px.line_3d(traj, x=\"trajx\", y=\"trajy\", z=\"trajz\", labels={\n",
    "                     \"trajx\": \"X (mm)\",\n",
    "                     \"trajy\": \"Y (mm)\",\n",
    "                     \"trajz\": \"Z (mm)\"})\n",
    "\n",
    "\n",
    "fig3 = go.Figure(data=fig1.data + fig2.data)\n",
    "fig3.update_xaxes(range=[-100, 100])\n",
    "fig3.update_yaxes(range=[-100, 100])\n",
    "fig3.update_layout(\n",
    "    scene = dict(\n",
    "        xaxis = dict(nticks=6, range=[-15,-5],),\n",
    "                     yaxis = dict(nticks=10, range=[-10,0],),\n",
    "                     zaxis = dict(nticks=10, range=[240,300],),),\n",
    "    autosize=False,\n",
    "    margin=dict(r=20, l=10, b=10, t=10))\n",
    "fig3.update_traces(marker=dict(size=3,\n",
    "                              line=dict(width=2,\n",
    "                                        color='Red')),\n",
    "                  selector=dict(mode='markers'))\n",
    "\n",
    "\n",
    "fig3.show()"
   ]
  }
 ],
 "metadata": {
  "kernelspec": {
   "display_name": "Python 3.8.5 ('base')",
   "language": "python",
   "name": "python3"
  },
  "language_info": {
   "codemirror_mode": {
    "name": "ipython",
    "version": 3
   },
   "file_extension": ".py",
   "mimetype": "text/x-python",
   "name": "python",
   "nbconvert_exporter": "python",
   "pygments_lexer": "ipython3",
   "version": "3.8.5"
  },
  "orig_nbformat": 4,
  "vscode": {
   "interpreter": {
    "hash": "00797aeb65c0fcee01712f65908ca620cd9ba7fea561defde96507d75212ab0d"
   }
  }
 },
 "nbformat": 4,
 "nbformat_minor": 2
}
